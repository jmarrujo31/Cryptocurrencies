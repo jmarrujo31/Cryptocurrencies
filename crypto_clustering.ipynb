{
 "cells": [
  {
   "cell_type": "markdown",
   "metadata": {},
   "source": [
    "# Clustering Crypto"
   ]
  },
  {
   "cell_type": "code",
   "execution_count": 43,
   "metadata": {},
   "outputs": [],
   "source": [
    "# Initial imports\n",
    "import pandas as pd\n",
    "import hvplot.pandas\n",
    "from path import Path\n",
    "import plotly.express as px\n",
    "from sklearn.preprocessing import StandardScaler, MinMaxScaler\n",
    "from sklearn.decomposition import PCA\n",
    "from sklearn.cluster import KMeans\n",
    "import matplotlib.pyplot as plt"
   ]
  },
  {
   "cell_type": "markdown",
   "metadata": {},
   "source": [
    "### Deliverable 1: Preprocessing the Data for PCA"
   ]
  },
  {
   "cell_type": "code",
   "execution_count": 2,
   "metadata": {},
   "outputs": [
    {
     "data": {
      "text/html": [
       "<div>\n",
       "<style scoped>\n",
       "    .dataframe tbody tr th:only-of-type {\n",
       "        vertical-align: middle;\n",
       "    }\n",
       "\n",
       "    .dataframe tbody tr th {\n",
       "        vertical-align: top;\n",
       "    }\n",
       "\n",
       "    .dataframe thead th {\n",
       "        text-align: right;\n",
       "    }\n",
       "</style>\n",
       "<table border=\"1\" class=\"dataframe\">\n",
       "  <thead>\n",
       "    <tr style=\"text-align: right;\">\n",
       "      <th></th>\n",
       "      <th>CoinName</th>\n",
       "      <th>Algorithm</th>\n",
       "      <th>IsTrading</th>\n",
       "      <th>ProofType</th>\n",
       "      <th>TotalCoinsMined</th>\n",
       "      <th>TotalCoinSupply</th>\n",
       "    </tr>\n",
       "  </thead>\n",
       "  <tbody>\n",
       "    <tr>\n",
       "      <th>42</th>\n",
       "      <td>42 Coin</td>\n",
       "      <td>Scrypt</td>\n",
       "      <td>True</td>\n",
       "      <td>PoW/PoS</td>\n",
       "      <td>4.199995e+01</td>\n",
       "      <td>42</td>\n",
       "    </tr>\n",
       "    <tr>\n",
       "      <th>365</th>\n",
       "      <td>365Coin</td>\n",
       "      <td>X11</td>\n",
       "      <td>True</td>\n",
       "      <td>PoW/PoS</td>\n",
       "      <td>NaN</td>\n",
       "      <td>2300000000</td>\n",
       "    </tr>\n",
       "    <tr>\n",
       "      <th>404</th>\n",
       "      <td>404Coin</td>\n",
       "      <td>Scrypt</td>\n",
       "      <td>True</td>\n",
       "      <td>PoW/PoS</td>\n",
       "      <td>1.055185e+09</td>\n",
       "      <td>532000000</td>\n",
       "    </tr>\n",
       "    <tr>\n",
       "      <th>611</th>\n",
       "      <td>SixEleven</td>\n",
       "      <td>SHA-256</td>\n",
       "      <td>True</td>\n",
       "      <td>PoW</td>\n",
       "      <td>NaN</td>\n",
       "      <td>611000</td>\n",
       "    </tr>\n",
       "    <tr>\n",
       "      <th>808</th>\n",
       "      <td>808</td>\n",
       "      <td>SHA-256</td>\n",
       "      <td>True</td>\n",
       "      <td>PoW/PoS</td>\n",
       "      <td>0.000000e+00</td>\n",
       "      <td>0</td>\n",
       "    </tr>\n",
       "  </tbody>\n",
       "</table>\n",
       "</div>"
      ],
      "text/plain": [
       "      CoinName Algorithm  IsTrading ProofType  TotalCoinsMined TotalCoinSupply\n",
       "42     42 Coin    Scrypt       True   PoW/PoS     4.199995e+01              42\n",
       "365    365Coin       X11       True   PoW/PoS              NaN      2300000000\n",
       "404    404Coin    Scrypt       True   PoW/PoS     1.055185e+09       532000000\n",
       "611  SixEleven   SHA-256       True       PoW              NaN          611000\n",
       "808        808   SHA-256       True   PoW/PoS     0.000000e+00               0"
      ]
     },
     "execution_count": 2,
     "metadata": {},
     "output_type": "execute_result"
    }
   ],
   "source": [
    "# Load the crypto_data.csv dataset.\n",
    "file_path = \"./Resources/crypto_data.csv\"\n",
    "crypto_df = pd.read_csv(file_path, index_col=0)\n",
    "#crypto_df.count()\n",
    "crypto_df.head()\n",
    "#crypto_df.dtypes"
   ]
  },
  {
   "cell_type": "code",
   "execution_count": 3,
   "metadata": {},
   "outputs": [],
   "source": [
    "# Keep all the cryptocurrencies that are being traded.\n",
    "#crypto_df = crypto_df[crypto_df[\"IsTrading\"] == \"True\"]\n",
    "#crypto_df.count()\n",
    "#crypto_df.head()"
   ]
  },
  {
   "cell_type": "code",
   "execution_count": 4,
   "metadata": {},
   "outputs": [
    {
     "data": {
      "text/plain": [
       "CoinName           1252\n",
       "Algorithm          1252\n",
       "IsTrading          1252\n",
       "ProofType          1252\n",
       "TotalCoinsMined     744\n",
       "TotalCoinSupply    1252\n",
       "dtype: int64"
      ]
     },
     "execution_count": 4,
     "metadata": {},
     "output_type": "execute_result"
    }
   ],
   "source": [
    "# Keep all the cryptocurrencies that have a working algorithm.\n",
    "crypto_df = crypto_df[crypto_df[\"Algorithm\"] != \"N/A\"]\n",
    "crypto_df.count()"
   ]
  },
  {
   "cell_type": "code",
   "execution_count": 5,
   "metadata": {},
   "outputs": [
    {
     "data": {
      "text/html": [
       "<div>\n",
       "<style scoped>\n",
       "    .dataframe tbody tr th:only-of-type {\n",
       "        vertical-align: middle;\n",
       "    }\n",
       "\n",
       "    .dataframe tbody tr th {\n",
       "        vertical-align: top;\n",
       "    }\n",
       "\n",
       "    .dataframe thead th {\n",
       "        text-align: right;\n",
       "    }\n",
       "</style>\n",
       "<table border=\"1\" class=\"dataframe\">\n",
       "  <thead>\n",
       "    <tr style=\"text-align: right;\">\n",
       "      <th></th>\n",
       "      <th>CoinName</th>\n",
       "      <th>Algorithm</th>\n",
       "      <th>ProofType</th>\n",
       "      <th>TotalCoinsMined</th>\n",
       "      <th>TotalCoinSupply</th>\n",
       "    </tr>\n",
       "  </thead>\n",
       "  <tbody>\n",
       "    <tr>\n",
       "      <th>42</th>\n",
       "      <td>42 Coin</td>\n",
       "      <td>Scrypt</td>\n",
       "      <td>PoW/PoS</td>\n",
       "      <td>4.199995e+01</td>\n",
       "      <td>42</td>\n",
       "    </tr>\n",
       "    <tr>\n",
       "      <th>365</th>\n",
       "      <td>365Coin</td>\n",
       "      <td>X11</td>\n",
       "      <td>PoW/PoS</td>\n",
       "      <td>NaN</td>\n",
       "      <td>2300000000</td>\n",
       "    </tr>\n",
       "    <tr>\n",
       "      <th>404</th>\n",
       "      <td>404Coin</td>\n",
       "      <td>Scrypt</td>\n",
       "      <td>PoW/PoS</td>\n",
       "      <td>1.055185e+09</td>\n",
       "      <td>532000000</td>\n",
       "    </tr>\n",
       "    <tr>\n",
       "      <th>611</th>\n",
       "      <td>SixEleven</td>\n",
       "      <td>SHA-256</td>\n",
       "      <td>PoW</td>\n",
       "      <td>NaN</td>\n",
       "      <td>611000</td>\n",
       "    </tr>\n",
       "    <tr>\n",
       "      <th>808</th>\n",
       "      <td>808</td>\n",
       "      <td>SHA-256</td>\n",
       "      <td>PoW/PoS</td>\n",
       "      <td>0.000000e+00</td>\n",
       "      <td>0</td>\n",
       "    </tr>\n",
       "  </tbody>\n",
       "</table>\n",
       "</div>"
      ],
      "text/plain": [
       "      CoinName Algorithm ProofType  TotalCoinsMined TotalCoinSupply\n",
       "42     42 Coin    Scrypt   PoW/PoS     4.199995e+01              42\n",
       "365    365Coin       X11   PoW/PoS              NaN      2300000000\n",
       "404    404Coin    Scrypt   PoW/PoS     1.055185e+09       532000000\n",
       "611  SixEleven   SHA-256       PoW              NaN          611000\n",
       "808        808   SHA-256   PoW/PoS     0.000000e+00               0"
      ]
     },
     "execution_count": 5,
     "metadata": {},
     "output_type": "execute_result"
    }
   ],
   "source": [
    "# Remove the \"IsTrading\" column. \n",
    "crypto_df.drop(columns=[ \"IsTrading\"], inplace=True)\n",
    "crypto_df.head()"
   ]
  },
  {
   "cell_type": "code",
   "execution_count": 6,
   "metadata": {},
   "outputs": [
    {
     "data": {
      "text/plain": [
       "CoinName           744\n",
       "Algorithm          744\n",
       "ProofType          744\n",
       "TotalCoinsMined    744\n",
       "TotalCoinSupply    744\n",
       "dtype: int64"
      ]
     },
     "execution_count": 6,
     "metadata": {},
     "output_type": "execute_result"
    }
   ],
   "source": [
    "# Remove rows that have at least 1 null value.\n",
    "crypto_df = crypto_df.dropna()\n",
    "crypto_df.count()"
   ]
  },
  {
   "cell_type": "code",
   "execution_count": 7,
   "metadata": {},
   "outputs": [
    {
     "data": {
      "text/plain": [
       "CoinName           577\n",
       "Algorithm          577\n",
       "ProofType          577\n",
       "TotalCoinsMined    577\n",
       "TotalCoinSupply    577\n",
       "dtype: int64"
      ]
     },
     "execution_count": 7,
     "metadata": {},
     "output_type": "execute_result"
    }
   ],
   "source": [
    "# Keep the rows where coins are mined.\n",
    "crypto_df = crypto_df[crypto_df[\"TotalCoinsMined\"] > 0]\n",
    "crypto_df.count()"
   ]
  },
  {
   "cell_type": "code",
   "execution_count": 8,
   "metadata": {},
   "outputs": [
    {
     "data": {
      "text/html": [
       "<div>\n",
       "<style scoped>\n",
       "    .dataframe tbody tr th:only-of-type {\n",
       "        vertical-align: middle;\n",
       "    }\n",
       "\n",
       "    .dataframe tbody tr th {\n",
       "        vertical-align: top;\n",
       "    }\n",
       "\n",
       "    .dataframe thead th {\n",
       "        text-align: right;\n",
       "    }\n",
       "</style>\n",
       "<table border=\"1\" class=\"dataframe\">\n",
       "  <thead>\n",
       "    <tr style=\"text-align: right;\">\n",
       "      <th></th>\n",
       "      <th>CoinName</th>\n",
       "    </tr>\n",
       "  </thead>\n",
       "  <tbody>\n",
       "    <tr>\n",
       "      <th>42</th>\n",
       "      <td>42 Coin</td>\n",
       "    </tr>\n",
       "    <tr>\n",
       "      <th>404</th>\n",
       "      <td>404Coin</td>\n",
       "    </tr>\n",
       "    <tr>\n",
       "      <th>1337</th>\n",
       "      <td>EliteCoin</td>\n",
       "    </tr>\n",
       "    <tr>\n",
       "      <th>BTC</th>\n",
       "      <td>Bitcoin</td>\n",
       "    </tr>\n",
       "    <tr>\n",
       "      <th>ETH</th>\n",
       "      <td>Ethereum</td>\n",
       "    </tr>\n",
       "  </tbody>\n",
       "</table>\n",
       "</div>"
      ],
      "text/plain": [
       "       CoinName\n",
       "42      42 Coin\n",
       "404     404Coin\n",
       "1337  EliteCoin\n",
       "BTC     Bitcoin\n",
       "ETH    Ethereum"
      ]
     },
     "execution_count": 8,
     "metadata": {},
     "output_type": "execute_result"
    }
   ],
   "source": [
    "# Create a new DataFrame that holds only the cryptocurrencies names.\n",
    "crypton_df = pd.DataFrame(crypto_df, columns = [\"CoinName\"])\n",
    "crypton_df.head()"
   ]
  },
  {
   "cell_type": "code",
   "execution_count": 9,
   "metadata": {},
   "outputs": [
    {
     "data": {
      "text/html": [
       "<div>\n",
       "<style scoped>\n",
       "    .dataframe tbody tr th:only-of-type {\n",
       "        vertical-align: middle;\n",
       "    }\n",
       "\n",
       "    .dataframe tbody tr th {\n",
       "        vertical-align: top;\n",
       "    }\n",
       "\n",
       "    .dataframe thead th {\n",
       "        text-align: right;\n",
       "    }\n",
       "</style>\n",
       "<table border=\"1\" class=\"dataframe\">\n",
       "  <thead>\n",
       "    <tr style=\"text-align: right;\">\n",
       "      <th></th>\n",
       "      <th>Algorithm</th>\n",
       "      <th>ProofType</th>\n",
       "      <th>TotalCoinsMined</th>\n",
       "      <th>TotalCoinSupply</th>\n",
       "    </tr>\n",
       "  </thead>\n",
       "  <tbody>\n",
       "    <tr>\n",
       "      <th>42</th>\n",
       "      <td>Scrypt</td>\n",
       "      <td>PoW/PoS</td>\n",
       "      <td>4.199995e+01</td>\n",
       "      <td>42</td>\n",
       "    </tr>\n",
       "    <tr>\n",
       "      <th>404</th>\n",
       "      <td>Scrypt</td>\n",
       "      <td>PoW/PoS</td>\n",
       "      <td>1.055185e+09</td>\n",
       "      <td>532000000</td>\n",
       "    </tr>\n",
       "    <tr>\n",
       "      <th>1337</th>\n",
       "      <td>X13</td>\n",
       "      <td>PoW/PoS</td>\n",
       "      <td>2.927942e+10</td>\n",
       "      <td>314159265359</td>\n",
       "    </tr>\n",
       "    <tr>\n",
       "      <th>BTC</th>\n",
       "      <td>SHA-256</td>\n",
       "      <td>PoW</td>\n",
       "      <td>1.792718e+07</td>\n",
       "      <td>21000000</td>\n",
       "    </tr>\n",
       "    <tr>\n",
       "      <th>ETH</th>\n",
       "      <td>Ethash</td>\n",
       "      <td>PoW</td>\n",
       "      <td>1.076842e+08</td>\n",
       "      <td>0</td>\n",
       "    </tr>\n",
       "  </tbody>\n",
       "</table>\n",
       "</div>"
      ],
      "text/plain": [
       "     Algorithm ProofType  TotalCoinsMined TotalCoinSupply\n",
       "42      Scrypt   PoW/PoS     4.199995e+01              42\n",
       "404     Scrypt   PoW/PoS     1.055185e+09       532000000\n",
       "1337       X13   PoW/PoS     2.927942e+10    314159265359\n",
       "BTC    SHA-256       PoW     1.792718e+07        21000000\n",
       "ETH     Ethash       PoW     1.076842e+08               0"
      ]
     },
     "execution_count": 9,
     "metadata": {},
     "output_type": "execute_result"
    }
   ],
   "source": [
    "# Drop the 'CoinName' column since it's not going to be used on the clustering algorithm.\n",
    "crypto_df.drop(columns=[ \"CoinName\"], inplace=True)\n",
    "crypto_df.head()"
   ]
  },
  {
   "cell_type": "code",
   "execution_count": 10,
   "metadata": {},
   "outputs": [
    {
     "name": "stdout",
     "output_type": "stream",
     "text": [
      "(577, 101)\n"
     ]
    },
    {
     "data": {
      "text/html": [
       "<div>\n",
       "<style scoped>\n",
       "    .dataframe tbody tr th:only-of-type {\n",
       "        vertical-align: middle;\n",
       "    }\n",
       "\n",
       "    .dataframe tbody tr th {\n",
       "        vertical-align: top;\n",
       "    }\n",
       "\n",
       "    .dataframe thead th {\n",
       "        text-align: right;\n",
       "    }\n",
       "</style>\n",
       "<table border=\"1\" class=\"dataframe\">\n",
       "  <thead>\n",
       "    <tr style=\"text-align: right;\">\n",
       "      <th></th>\n",
       "      <th>TotalCoinsMined</th>\n",
       "      <th>TotalCoinSupply</th>\n",
       "      <th>Algorithm_1GB AES Pattern Search</th>\n",
       "      <th>Algorithm_536</th>\n",
       "      <th>Algorithm_Argon2d</th>\n",
       "      <th>Algorithm_BLAKE256</th>\n",
       "      <th>Algorithm_Blake</th>\n",
       "      <th>Algorithm_Blake2S</th>\n",
       "      <th>Algorithm_Blake2b</th>\n",
       "      <th>Algorithm_C11</th>\n",
       "      <th>...</th>\n",
       "      <th>ProofType_PoW/PoS</th>\n",
       "      <th>ProofType_PoW/PoS</th>\n",
       "      <th>ProofType_PoW/PoW</th>\n",
       "      <th>ProofType_PoW/nPoS</th>\n",
       "      <th>ProofType_Pos</th>\n",
       "      <th>ProofType_Proof of Authority</th>\n",
       "      <th>ProofType_Proof of Trust</th>\n",
       "      <th>ProofType_TPoS</th>\n",
       "      <th>ProofType_Zero-Knowledge Proof</th>\n",
       "      <th>ProofType_dPoW/PoW</th>\n",
       "    </tr>\n",
       "  </thead>\n",
       "  <tbody>\n",
       "    <tr>\n",
       "      <th>42</th>\n",
       "      <td>4.199995e+01</td>\n",
       "      <td>42</td>\n",
       "      <td>0</td>\n",
       "      <td>0</td>\n",
       "      <td>0</td>\n",
       "      <td>0</td>\n",
       "      <td>0</td>\n",
       "      <td>0</td>\n",
       "      <td>0</td>\n",
       "      <td>0</td>\n",
       "      <td>...</td>\n",
       "      <td>1</td>\n",
       "      <td>0</td>\n",
       "      <td>0</td>\n",
       "      <td>0</td>\n",
       "      <td>0</td>\n",
       "      <td>0</td>\n",
       "      <td>0</td>\n",
       "      <td>0</td>\n",
       "      <td>0</td>\n",
       "      <td>0</td>\n",
       "    </tr>\n",
       "    <tr>\n",
       "      <th>404</th>\n",
       "      <td>1.055185e+09</td>\n",
       "      <td>532000000</td>\n",
       "      <td>0</td>\n",
       "      <td>0</td>\n",
       "      <td>0</td>\n",
       "      <td>0</td>\n",
       "      <td>0</td>\n",
       "      <td>0</td>\n",
       "      <td>0</td>\n",
       "      <td>0</td>\n",
       "      <td>...</td>\n",
       "      <td>1</td>\n",
       "      <td>0</td>\n",
       "      <td>0</td>\n",
       "      <td>0</td>\n",
       "      <td>0</td>\n",
       "      <td>0</td>\n",
       "      <td>0</td>\n",
       "      <td>0</td>\n",
       "      <td>0</td>\n",
       "      <td>0</td>\n",
       "    </tr>\n",
       "    <tr>\n",
       "      <th>1337</th>\n",
       "      <td>2.927942e+10</td>\n",
       "      <td>314159265359</td>\n",
       "      <td>0</td>\n",
       "      <td>0</td>\n",
       "      <td>0</td>\n",
       "      <td>0</td>\n",
       "      <td>0</td>\n",
       "      <td>0</td>\n",
       "      <td>0</td>\n",
       "      <td>0</td>\n",
       "      <td>...</td>\n",
       "      <td>1</td>\n",
       "      <td>0</td>\n",
       "      <td>0</td>\n",
       "      <td>0</td>\n",
       "      <td>0</td>\n",
       "      <td>0</td>\n",
       "      <td>0</td>\n",
       "      <td>0</td>\n",
       "      <td>0</td>\n",
       "      <td>0</td>\n",
       "    </tr>\n",
       "    <tr>\n",
       "      <th>BTC</th>\n",
       "      <td>1.792718e+07</td>\n",
       "      <td>21000000</td>\n",
       "      <td>0</td>\n",
       "      <td>0</td>\n",
       "      <td>0</td>\n",
       "      <td>0</td>\n",
       "      <td>0</td>\n",
       "      <td>0</td>\n",
       "      <td>0</td>\n",
       "      <td>0</td>\n",
       "      <td>...</td>\n",
       "      <td>0</td>\n",
       "      <td>0</td>\n",
       "      <td>0</td>\n",
       "      <td>0</td>\n",
       "      <td>0</td>\n",
       "      <td>0</td>\n",
       "      <td>0</td>\n",
       "      <td>0</td>\n",
       "      <td>0</td>\n",
       "      <td>0</td>\n",
       "    </tr>\n",
       "    <tr>\n",
       "      <th>ETH</th>\n",
       "      <td>1.076842e+08</td>\n",
       "      <td>0</td>\n",
       "      <td>0</td>\n",
       "      <td>0</td>\n",
       "      <td>0</td>\n",
       "      <td>0</td>\n",
       "      <td>0</td>\n",
       "      <td>0</td>\n",
       "      <td>0</td>\n",
       "      <td>0</td>\n",
       "      <td>...</td>\n",
       "      <td>0</td>\n",
       "      <td>0</td>\n",
       "      <td>0</td>\n",
       "      <td>0</td>\n",
       "      <td>0</td>\n",
       "      <td>0</td>\n",
       "      <td>0</td>\n",
       "      <td>0</td>\n",
       "      <td>0</td>\n",
       "      <td>0</td>\n",
       "    </tr>\n",
       "    <tr>\n",
       "      <th>LTC</th>\n",
       "      <td>6.303924e+07</td>\n",
       "      <td>84000000</td>\n",
       "      <td>0</td>\n",
       "      <td>0</td>\n",
       "      <td>0</td>\n",
       "      <td>0</td>\n",
       "      <td>0</td>\n",
       "      <td>0</td>\n",
       "      <td>0</td>\n",
       "      <td>0</td>\n",
       "      <td>...</td>\n",
       "      <td>0</td>\n",
       "      <td>0</td>\n",
       "      <td>0</td>\n",
       "      <td>0</td>\n",
       "      <td>0</td>\n",
       "      <td>0</td>\n",
       "      <td>0</td>\n",
       "      <td>0</td>\n",
       "      <td>0</td>\n",
       "      <td>0</td>\n",
       "    </tr>\n",
       "    <tr>\n",
       "      <th>DASH</th>\n",
       "      <td>9.031294e+06</td>\n",
       "      <td>22000000</td>\n",
       "      <td>0</td>\n",
       "      <td>0</td>\n",
       "      <td>0</td>\n",
       "      <td>0</td>\n",
       "      <td>0</td>\n",
       "      <td>0</td>\n",
       "      <td>0</td>\n",
       "      <td>0</td>\n",
       "      <td>...</td>\n",
       "      <td>1</td>\n",
       "      <td>0</td>\n",
       "      <td>0</td>\n",
       "      <td>0</td>\n",
       "      <td>0</td>\n",
       "      <td>0</td>\n",
       "      <td>0</td>\n",
       "      <td>0</td>\n",
       "      <td>0</td>\n",
       "      <td>0</td>\n",
       "    </tr>\n",
       "    <tr>\n",
       "      <th>XMR</th>\n",
       "      <td>1.720114e+07</td>\n",
       "      <td>0</td>\n",
       "      <td>0</td>\n",
       "      <td>0</td>\n",
       "      <td>0</td>\n",
       "      <td>0</td>\n",
       "      <td>0</td>\n",
       "      <td>0</td>\n",
       "      <td>0</td>\n",
       "      <td>0</td>\n",
       "      <td>...</td>\n",
       "      <td>0</td>\n",
       "      <td>0</td>\n",
       "      <td>0</td>\n",
       "      <td>0</td>\n",
       "      <td>0</td>\n",
       "      <td>0</td>\n",
       "      <td>0</td>\n",
       "      <td>0</td>\n",
       "      <td>0</td>\n",
       "      <td>0</td>\n",
       "    </tr>\n",
       "    <tr>\n",
       "      <th>ETC</th>\n",
       "      <td>1.133597e+08</td>\n",
       "      <td>210000000</td>\n",
       "      <td>0</td>\n",
       "      <td>0</td>\n",
       "      <td>0</td>\n",
       "      <td>0</td>\n",
       "      <td>0</td>\n",
       "      <td>0</td>\n",
       "      <td>0</td>\n",
       "      <td>0</td>\n",
       "      <td>...</td>\n",
       "      <td>0</td>\n",
       "      <td>0</td>\n",
       "      <td>0</td>\n",
       "      <td>0</td>\n",
       "      <td>0</td>\n",
       "      <td>0</td>\n",
       "      <td>0</td>\n",
       "      <td>0</td>\n",
       "      <td>0</td>\n",
       "      <td>0</td>\n",
       "    </tr>\n",
       "    <tr>\n",
       "      <th>ZEC</th>\n",
       "      <td>7.383056e+06</td>\n",
       "      <td>21000000</td>\n",
       "      <td>0</td>\n",
       "      <td>0</td>\n",
       "      <td>0</td>\n",
       "      <td>0</td>\n",
       "      <td>0</td>\n",
       "      <td>0</td>\n",
       "      <td>0</td>\n",
       "      <td>0</td>\n",
       "      <td>...</td>\n",
       "      <td>0</td>\n",
       "      <td>0</td>\n",
       "      <td>0</td>\n",
       "      <td>0</td>\n",
       "      <td>0</td>\n",
       "      <td>0</td>\n",
       "      <td>0</td>\n",
       "      <td>0</td>\n",
       "      <td>0</td>\n",
       "      <td>0</td>\n",
       "    </tr>\n",
       "  </tbody>\n",
       "</table>\n",
       "<p>10 rows × 101 columns</p>\n",
       "</div>"
      ],
      "text/plain": [
       "      TotalCoinsMined TotalCoinSupply  Algorithm_1GB AES Pattern Search  \\\n",
       "42       4.199995e+01              42                                 0   \n",
       "404      1.055185e+09       532000000                                 0   \n",
       "1337     2.927942e+10    314159265359                                 0   \n",
       "BTC      1.792718e+07        21000000                                 0   \n",
       "ETH      1.076842e+08               0                                 0   \n",
       "LTC      6.303924e+07        84000000                                 0   \n",
       "DASH     9.031294e+06        22000000                                 0   \n",
       "XMR      1.720114e+07               0                                 0   \n",
       "ETC      1.133597e+08       210000000                                 0   \n",
       "ZEC      7.383056e+06        21000000                                 0   \n",
       "\n",
       "      Algorithm_536  Algorithm_Argon2d  Algorithm_BLAKE256  Algorithm_Blake  \\\n",
       "42                0                  0                   0                0   \n",
       "404               0                  0                   0                0   \n",
       "1337              0                  0                   0                0   \n",
       "BTC               0                  0                   0                0   \n",
       "ETH               0                  0                   0                0   \n",
       "LTC               0                  0                   0                0   \n",
       "DASH              0                  0                   0                0   \n",
       "XMR               0                  0                   0                0   \n",
       "ETC               0                  0                   0                0   \n",
       "ZEC               0                  0                   0                0   \n",
       "\n",
       "      Algorithm_Blake2S  Algorithm_Blake2b  Algorithm_C11  ...  \\\n",
       "42                    0                  0              0  ...   \n",
       "404                   0                  0              0  ...   \n",
       "1337                  0                  0              0  ...   \n",
       "BTC                   0                  0              0  ...   \n",
       "ETH                   0                  0              0  ...   \n",
       "LTC                   0                  0              0  ...   \n",
       "DASH                  0                  0              0  ...   \n",
       "XMR                   0                  0              0  ...   \n",
       "ETC                   0                  0              0  ...   \n",
       "ZEC                   0                  0              0  ...   \n",
       "\n",
       "      ProofType_PoW/PoS  ProofType_PoW/PoS   ProofType_PoW/PoW  \\\n",
       "42                    1                   0                  0   \n",
       "404                   1                   0                  0   \n",
       "1337                  1                   0                  0   \n",
       "BTC                   0                   0                  0   \n",
       "ETH                   0                   0                  0   \n",
       "LTC                   0                   0                  0   \n",
       "DASH                  1                   0                  0   \n",
       "XMR                   0                   0                  0   \n",
       "ETC                   0                   0                  0   \n",
       "ZEC                   0                   0                  0   \n",
       "\n",
       "      ProofType_PoW/nPoS  ProofType_Pos  ProofType_Proof of Authority  \\\n",
       "42                     0              0                             0   \n",
       "404                    0              0                             0   \n",
       "1337                   0              0                             0   \n",
       "BTC                    0              0                             0   \n",
       "ETH                    0              0                             0   \n",
       "LTC                    0              0                             0   \n",
       "DASH                   0              0                             0   \n",
       "XMR                    0              0                             0   \n",
       "ETC                    0              0                             0   \n",
       "ZEC                    0              0                             0   \n",
       "\n",
       "      ProofType_Proof of Trust  ProofType_TPoS  \\\n",
       "42                           0               0   \n",
       "404                          0               0   \n",
       "1337                         0               0   \n",
       "BTC                          0               0   \n",
       "ETH                          0               0   \n",
       "LTC                          0               0   \n",
       "DASH                         0               0   \n",
       "XMR                          0               0   \n",
       "ETC                          0               0   \n",
       "ZEC                          0               0   \n",
       "\n",
       "      ProofType_Zero-Knowledge Proof  ProofType_dPoW/PoW  \n",
       "42                                 0                   0  \n",
       "404                                0                   0  \n",
       "1337                               0                   0  \n",
       "BTC                                0                   0  \n",
       "ETH                                0                   0  \n",
       "LTC                                0                   0  \n",
       "DASH                               0                   0  \n",
       "XMR                                0                   0  \n",
       "ETC                                0                   0  \n",
       "ZEC                                0                   0  \n",
       "\n",
       "[10 rows x 101 columns]"
      ]
     },
     "execution_count": 10,
     "metadata": {},
     "output_type": "execute_result"
    }
   ],
   "source": [
    "# Use get_dummies() to create variables for text features.\n",
    "X = pd.get_dummies(crypto_df, columns=[\"Algorithm\", \"ProofType\"])\n",
    "print(X.shape)\n",
    "X.head(10)"
   ]
  },
  {
   "cell_type": "code",
   "execution_count": 11,
   "metadata": {
    "scrolled": false
   },
   "outputs": [
    {
     "name": "stdout",
     "output_type": "stream",
     "text": [
      "[[-0.11450078 -0.15072489 -0.04166667 -0.04166667 -0.04166667 -0.05897678\n",
      "  -0.0934947  -0.04166667 -0.05897678 -0.05897678 -0.04166667 -0.04166667\n",
      "  -0.18949048 -0.05897678 -0.0934947  -0.04166667 -0.11081833 -0.0722944\n",
      "  -0.04166667 -0.04166667 -0.1518211  -0.04166667 -0.13280318 -0.04166667\n",
      "  -0.04166667 -0.0835512  -0.05897678 -0.04166667 -0.04166667 -0.04166667\n",
      "  -0.05897678 -0.04166667 -0.0835512  -0.0934947  -0.10250796 -0.04166667\n",
      "  -0.1258772  -0.13280318 -0.1518211  -0.04166667 -0.0835512  -0.04166667\n",
      "  -0.04166667 -0.0722944  -0.17423301 -0.04166667 -0.04166667 -0.04166667\n",
      "  -0.0722944  -0.16888013 -0.30802055 -0.04166667 -0.0934947  -0.0934947\n",
      "  -0.05897678  1.39963365 -0.04166667 -0.04166667 -0.04166667 -0.0835512\n",
      "  -0.04166667 -0.04166667 -0.04166667 -0.04166667 -0.04166667 -0.05897678\n",
      "  -0.04166667 -0.04166667 -0.39536391 -0.04166667 -0.17423301 -0.04166667\n",
      "  -0.0835512  -0.0835512  -0.10250796 -0.04166667 -0.1258772  -0.04166667\n",
      "  -0.04166667 -0.04166667 -0.04166667 -0.04166667 -0.0722944  -0.44395432\n",
      "  -0.04166667 -0.05897678 -0.04166667 -0.04166667 -0.88990194 -0.04166667\n",
      "  -0.04166667  1.41054504 -0.04166667 -0.04166667 -0.04166667 -0.04166667\n",
      "  -0.04166667 -0.04166667 -0.04166667 -0.04166667 -0.04166667]\n",
      " [-0.09041991 -0.14255828 -0.04166667 -0.04166667 -0.04166667 -0.05897678\n",
      "  -0.0934947  -0.04166667 -0.05897678 -0.05897678 -0.04166667 -0.04166667\n",
      "  -0.18949048 -0.05897678 -0.0934947  -0.04166667 -0.11081833 -0.0722944\n",
      "  -0.04166667 -0.04166667 -0.1518211  -0.04166667 -0.13280318 -0.04166667\n",
      "  -0.04166667 -0.0835512  -0.05897678 -0.04166667 -0.04166667 -0.04166667\n",
      "  -0.05897678 -0.04166667 -0.0835512  -0.0934947  -0.10250796 -0.04166667\n",
      "  -0.1258772  -0.13280318 -0.1518211  -0.04166667 -0.0835512  -0.04166667\n",
      "  -0.04166667 -0.0722944  -0.17423301 -0.04166667 -0.04166667 -0.04166667\n",
      "  -0.0722944  -0.16888013 -0.30802055 -0.04166667 -0.0934947  -0.0934947\n",
      "  -0.05897678  1.39963365 -0.04166667 -0.04166667 -0.04166667 -0.0835512\n",
      "  -0.04166667 -0.04166667 -0.04166667 -0.04166667 -0.04166667 -0.05897678\n",
      "  -0.04166667 -0.04166667 -0.39536391 -0.04166667 -0.17423301 -0.04166667\n",
      "  -0.0835512  -0.0835512  -0.10250796 -0.04166667 -0.1258772  -0.04166667\n",
      "  -0.04166667 -0.04166667 -0.04166667 -0.04166667 -0.0722944  -0.44395432\n",
      "  -0.04166667 -0.05897678 -0.04166667 -0.04166667 -0.88990194 -0.04166667\n",
      "  -0.04166667  1.41054504 -0.04166667 -0.04166667 -0.04166667 -0.04166667\n",
      "  -0.04166667 -0.04166667 -0.04166667 -0.04166667 -0.04166667]\n",
      " [ 0.55369883  4.67185916 -0.04166667 -0.04166667 -0.04166667 -0.05897678\n",
      "  -0.0934947  -0.04166667 -0.05897678 -0.05897678 -0.04166667 -0.04166667\n",
      "  -0.18949048 -0.05897678 -0.0934947  -0.04166667 -0.11081833 -0.0722944\n",
      "  -0.04166667 -0.04166667 -0.1518211  -0.04166667 -0.13280318 -0.04166667\n",
      "  -0.04166667 -0.0835512  -0.05897678 -0.04166667 -0.04166667 -0.04166667\n",
      "  -0.05897678 -0.04166667 -0.0835512  -0.0934947  -0.10250796 -0.04166667\n",
      "  -0.1258772  -0.13280318 -0.1518211  -0.04166667 -0.0835512  -0.04166667\n",
      "  -0.04166667 -0.0722944  -0.17423301 -0.04166667 -0.04166667 -0.04166667\n",
      "  -0.0722944  -0.16888013 -0.30802055 -0.04166667 -0.0934947  -0.0934947\n",
      "  -0.05897678 -0.71447268 -0.04166667 -0.04166667 -0.04166667 -0.0835512\n",
      "  -0.04166667 -0.04166667 -0.04166667 -0.04166667 -0.04166667 -0.05897678\n",
      "  -0.04166667 -0.04166667 -0.39536391 -0.04166667  5.73944043 -0.04166667\n",
      "  -0.0835512  -0.0835512  -0.10250796 -0.04166667 -0.1258772  -0.04166667\n",
      "  -0.04166667 -0.04166667 -0.04166667 -0.04166667 -0.0722944  -0.44395432\n",
      "  -0.04166667 -0.05897678 -0.04166667 -0.04166667 -0.88990194 -0.04166667\n",
      "  -0.04166667  1.41054504 -0.04166667 -0.04166667 -0.04166667 -0.04166667\n",
      "  -0.04166667 -0.04166667 -0.04166667 -0.04166667 -0.04166667]\n",
      " [-0.11409166 -0.15040252 -0.04166667 -0.04166667 -0.04166667 -0.05897678\n",
      "  -0.0934947  -0.04166667 -0.05897678 -0.05897678 -0.04166667 -0.04166667\n",
      "  -0.18949048 -0.05897678 -0.0934947  -0.04166667 -0.11081833 -0.0722944\n",
      "  -0.04166667 -0.04166667 -0.1518211  -0.04166667 -0.13280318 -0.04166667\n",
      "  -0.04166667 -0.0835512  -0.05897678 -0.04166667 -0.04166667 -0.04166667\n",
      "  -0.05897678 -0.04166667 -0.0835512  -0.0934947  -0.10250796 -0.04166667\n",
      "  -0.1258772  -0.13280318 -0.1518211  -0.04166667 -0.0835512  -0.04166667\n",
      "  -0.04166667 -0.0722944  -0.17423301 -0.04166667 -0.04166667 -0.04166667\n",
      "  -0.0722944  -0.16888013  3.24653662 -0.04166667 -0.0934947  -0.0934947\n",
      "  -0.05897678 -0.71447268 -0.04166667 -0.04166667 -0.04166667 -0.0835512\n",
      "  -0.04166667 -0.04166667 -0.04166667 -0.04166667 -0.04166667 -0.05897678\n",
      "  -0.04166667 -0.04166667 -0.39536391 -0.04166667 -0.17423301 -0.04166667\n",
      "  -0.0835512  -0.0835512  -0.10250796 -0.04166667 -0.1258772  -0.04166667\n",
      "  -0.04166667 -0.04166667 -0.04166667 -0.04166667 -0.0722944  -0.44395432\n",
      "  -0.04166667 -0.05897678 -0.04166667 -0.04166667  1.12371931 -0.04166667\n",
      "  -0.04166667 -0.70894581 -0.04166667 -0.04166667 -0.04166667 -0.04166667\n",
      "  -0.04166667 -0.04166667 -0.04166667 -0.04166667 -0.04166667]\n",
      " [-0.11204327 -0.15072489 -0.04166667 -0.04166667 -0.04166667 -0.05897678\n",
      "  -0.0934947  -0.04166667 -0.05897678 -0.05897678 -0.04166667 -0.04166667\n",
      "  -0.18949048 -0.05897678 -0.0934947  -0.04166667 -0.11081833 -0.0722944\n",
      "  -0.04166667 -0.04166667 -0.1518211  -0.04166667  7.52994024 -0.04166667\n",
      "  -0.04166667 -0.0835512  -0.05897678 -0.04166667 -0.04166667 -0.04166667\n",
      "  -0.05897678 -0.04166667 -0.0835512  -0.0934947  -0.10250796 -0.04166667\n",
      "  -0.1258772  -0.13280318 -0.1518211  -0.04166667 -0.0835512  -0.04166667\n",
      "  -0.04166667 -0.0722944  -0.17423301 -0.04166667 -0.04166667 -0.04166667\n",
      "  -0.0722944  -0.16888013 -0.30802055 -0.04166667 -0.0934947  -0.0934947\n",
      "  -0.05897678 -0.71447268 -0.04166667 -0.04166667 -0.04166667 -0.0835512\n",
      "  -0.04166667 -0.04166667 -0.04166667 -0.04166667 -0.04166667 -0.05897678\n",
      "  -0.04166667 -0.04166667 -0.39536391 -0.04166667 -0.17423301 -0.04166667\n",
      "  -0.0835512  -0.0835512  -0.10250796 -0.04166667 -0.1258772  -0.04166667\n",
      "  -0.04166667 -0.04166667 -0.04166667 -0.04166667 -0.0722944  -0.44395432\n",
      "  -0.04166667 -0.05897678 -0.04166667 -0.04166667  1.12371931 -0.04166667\n",
      "  -0.04166667 -0.70894581 -0.04166667 -0.04166667 -0.04166667 -0.04166667\n",
      "  -0.04166667 -0.04166667 -0.04166667 -0.04166667 -0.04166667]]\n"
     ]
    }
   ],
   "source": [
    "# Standardize the data with StandardScaler().\n",
    "crypto_scaled = StandardScaler().fit_transform(X)\n",
    "print(crypto_scaled[0:5])"
   ]
  },
  {
   "cell_type": "markdown",
   "metadata": {},
   "source": [
    "### Deliverable 2: Reducing Data Dimensions Using PCA"
   ]
  },
  {
   "cell_type": "code",
   "execution_count": 12,
   "metadata": {},
   "outputs": [],
   "source": [
    "# Using PCA to reduce dimension to three principal components.\n",
    "pca = PCA(n_components=3)\n",
    "crypto_pca = pca.fit_transform(crypto_scaled)"
   ]
  },
  {
   "cell_type": "code",
   "execution_count": 13,
   "metadata": {},
   "outputs": [
    {
     "data": {
      "text/html": [
       "<div>\n",
       "<style scoped>\n",
       "    .dataframe tbody tr th:only-of-type {\n",
       "        vertical-align: middle;\n",
       "    }\n",
       "\n",
       "    .dataframe tbody tr th {\n",
       "        vertical-align: top;\n",
       "    }\n",
       "\n",
       "    .dataframe thead th {\n",
       "        text-align: right;\n",
       "    }\n",
       "</style>\n",
       "<table border=\"1\" class=\"dataframe\">\n",
       "  <thead>\n",
       "    <tr style=\"text-align: right;\">\n",
       "      <th></th>\n",
       "      <th>PC 1</th>\n",
       "      <th>PC 2</th>\n",
       "      <th>PC 3</th>\n",
       "    </tr>\n",
       "  </thead>\n",
       "  <tbody>\n",
       "    <tr>\n",
       "      <th>42</th>\n",
       "      <td>-0.328770</td>\n",
       "      <td>1.082334</td>\n",
       "      <td>-0.510033</td>\n",
       "    </tr>\n",
       "    <tr>\n",
       "      <th>404</th>\n",
       "      <td>-0.311428</td>\n",
       "      <td>1.082373</td>\n",
       "      <td>-0.510282</td>\n",
       "    </tr>\n",
       "    <tr>\n",
       "      <th>1337</th>\n",
       "      <td>2.427866</td>\n",
       "      <td>1.690730</td>\n",
       "      <td>-0.605213</td>\n",
       "    </tr>\n",
       "    <tr>\n",
       "      <th>BTC</th>\n",
       "      <td>-0.131617</td>\n",
       "      <td>-1.329413</td>\n",
       "      <td>0.124146</td>\n",
       "    </tr>\n",
       "    <tr>\n",
       "      <th>ETH</th>\n",
       "      <td>-0.140482</td>\n",
       "      <td>-2.087283</td>\n",
       "      <td>0.389374</td>\n",
       "    </tr>\n",
       "  </tbody>\n",
       "</table>\n",
       "</div>"
      ],
      "text/plain": [
       "          PC 1      PC 2      PC 3\n",
       "42   -0.328770  1.082334 -0.510033\n",
       "404  -0.311428  1.082373 -0.510282\n",
       "1337  2.427866  1.690730 -0.605213\n",
       "BTC  -0.131617 -1.329413  0.124146\n",
       "ETH  -0.140482 -2.087283  0.389374"
      ]
     },
     "execution_count": 13,
     "metadata": {},
     "output_type": "execute_result"
    }
   ],
   "source": [
    "# Create a DataFrame with the three principal components.\n",
    "pcs_df = pd.DataFrame(crypto_pca, columns=['PC 1','PC 2', 'PC 3'], index= crypto_df.index)\n",
    "pcs_df.head()"
   ]
  },
  {
   "cell_type": "markdown",
   "metadata": {},
   "source": [
    "### Deliverable 3: Clustering Crytocurrencies Using K-Means\n",
    "\n",
    "#### Finding the Best Value for `k` Using the Elbow Curve"
   ]
  },
  {
   "cell_type": "code",
   "execution_count": 14,
   "metadata": {},
   "outputs": [
    {
     "data": {},
     "metadata": {},
     "output_type": "display_data"
    },
    {
     "data": {
      "application/vnd.holoviews_exec.v0+json": "",
      "text/html": [
       "<div id='1002'>\n",
       "\n",
       "\n",
       "\n",
       "\n",
       "\n",
       "  <div class=\"bk-root\" id=\"6f0636e3-554b-4b45-9521-26f7cdb52996\" data-root-id=\"1002\"></div>\n",
       "</div>\n",
       "<script type=\"application/javascript\">(function(root) {\n",
       "  function embed_document(root) {\n",
       "    var docs_json = {\"04928535-9e32-4cda-932b-afac9b60d23d\":{\"defs\":[{\"extends\":null,\"module\":null,\"name\":\"ReactiveHTML1\",\"overrides\":[],\"properties\":[]},{\"extends\":null,\"module\":null,\"name\":\"FlexBox1\",\"overrides\":[],\"properties\":[{\"default\":\"flex-start\",\"kind\":null,\"name\":\"align_content\"},{\"default\":\"flex-start\",\"kind\":null,\"name\":\"align_items\"},{\"default\":\"row\",\"kind\":null,\"name\":\"flex_direction\"},{\"default\":\"wrap\",\"kind\":null,\"name\":\"flex_wrap\"},{\"default\":\"flex-start\",\"kind\":null,\"name\":\"justify_content\"}]},{\"extends\":null,\"module\":null,\"name\":\"TemplateActions1\",\"overrides\":[],\"properties\":[{\"default\":0,\"kind\":null,\"name\":\"open_modal\"},{\"default\":0,\"kind\":null,\"name\":\"close_modal\"}]},{\"extends\":null,\"module\":null,\"name\":\"MaterialTemplateActions1\",\"overrides\":[],\"properties\":[{\"default\":0,\"kind\":null,\"name\":\"open_modal\"},{\"default\":0,\"kind\":null,\"name\":\"close_modal\"}]}],\"roots\":{\"references\":[{\"attributes\":{\"tools\":[{\"id\":\"1006\"},{\"id\":\"1024\"},{\"id\":\"1025\"},{\"id\":\"1026\"},{\"id\":\"1027\"},{\"id\":\"1028\"}]},\"id\":\"1030\",\"type\":\"Toolbar\"},{\"attributes\":{},\"id\":\"1024\",\"type\":\"SaveTool\"},{\"attributes\":{},\"id\":\"1061\",\"type\":\"UnionRenderers\"},{\"attributes\":{\"line_alpha\":0.2,\"line_color\":\"#30a2da\",\"line_width\":2,\"x\":{\"field\":\"k\"},\"y\":{\"field\":\"inertia\"}},\"id\":\"1042\",\"type\":\"Line\"},{\"attributes\":{\"below\":[{\"id\":\"1016\"}],\"center\":[{\"id\":\"1019\"},{\"id\":\"1023\"}],\"height\":300,\"left\":[{\"id\":\"1020\"}],\"margin\":[5,5,5,5],\"min_border_bottom\":10,\"min_border_left\":10,\"min_border_right\":10,\"min_border_top\":10,\"renderers\":[{\"id\":\"1043\"}],\"sizing_mode\":\"fixed\",\"title\":{\"id\":\"1008\"},\"toolbar\":{\"id\":\"1030\"},\"width\":700,\"x_range\":{\"id\":\"1004\"},\"x_scale\":{\"id\":\"1012\"},\"y_range\":{\"id\":\"1005\"},\"y_scale\":{\"id\":\"1014\"}},\"id\":\"1007\",\"subtype\":\"Figure\",\"type\":\"Plot\"},{\"attributes\":{\"data\":{\"inertia\":{\"__ndarray__\":\"vkiXIQzIrkA7XFvyieqkQMGq2CkRXJlAzqdgtqZThUAmNvxAjVB9QLrlMzbO/3NA950DPO6rcECbDdIBOvNoQMKWThQvUmVAwPODXUjQYUA=\",\"dtype\":\"float64\",\"order\":\"little\",\"shape\":[10]},\"k\":[1,2,3,4,5,6,7,8,9,10]},\"selected\":{\"id\":\"1038\"},\"selection_policy\":{\"id\":\"1061\"}},\"id\":\"1037\",\"type\":\"ColumnDataSource\"},{\"attributes\":{},\"id\":\"1025\",\"type\":\"PanTool\"},{\"attributes\":{\"margin\":[5,5,5,5],\"name\":\"HSpacer01631\",\"sizing_mode\":\"stretch_width\"},\"id\":\"1003\",\"type\":\"Spacer\"},{\"attributes\":{},\"id\":\"1026\",\"type\":\"WheelZoomTool\"},{\"attributes\":{\"coordinates\":null,\"data_source\":{\"id\":\"1037\"},\"glyph\":{\"id\":\"1040\"},\"group\":null,\"hover_glyph\":null,\"muted_glyph\":{\"id\":\"1042\"},\"nonselection_glyph\":{\"id\":\"1041\"},\"selection_glyph\":{\"id\":\"1045\"},\"view\":{\"id\":\"1044\"}},\"id\":\"1043\",\"type\":\"GlyphRenderer\"},{\"attributes\":{},\"id\":\"1014\",\"type\":\"LinearScale\"},{\"attributes\":{\"overlay\":{\"id\":\"1029\"}},\"id\":\"1027\",\"type\":\"BoxZoomTool\"},{\"attributes\":{\"coordinates\":null,\"group\":null,\"text\":\"Elbow Curve\",\"text_color\":\"black\",\"text_font_size\":\"12pt\"},\"id\":\"1008\",\"type\":\"Title\"},{\"attributes\":{\"children\":[{\"id\":\"1003\"},{\"id\":\"1007\"},{\"id\":\"1073\"}],\"margin\":[0,0,0,0],\"name\":\"Row01627\",\"tags\":[\"embedded\"]},\"id\":\"1002\",\"type\":\"Row\"},{\"attributes\":{},\"id\":\"1028\",\"type\":\"ResetTool\"},{\"attributes\":{\"callback\":null,\"renderers\":[{\"id\":\"1043\"}],\"tags\":[\"hv_created\"],\"tooltips\":[[\"k\",\"@{k}\"],[\"inertia\",\"@{inertia}\"]]},\"id\":\"1006\",\"type\":\"HoverTool\"},{\"attributes\":{\"bottom_units\":\"screen\",\"coordinates\":null,\"fill_alpha\":0.5,\"fill_color\":\"lightgrey\",\"group\":null,\"left_units\":\"screen\",\"level\":\"overlay\",\"line_alpha\":1.0,\"line_color\":\"black\",\"line_dash\":[4,4],\"line_width\":2,\"right_units\":\"screen\",\"syncable\":false,\"top_units\":\"screen\"},\"id\":\"1029\",\"type\":\"BoxAnnotation\"},{\"attributes\":{\"axis\":{\"id\":\"1020\"},\"coordinates\":null,\"dimension\":1,\"grid_line_color\":null,\"group\":null,\"ticker\":null},\"id\":\"1023\",\"type\":\"Grid\"},{\"attributes\":{\"axis_label\":\"k\",\"coordinates\":null,\"formatter\":{\"id\":\"1048\"},\"group\":null,\"major_label_policy\":{\"id\":\"1049\"},\"ticker\":{\"id\":\"1046\"}},\"id\":\"1016\",\"type\":\"LinearAxis\"},{\"attributes\":{},\"id\":\"1012\",\"type\":\"LinearScale\"},{\"attributes\":{\"line_color\":\"#30a2da\",\"line_width\":2,\"x\":{\"field\":\"k\"},\"y\":{\"field\":\"inertia\"}},\"id\":\"1040\",\"type\":\"Line\"},{\"attributes\":{},\"id\":\"1054\",\"type\":\"AllLabels\"},{\"attributes\":{\"axis\":{\"id\":\"1016\"},\"coordinates\":null,\"grid_line_color\":null,\"group\":null,\"ticker\":null},\"id\":\"1019\",\"type\":\"Grid\"},{\"attributes\":{\"end\":10.0,\"reset_end\":10.0,\"reset_start\":1.0,\"start\":1.0,\"tags\":[[[\"k\",\"k\",null]]]},\"id\":\"1004\",\"type\":\"Range1d\"},{\"attributes\":{},\"id\":\"1021\",\"type\":\"BasicTicker\"},{\"attributes\":{},\"id\":\"1038\",\"type\":\"Selection\"},{\"attributes\":{\"axis_label\":\"inertia\",\"coordinates\":null,\"formatter\":{\"id\":\"1053\"},\"group\":null,\"major_label_policy\":{\"id\":\"1054\"},\"ticker\":{\"id\":\"1021\"}},\"id\":\"1020\",\"type\":\"LinearAxis\"},{\"attributes\":{\"line_alpha\":0.1,\"line_color\":\"#30a2da\",\"line_width\":2,\"x\":{\"field\":\"k\"},\"y\":{\"field\":\"inertia\"}},\"id\":\"1041\",\"type\":\"Line\"},{\"attributes\":{},\"id\":\"1048\",\"type\":\"BasicTickFormatter\"},{\"attributes\":{\"source\":{\"id\":\"1037\"}},\"id\":\"1044\",\"type\":\"CDSView\"},{\"attributes\":{},\"id\":\"1053\",\"type\":\"BasicTickFormatter\"},{\"attributes\":{\"end\":4319.775179791089,\"reset_end\":4319.775179791089,\"reset_start\":-237.24265235831456,\"start\":-237.24265235831456,\"tags\":[[[\"inertia\",\"inertia\",null]]]},\"id\":\"1005\",\"type\":\"Range1d\"},{\"attributes\":{\"ticks\":[1,2,3,4,5,6,7,8,9,10]},\"id\":\"1046\",\"type\":\"FixedTicker\"},{\"attributes\":{},\"id\":\"1049\",\"type\":\"AllLabels\"},{\"attributes\":{\"margin\":[5,5,5,5],\"name\":\"HSpacer01632\",\"sizing_mode\":\"stretch_width\"},\"id\":\"1073\",\"type\":\"Spacer\"},{\"attributes\":{\"line_color\":\"#30a2da\",\"line_width\":2,\"x\":{\"field\":\"k\"},\"y\":{\"field\":\"inertia\"}},\"id\":\"1045\",\"type\":\"Line\"}],\"root_ids\":[\"1002\"]},\"title\":\"Bokeh Application\",\"version\":\"2.4.2\"}};\n",
       "    var render_items = [{\"docid\":\"04928535-9e32-4cda-932b-afac9b60d23d\",\"root_ids\":[\"1002\"],\"roots\":{\"1002\":\"6f0636e3-554b-4b45-9521-26f7cdb52996\"}}];\n",
       "    root.Bokeh.embed.embed_items_notebook(docs_json, render_items);\n",
       "  }\n",
       "  if (root.Bokeh !== undefined && root.Bokeh.Panel !== undefined) {\n",
       "    embed_document(root);\n",
       "  } else {\n",
       "    var attempts = 0;\n",
       "    var timer = setInterval(function(root) {\n",
       "      if (root.Bokeh !== undefined && root.Bokeh.Panel !== undefined) {\n",
       "        clearInterval(timer);\n",
       "        embed_document(root);\n",
       "      } else if (document.readyState == \"complete\") {\n",
       "        attempts++;\n",
       "        if (attempts > 200) {\n",
       "          clearInterval(timer);\n",
       "          console.log(\"Bokeh: ERROR: Unable to run BokehJS code because BokehJS library is missing\");\n",
       "        }\n",
       "      }\n",
       "    }, 25, root)\n",
       "  }\n",
       "})(window);</script>"
      ],
      "text/plain": [
       ":Curve   [k]   (inertia)"
      ]
     },
     "execution_count": 14,
     "metadata": {
      "application/vnd.holoviews_exec.v0+json": {
       "id": "1002"
      }
     },
     "output_type": "execute_result"
    }
   ],
   "source": [
    "# Create an elbow curve to find the best value for K.\n",
    "\n",
    "# Find the best value for K\n",
    "inertia = []\n",
    "k = list(range(1, 11))\n",
    "\n",
    "# Calculate the inertia for the range of K values\n",
    "for i in k:\n",
    "    km = KMeans(n_clusters=i, random_state=1)\n",
    "    km.fit(pcs_df)\n",
    "    inertia.append(km.inertia_)\n",
    "\n",
    "# Create the elbow curve\n",
    "elbow_data = {\"k\": k, \"inertia\": inertia}\n",
    "df_elbow = pd.DataFrame(elbow_data)\n",
    "df_elbow.hvplot.line(x=\"k\", y=\"inertia\", xticks=k, title=\"Elbow Curve\")\n"
   ]
  },
  {
   "cell_type": "markdown",
   "metadata": {},
   "source": [
    "Running K-Means with `k=4`"
   ]
  },
  {
   "cell_type": "code",
   "execution_count": 15,
   "metadata": {},
   "outputs": [],
   "source": [
    "# Initialize the K-Means model.\n",
    "model = KMeans(n_clusters=4, random_state=0)\n",
    "\n",
    "# Fit the model\n",
    "model.fit(pcs_df)\n",
    "\n",
    "# Predict clusters\n",
    "predictions = model.predict(pcs_df)"
   ]
  },
  {
   "cell_type": "code",
   "execution_count": 16,
   "metadata": {},
   "outputs": [
    {
     "name": "stdout",
     "output_type": "stream",
     "text": [
      "(577, 9)\n"
     ]
    },
    {
     "data": {
      "text/html": [
       "<div>\n",
       "<style scoped>\n",
       "    .dataframe tbody tr th:only-of-type {\n",
       "        vertical-align: middle;\n",
       "    }\n",
       "\n",
       "    .dataframe tbody tr th {\n",
       "        vertical-align: top;\n",
       "    }\n",
       "\n",
       "    .dataframe thead th {\n",
       "        text-align: right;\n",
       "    }\n",
       "</style>\n",
       "<table border=\"1\" class=\"dataframe\">\n",
       "  <thead>\n",
       "    <tr style=\"text-align: right;\">\n",
       "      <th></th>\n",
       "      <th>Algorithm</th>\n",
       "      <th>ProofType</th>\n",
       "      <th>TotalCoinsMined</th>\n",
       "      <th>TotalCoinSupply</th>\n",
       "      <th>PC 1</th>\n",
       "      <th>PC 2</th>\n",
       "      <th>PC 3</th>\n",
       "      <th>CoinName</th>\n",
       "      <th>Class</th>\n",
       "    </tr>\n",
       "  </thead>\n",
       "  <tbody>\n",
       "    <tr>\n",
       "      <th>42</th>\n",
       "      <td>Scrypt</td>\n",
       "      <td>PoW/PoS</td>\n",
       "      <td>4.199995e+01</td>\n",
       "      <td>42</td>\n",
       "      <td>-0.328770</td>\n",
       "      <td>1.082334</td>\n",
       "      <td>-0.510033</td>\n",
       "      <td>42 Coin</td>\n",
       "      <td>3</td>\n",
       "    </tr>\n",
       "    <tr>\n",
       "      <th>404</th>\n",
       "      <td>Scrypt</td>\n",
       "      <td>PoW/PoS</td>\n",
       "      <td>1.055185e+09</td>\n",
       "      <td>532000000</td>\n",
       "      <td>-0.311428</td>\n",
       "      <td>1.082373</td>\n",
       "      <td>-0.510282</td>\n",
       "      <td>404Coin</td>\n",
       "      <td>3</td>\n",
       "    </tr>\n",
       "    <tr>\n",
       "      <th>1337</th>\n",
       "      <td>X13</td>\n",
       "      <td>PoW/PoS</td>\n",
       "      <td>2.927942e+10</td>\n",
       "      <td>314159265359</td>\n",
       "      <td>2.427866</td>\n",
       "      <td>1.690730</td>\n",
       "      <td>-0.605213</td>\n",
       "      <td>EliteCoin</td>\n",
       "      <td>3</td>\n",
       "    </tr>\n",
       "    <tr>\n",
       "      <th>BTC</th>\n",
       "      <td>SHA-256</td>\n",
       "      <td>PoW</td>\n",
       "      <td>1.792718e+07</td>\n",
       "      <td>21000000</td>\n",
       "      <td>-0.131617</td>\n",
       "      <td>-1.329413</td>\n",
       "      <td>0.124146</td>\n",
       "      <td>Bitcoin</td>\n",
       "      <td>1</td>\n",
       "    </tr>\n",
       "    <tr>\n",
       "      <th>ETH</th>\n",
       "      <td>Ethash</td>\n",
       "      <td>PoW</td>\n",
       "      <td>1.076842e+08</td>\n",
       "      <td>0</td>\n",
       "      <td>-0.140482</td>\n",
       "      <td>-2.087283</td>\n",
       "      <td>0.389374</td>\n",
       "      <td>Ethereum</td>\n",
       "      <td>1</td>\n",
       "    </tr>\n",
       "    <tr>\n",
       "      <th>LTC</th>\n",
       "      <td>Scrypt</td>\n",
       "      <td>PoW</td>\n",
       "      <td>6.303924e+07</td>\n",
       "      <td>84000000</td>\n",
       "      <td>-0.163960</td>\n",
       "      <td>-1.104395</td>\n",
       "      <td>-0.011559</td>\n",
       "      <td>Litecoin</td>\n",
       "      <td>1</td>\n",
       "    </tr>\n",
       "    <tr>\n",
       "      <th>DASH</th>\n",
       "      <td>X11</td>\n",
       "      <td>PoW/PoS</td>\n",
       "      <td>9.031294e+06</td>\n",
       "      <td>22000000</td>\n",
       "      <td>-0.383557</td>\n",
       "      <td>1.325820</td>\n",
       "      <td>-0.431234</td>\n",
       "      <td>Dash</td>\n",
       "      <td>3</td>\n",
       "    </tr>\n",
       "    <tr>\n",
       "      <th>XMR</th>\n",
       "      <td>CryptoNight-V7</td>\n",
       "      <td>PoW</td>\n",
       "      <td>1.720114e+07</td>\n",
       "      <td>0</td>\n",
       "      <td>-0.143578</td>\n",
       "      <td>-2.187657</td>\n",
       "      <td>0.361428</td>\n",
       "      <td>Monero</td>\n",
       "      <td>1</td>\n",
       "    </tr>\n",
       "    <tr>\n",
       "      <th>ETC</th>\n",
       "      <td>Ethash</td>\n",
       "      <td>PoW</td>\n",
       "      <td>1.133597e+08</td>\n",
       "      <td>210000000</td>\n",
       "      <td>-0.138863</td>\n",
       "      <td>-2.087392</td>\n",
       "      <td>0.389362</td>\n",
       "      <td>Ethereum Classic</td>\n",
       "      <td>1</td>\n",
       "    </tr>\n",
       "    <tr>\n",
       "      <th>ZEC</th>\n",
       "      <td>Equihash</td>\n",
       "      <td>PoW</td>\n",
       "      <td>7.383056e+06</td>\n",
       "      <td>21000000</td>\n",
       "      <td>-0.147081</td>\n",
       "      <td>-2.047440</td>\n",
       "      <td>0.330474</td>\n",
       "      <td>ZCash</td>\n",
       "      <td>1</td>\n",
       "    </tr>\n",
       "  </tbody>\n",
       "</table>\n",
       "</div>"
      ],
      "text/plain": [
       "           Algorithm ProofType  TotalCoinsMined TotalCoinSupply      PC 1  \\\n",
       "42            Scrypt   PoW/PoS     4.199995e+01              42 -0.328770   \n",
       "404           Scrypt   PoW/PoS     1.055185e+09       532000000 -0.311428   \n",
       "1337             X13   PoW/PoS     2.927942e+10    314159265359  2.427866   \n",
       "BTC          SHA-256       PoW     1.792718e+07        21000000 -0.131617   \n",
       "ETH           Ethash       PoW     1.076842e+08               0 -0.140482   \n",
       "LTC           Scrypt       PoW     6.303924e+07        84000000 -0.163960   \n",
       "DASH             X11   PoW/PoS     9.031294e+06        22000000 -0.383557   \n",
       "XMR   CryptoNight-V7       PoW     1.720114e+07               0 -0.143578   \n",
       "ETC           Ethash       PoW     1.133597e+08       210000000 -0.138863   \n",
       "ZEC         Equihash       PoW     7.383056e+06        21000000 -0.147081   \n",
       "\n",
       "          PC 2      PC 3          CoinName  Class  \n",
       "42    1.082334 -0.510033           42 Coin      3  \n",
       "404   1.082373 -0.510282           404Coin      3  \n",
       "1337  1.690730 -0.605213         EliteCoin      3  \n",
       "BTC  -1.329413  0.124146           Bitcoin      1  \n",
       "ETH  -2.087283  0.389374          Ethereum      1  \n",
       "LTC  -1.104395 -0.011559          Litecoin      1  \n",
       "DASH  1.325820 -0.431234              Dash      3  \n",
       "XMR  -2.187657  0.361428            Monero      1  \n",
       "ETC  -2.087392  0.389362  Ethereum Classic      1  \n",
       "ZEC  -2.047440  0.330474             ZCash      1  "
      ]
     },
     "execution_count": 16,
     "metadata": {},
     "output_type": "execute_result"
    }
   ],
   "source": [
    "# Create a new DataFrame including predicted clusters and cryptocurrencies features.\n",
    "# Concatentate the crypto_df and pcs_df DataFrames on the same columns.\n",
    "clustered_df = pd.concat([crypto_df,pcs_df], axis = 1, join = 'inner')\n",
    "\n",
    "#  Add a new column, \"CoinName\" to the clustered_df DataFrame that holds the names of the cryptocurrencies. \n",
    "clustered_df['CoinName']= crypton_df.CoinName\n",
    "\n",
    "#  Add a new column, \"Class\" to the clustered_df DataFrame that holds the predictions.\n",
    "clustered_df['Class']= model.labels_\n",
    "\n",
    "# Print the shape of the clustered_df\n",
    "print(clustered_df.shape)\n",
    "clustered_df.head(10)"
   ]
  },
  {
   "cell_type": "markdown",
   "metadata": {},
   "source": [
    "### Deliverable 4: Visualizing Cryptocurrencies Results\n",
    "\n",
    "#### 3D-Scatter with Clusters"
   ]
  },
  {
   "cell_type": "code",
   "execution_count": 61,
   "metadata": {},
   "outputs": [
    {
     "data": {
      "application/vnd.plotly.v1+json": {
       "config": {
        "plotlyServerURL": "https://plot.ly"
       },
       "data": [
        {
         "customdata": [
          [
           "Scrypt"
          ],
          [
           "Scrypt"
          ],
          [
           "X13"
          ],
          [
           "X11"
          ],
          [
           "SHA-512"
          ],
          [
           "SHA-256"
          ],
          [
           "SHA-256"
          ],
          [
           "X15"
          ],
          [
           "Scrypt"
          ],
          [
           "Scrypt"
          ],
          [
           "Scrypt"
          ],
          [
           "Scrypt"
          ],
          [
           "Scrypt"
          ],
          [
           "Scrypt"
          ],
          [
           "Groestl"
          ],
          [
           "PoS"
          ],
          [
           "Scrypt"
          ],
          [
           "Scrypt"
          ],
          [
           "X11"
          ],
          [
           "X11"
          ],
          [
           "SHA3"
          ],
          [
           "Scrypt"
          ],
          [
           "SHA-256"
          ],
          [
           "Scrypt"
          ],
          [
           "X13"
          ],
          [
           "X13"
          ],
          [
           "NeoScrypt"
          ],
          [
           "Scrypt"
          ],
          [
           "Scrypt"
          ],
          [
           "Scrypt"
          ],
          [
           "X11"
          ],
          [
           "X11"
          ],
          [
           "Multiple"
          ],
          [
           "PHI1612"
          ],
          [
           "X11"
          ],
          [
           "Scrypt"
          ],
          [
           "Scrypt"
          ],
          [
           "Scrypt"
          ],
          [
           "X11"
          ],
          [
           "Multiple"
          ],
          [
           "X13"
          ],
          [
           "Scrypt"
          ],
          [
           "Shabal256"
          ],
          [
           "Counterparty"
          ],
          [
           "SHA-256"
          ],
          [
           "Groestl"
          ],
          [
           "Scrypt"
          ],
          [
           "X13"
          ],
          [
           "Scrypt"
          ],
          [
           "Scrypt"
          ],
          [
           "X13"
          ],
          [
           "X11"
          ],
          [
           "Scrypt"
          ],
          [
           "X11"
          ],
          [
           "SHA3"
          ],
          [
           "QUAIT"
          ],
          [
           "X11"
          ],
          [
           "Scrypt"
          ],
          [
           "X13"
          ],
          [
           "SHA-256"
          ],
          [
           "X15"
          ],
          [
           "BLAKE256"
          ],
          [
           "SHA-256"
          ],
          [
           "X11"
          ],
          [
           "SHA-256"
          ],
          [
           "NIST5"
          ],
          [
           "Scrypt"
          ],
          [
           "Scrypt"
          ],
          [
           "X11"
          ],
          [
           "Scrypt"
          ],
          [
           "SHA-256"
          ],
          [
           "Scrypt"
          ],
          [
           "PoS"
          ],
          [
           "X11"
          ],
          [
           "SHA-256"
          ],
          [
           "SHA-256"
          ],
          [
           "NIST5"
          ],
          [
           "X11"
          ],
          [
           "POS 3.0"
          ],
          [
           "Scrypt"
          ],
          [
           "Scrypt"
          ],
          [
           "Scrypt"
          ],
          [
           "X13"
          ],
          [
           "X11"
          ],
          [
           "X11"
          ],
          [
           "Scrypt"
          ],
          [
           "SHA-256"
          ],
          [
           "X11"
          ],
          [
           "Scrypt"
          ],
          [
           "Scrypt"
          ],
          [
           "Scrypt"
          ],
          [
           "Scrypt"
          ],
          [
           "SHA-256D"
          ],
          [
           "PoS"
          ],
          [
           "Scrypt"
          ],
          [
           "X11"
          ],
          [
           "PoS"
          ],
          [
           "X13"
          ],
          [
           "X14"
          ],
          [
           "PoS"
          ],
          [
           "SHA-256D"
          ],
          [
           "DPoS"
          ],
          [
           "X11"
          ],
          [
           "X13"
          ],
          [
           "X11"
          ],
          [
           "PoS"
          ],
          [
           "Scrypt"
          ],
          [
           "Scrypt"
          ],
          [
           "PoS"
          ],
          [
           "X11"
          ],
          [
           "SHA-256"
          ],
          [
           "Scrypt"
          ],
          [
           "X11"
          ],
          [
           "Scrypt"
          ],
          [
           "Scrypt"
          ],
          [
           "X11"
          ],
          [
           "Scrypt"
          ],
          [
           "Scrypt"
          ],
          [
           "Scrypt"
          ],
          [
           "Scrypt"
          ],
          [
           "Quark"
          ],
          [
           "QuBit"
          ],
          [
           "Scrypt"
          ],
          [
           "SHA-256"
          ],
          [
           "X11"
          ],
          [
           "Scrypt"
          ],
          [
           "Scrypt"
          ],
          [
           "Scrypt"
          ],
          [
           "Scrypt"
          ],
          [
           "X13"
          ],
          [
           "Scrypt"
          ],
          [
           "Scrypt"
          ],
          [
           "X11"
          ],
          [
           "Blake2S"
          ],
          [
           "X11"
          ],
          [
           "PoS"
          ],
          [
           "X11"
          ],
          [
           "PoS"
          ],
          [
           "X11"
          ],
          [
           "Scrypt"
          ],
          [
           "Scrypt"
          ],
          [
           "Scrypt"
          ],
          [
           "SHA-256"
          ],
          [
           "X11"
          ],
          [
           "Scrypt"
          ],
          [
           "PoS"
          ],
          [
           "Scrypt"
          ],
          [
           "X15"
          ],
          [
           "SHA-256"
          ],
          [
           "POS 3.0"
          ],
          [
           "536"
          ],
          [
           "NIST5"
          ],
          [
           "NIST5"
          ],
          [
           "Skein"
          ],
          [
           "X13"
          ],
          [
           "Scrypt"
          ],
          [
           "X13"
          ],
          [
           "SkunkHash v2 Raptor"
          ],
          [
           "Skein"
          ],
          [
           "X11"
          ],
          [
           "Scrypt"
          ],
          [
           "VeChainThor Authority"
          ],
          [
           "PoS"
          ],
          [
           "Scrypt"
          ],
          [
           "Scrypt"
          ],
          [
           "SHA-512"
          ],
          [
           "Ouroboros"
          ],
          [
           "X11"
          ],
          [
           "NeoScrypt"
          ],
          [
           "Scrypt"
          ],
          [
           "Lyra2REv2"
          ],
          [
           "Scrypt"
          ],
          [
           "SHA-256"
          ],
          [
           "NIST5"
          ],
          [
           "PHI1612"
          ],
          [
           "Scrypt"
          ],
          [
           "Quark"
          ],
          [
           "POS 2.0"
          ],
          [
           "Scrypt"
          ],
          [
           "SHA-256"
          ],
          [
           "Quark"
          ],
          [
           "X11"
          ],
          [
           "DPoS"
          ],
          [
           "NIST5"
          ],
          [
           "X13"
          ],
          [
           "Scrypt"
          ],
          [
           "NIST5"
          ],
          [
           "Quark"
          ],
          [
           "Scrypt"
          ],
          [
           "Scrypt"
          ],
          [
           "X11"
          ],
          [
           "Scrypt"
          ],
          [
           "Scrypt"
          ],
          [
           "Quark"
          ],
          [
           "Scrypt"
          ],
          [
           "Scrypt"
          ],
          [
           "X11"
          ],
          [
           "Scrypt"
          ],
          [
           "POS 3.0"
          ],
          [
           "Scrypt"
          ],
          [
           "Scrypt"
          ],
          [
           "X11"
          ],
          [
           "SHA-256"
          ],
          [
           "X13"
          ],
          [
           "Proof-of-BibleHash"
          ],
          [
           "Skein"
          ],
          [
           "X11"
          ],
          [
           "Skein"
          ],
          [
           "C11"
          ],
          [
           "X11"
          ],
          [
           "XEVAN"
          ],
          [
           "Scrypt"
          ],
          [
           "VBFT"
          ],
          [
           "PHI1612"
          ],
          [
           "NIST5"
          ],
          [
           "Scrypt"
          ],
          [
           "Scrypt"
          ],
          [
           "Scrypt"
          ],
          [
           "Green Protocol"
          ],
          [
           "PoS"
          ],
          [
           "Scrypt"
          ],
          [
           "Semux BFT consensus"
          ],
          [
           "Quark"
          ],
          [
           "PoS"
          ],
          [
           "X16R"
          ],
          [
           "Scrypt"
          ],
          [
           "XEVAN"
          ],
          [
           "Scrypt"
          ],
          [
           "Scrypt"
          ],
          [
           "Scrypt"
          ],
          [
           "X11"
          ],
          [
           "SHA-256D"
          ],
          [
           "Scrypt"
          ],
          [
           "Scrypt"
          ],
          [
           "X11"
          ],
          [
           "Scrypt"
          ],
          [
           "SHA-256D"
          ],
          [
           "Scrypt"
          ],
          [
           "X15"
          ],
          [
           "Scrypt"
          ],
          [
           "Quark"
          ],
          [
           "Scrypt"
          ],
          [
           "SHA-256"
          ],
          [
           "DPoS"
          ],
          [
           "Scrypt"
          ],
          [
           "X16R"
          ],
          [
           "Quark"
          ],
          [
           "Quark"
          ],
          [
           "Scrypt"
          ],
          [
           "Lyra2REv2"
          ],
          [
           "Quark"
          ],
          [
           "Scrypt"
          ],
          [
           "X11"
          ],
          [
           "X11"
          ],
          [
           "Scrypt"
          ],
          [
           "PoS"
          ],
          [
           "Keccak"
          ],
          [
           "X11"
          ],
          [
           "Tribus"
          ],
          [
           "Scrypt"
          ],
          [
           "NeoScrypt"
          ],
          [
           "SHA-512"
          ],
          [
           "XEVAN"
          ],
          [
           "SHA-512"
          ],
          [
           "Quark"
          ],
          [
           "XEVAN"
          ],
          [
           "X11"
          ],
          [
           "Quark"
          ],
          [
           "Scrypt"
          ],
          [
           "Quark"
          ],
          [
           "Quark"
          ],
          [
           "Scrypt"
          ],
          [
           "X11"
          ],
          [
           "Scrypt"
          ],
          [
           "XEVAN"
          ],
          [
           "SHA-256D"
          ],
          [
           "X11"
          ],
          [
           "X11"
          ],
          [
           "DPoS"
          ],
          [
           "Scrypt"
          ],
          [
           "X11"
          ],
          [
           "Scrypt"
          ],
          [
           "Scrypt"
          ],
          [
           "SHA-256"
          ],
          [
           "Scrypt"
          ],
          [
           "X11"
          ],
          [
           "Scrypt"
          ],
          [
           "SHA-256"
          ],
          [
           "X11"
          ],
          [
           "Scrypt"
          ],
          [
           "Scrypt"
          ],
          [
           "X11"
          ],
          [
           "Scrypt"
          ],
          [
           "PoS"
          ],
          [
           "X11"
          ],
          [
           "SHA-256"
          ],
          [
           "DPoS"
          ],
          [
           "Scrypt"
          ],
          [
           "Scrypt"
          ],
          [
           "NeoScrypt"
          ],
          [
           "X13"
          ],
          [
           "PHI2"
          ],
          [
           "DPoS"
          ],
          [
           "DPoS"
          ],
          [
           "SHA-256"
          ],
          [
           "Lyra2Z"
          ],
          [
           "PoS"
          ],
          [
           "Scrypt"
          ],
          [
           "PoS"
          ],
          [
           "SHA-256"
          ],
          [
           "Scrypt"
          ],
          [
           "Scrypt"
          ],
          [
           "Scrypt"
          ]
         ],
         "hovertemplate": "<b>%{hovertext}</b><br><br>Class=%{marker.color}<br>PC 1=%{x}<br>PC 2=%{y}<br>PC 3=%{z}<br>Algorithm=%{customdata[0]}<extra></extra>",
         "hovertext": [
          "42 Coin",
          "404Coin",
          "EliteCoin",
          "Dash",
          "Bitshares",
          "BitcoinDark",
          "PayCoin",
          "KoboCoin",
          "Aurora Coin",
          "BlueCoin",
          "EnergyCoin",
          "BitBar",
          "CryptoBullion",
          "CasinoCoin",
          "Diamond",
          "Exclusive Coin",
          "FlutterCoin",
          "HoboNickels",
          "HyperStake",
          "IOCoin",
          "MaxCoin",
          "MintCoin",
          "MazaCoin",
          "Nautilus Coin",
          "NavCoin",
          "OpalCoin",
          "Orbitcoin",
          "PotCoin",
          "PhoenixCoin",
          "Reddcoin",
          "SuperCoin",
          "SyncCoin",
          "TeslaCoin",
          "TittieCoin",
          "TorCoin",
          "UnitaryStatus Dollar",
          "UltraCoin",
          "VeriCoin",
          "X11 Coin",
          "Crypti",
          "StealthCoin",
          "ZCC Coin",
          "BurstCoin",
          "StorjCoin",
          "Neutron",
          "FairCoin",
          "RubyCoin",
          "Kore",
          "Dnotes",
          "8BIT Coin",
          "Sativa Coin",
          "Ucoin",
          "Vtorrent",
          "IslaCoin",
          "Nexus",
          "Droidz",
          "Squall Coin",
          "Diggits",
          "Paycon",
          "Emercoin",
          "EverGreenCoin",
          "Decred",
          "EDRCoin",
          "Hitcoin",
          "DubaiCoin",
          "PWR Coin",
          "BillaryCoin",
          "GPU Coin",
          "EuropeCoin",
          "ZeitCoin",
          "SwingCoin",
          "SafeExchangeCoin",
          "Nebuchadnezzar",
          "Ratecoin",
          "Revenu",
          "Clockcoin",
          "VIP Tokens",
          "BitSend",
          "Let it Ride",
          "PutinCoin",
          "iBankCoin",
          "Frankywillcoin",
          "MudraCoin",
          "Lutetium Coin",
          "GoldBlocks",
          "CarterCoin",
          "BitTokens",
          "MustangCoin",
          "ZoneCoin",
          "RootCoin",
          "BitCurrency",
          "Swiscoin",
          "BuzzCoin",
          "Opair",
          "PesoBit",
          "Halloween Coin",
          "CoffeeCoin",
          "RoyalCoin",
          "GanjaCoin V2",
          "TeamUP",
          "LanaCoin",
          "ARK",
          "InsaneCoin",
          "EmberCoin",
          "XenixCoin",
          "FreeCoin",
          "PLNCoin",
          "AquariusCoin",
          "Creatio",
          "Eternity",
          "Eurocoin",
          "BitcoinFast",
          "Stakenet",
          "BitConnect Coin",
          "MoneyCoin",
          "Enigma",
          "Russiacoin",
          "PandaCoin",
          "GameUnits",
          "GAKHcoin",
          "Allsafe",
          "LiteCreed",
          "Klingon Empire Darsek",
          "Internet of People",
          "KushCoin",
          "Printerium",
          "Impeach",
          "Zilbercoin",
          "FirstCoin",
          "FindCoin",
          "OpenChat",
          "RenosCoin",
          "VirtacoinPlus",
          "TajCoin",
          "Impact",
          "Atmos",
          "HappyCoin",
          "MacronCoin",
          "Condensate",
          "Independent Money System",
          "ArgusCoin",
          "LomoCoin",
          "ProCurrency",
          "GoldReserve",
          "GrowthCoin",
          "Phreak",
          "Degas Coin",
          "HTML5 Coin",
          "Ultimate Secure Cash",
          "QTUM",
          "Espers",
          "Denarius",
          "Virta Unique Coin",
          "Bitcoin Planet",
          "BritCoin",
          "Linda",
          "DeepOnion",
          "Signatum",
          "Cream",
          "Monoeci",
          "Draftcoin",
          "Vechain",
          "Stakecoin",
          "CoinonatX",
          "Ethereum Dark",
          "Obsidian",
          "Cardano",
          "Regalcoin",
          "TrezarCoin",
          "TerraNovaCoin",
          "Rupee",
          "WomenCoin",
          "Theresa May Coin",
          "NamoCoin",
          "LUXCoin",
          "Xios",
          "Bitcloud 2.0",
          "KekCoin",
          "BlackholeCoin",
          "Infinity Economics",
          "Alqo",
          "Magnet",
          "Lamden Tau",
          "Electra",
          "Bitcoin Diamond",
          "Cash & Back Coin",
          "Bulwark",
          "Kalkulus",
          "GermanCoin",
          "LiteCoin Ultra",
          "PhantomX",
          "Accolade",
          "OmiseGO Classic",
          "Digiwage",
          "Trollcoin",
          "Litecoin Plus",
          "Monkey Project",
          "ECC",
          "TokenPay",
          "My Big Coin",
          "Unified Society USDEX",
          "BitSoar Coin",
          "Credence Coin",
          "Tokyo Coin",
          "BiblePay",
          "BashCoin",
          "DigiMoney",
          "Lizus Payment",
          "Stipend",
          "Pushi",
          "Ellerium",
          "Velox",
          "Ontology",
          "Seraph",
          "Bitspace",
          "Briacoin",
          "Ignition",
          "MedicCoin",
          "Bitcoin Green",
          "Deviant Coin",
          "Abjcoin",
          "Semux",
          "Carebit",
          "Zealium",
          "Proton",
          "iDealCash",
          "Bitcoin Incognito",
          "HollyWoodCoin",
          "Parlay",
          "Listerclassic Coin",
          "BetKings",
          "Cognitio",
          "Mercoin",
          "Swisscoin",
          "Reliance",
          "Xt3ch",
          "TheVig",
          "EmaratCoin",
          "Dekado",
          "Lynx",
          "Poseidon Quark",
          "MYCE",
          "BitcoinWSpectrum",
          "Muse",
          "GambleCoin",
          "Trivechain",
          "Dystem",
          "Giant",
          "Peony Coin",
          "Absolute Coin",
          "Vitae",
          "TPCash",
          "ARENON",
          "EUNO",
          "MMOCoin",
          "Ketan",
          "XDNA",
          "PAXEX",
          "Averopay",
          "ThunderStake",
          "SimpleBank",
          "Kcash",
          "Bettex coin",
          "TWIST",
          "DACH Coin",
          "BitMoney",
          "Junson Ming Chan Coin",
          "HerbCoin",
          "Oduwa",
          "Galilel",
          "Crypto Sports",
          "Credit",
          "Dash Platinum",
          "Nasdacoin",
          "Beetle Coin",
          "Titan Coin",
          "Award",
          "Insane Coin",
          "ALAX",
          "LiteDoge",
          "TruckCoin",
          "OrangeCoin",
          "BitstarCoin",
          "NeosCoin",
          "HyperCoin",
          "PinkCoin",
          "AudioCoin",
          "IncaKoin",
          "Piggy Coin",
          "Genstake",
          "XiaoMiCoin",
          "CapriCoin",
          " ClubCoin",
          "Radium",
          "Creditbit ",
          "OKCash",
          "Lisk",
          "HiCoin",
          "WhiteCoin",
          "FriendshipCoin",
          "Triangles Coin",
          "Gexan",
          "EOS",
          "Oxycoin",
          "TigerCash",
          "LAPO",
          "Particl",
          "ShardCoin",
          "Nxt",
          "ZEPHYR",
          "Gapcoin",
          "BitcoinPlus",
          "DivotyCoin"
         ],
         "legendgroup": "3",
         "marker": {
          "color": [
           3,
           3,
           3,
           3,
           3,
           3,
           3,
           3,
           3,
           3,
           3,
           3,
           3,
           3,
           3,
           3,
           3,
           3,
           3,
           3,
           3,
           3,
           3,
           3,
           3,
           3,
           3,
           3,
           3,
           3,
           3,
           3,
           3,
           3,
           3,
           3,
           3,
           3,
           3,
           3,
           3,
           3,
           3,
           3,
           3,
           3,
           3,
           3,
           3,
           3,
           3,
           3,
           3,
           3,
           3,
           3,
           3,
           3,
           3,
           3,
           3,
           3,
           3,
           3,
           3,
           3,
           3,
           3,
           3,
           3,
           3,
           3,
           3,
           3,
           3,
           3,
           3,
           3,
           3,
           3,
           3,
           3,
           3,
           3,
           3,
           3,
           3,
           3,
           3,
           3,
           3,
           3,
           3,
           3,
           3,
           3,
           3,
           3,
           3,
           3,
           3,
           3,
           3,
           3,
           3,
           3,
           3,
           3,
           3,
           3,
           3,
           3,
           3,
           3,
           3,
           3,
           3,
           3,
           3,
           3,
           3,
           3,
           3,
           3,
           3,
           3,
           3,
           3,
           3,
           3,
           3,
           3,
           3,
           3,
           3,
           3,
           3,
           3,
           3,
           3,
           3,
           3,
           3,
           3,
           3,
           3,
           3,
           3,
           3,
           3,
           3,
           3,
           3,
           3,
           3,
           3,
           3,
           3,
           3,
           3,
           3,
           3,
           3,
           3,
           3,
           3,
           3,
           3,
           3,
           3,
           3,
           3,
           3,
           3,
           3,
           3,
           3,
           3,
           3,
           3,
           3,
           3,
           3,
           3,
           3,
           3,
           3,
           3,
           3,
           3,
           3,
           3,
           3,
           3,
           3,
           3,
           3,
           3,
           3,
           3,
           3,
           3,
           3,
           3,
           3,
           3,
           3,
           3,
           3,
           3,
           3,
           3,
           3,
           3,
           3,
           3,
           3,
           3,
           3,
           3,
           3,
           3,
           3,
           3,
           3,
           3,
           3,
           3,
           3,
           3,
           3,
           3,
           3,
           3,
           3,
           3,
           3,
           3,
           3,
           3,
           3,
           3,
           3,
           3,
           3,
           3,
           3,
           3,
           3,
           3,
           3,
           3,
           3,
           3,
           3,
           3,
           3,
           3,
           3,
           3,
           3,
           3,
           3,
           3,
           3,
           3,
           3,
           3,
           3,
           3,
           3,
           3,
           3,
           3,
           3,
           3,
           3,
           3,
           3,
           3,
           3,
           3,
           3,
           3,
           3,
           3,
           3,
           3,
           3,
           3,
           3,
           3,
           3,
           3,
           3,
           3,
           3,
           3,
           3,
           3,
           3,
           3,
           3,
           3,
           3,
           3,
           3,
           3,
           3,
           3,
           3,
           3,
           3
          ],
          "coloraxis": "coloraxis",
          "symbol": "circle"
         },
         "mode": "markers",
         "name": "3",
         "scene": "scene",
         "showlegend": true,
         "type": "scatter3d",
         "x": [
          -0.32877008492811177,
          -0.3114278225193914,
          2.427866018249982,
          -0.38355722431744155,
          -0.2787115995370066,
          -0.2952108302794929,
          -0.24957661252574453,
          -0.23016598045141845,
          -0.3284158799989258,
          -0.32068579227087773,
          -0.32720439741258295,
          -0.3287658621992278,
          -0.3287495017303556,
          0.702700047187632,
          -0.3654505070479469,
          -0.33015915596261397,
          -0.2925466915582726,
          -0.32675072792923554,
          -0.31691089982835297,
          -0.38344755967514266,
          -0.40625004609093746,
          -0.012286376894707466,
          -0.2570426615262232,
          -0.28287713040600193,
          -0.257178907096636,
          -0.25782688238479873,
          -0.3390682145918169,
          -0.32284428324071623,
          -0.32710748363469166,
          0.04420242775715065,
          -0.3376210327657113,
          -0.3838341055194273,
          -0.23909825345734487,
          -0.2857197222724818,
          -0.38374227392776833,
          -0.3030065539181726,
          -0.32739458985858017,
          -0.28030331762746935,
          -0.3837051943506048,
          -0.23958348321007525,
          -0.25759867112045154,
          -0.31952355855524794,
          0.01748212416422318,
          -0.335558203351141,
          -0.29439076537525194,
          -0.3648480339962318,
          -0.28285626840808437,
          -0.25790561641340276,
          -0.2772983141385388,
          -0.32875141090374616,
          -0.25785578424072414,
          -0.3380846744910678,
          -0.3284751687313741,
          -0.3838148694895453,
          -0.41053505219180897,
          -0.37253084467517733,
          -0.3526232788091476,
          -0.2811934906345129,
          -0.25735836354340913,
          -0.28747769834375064,
          -0.23270244782632987,
          -0.05014871074922454,
          -0.29518053974864866,
          -0.04842541126545596,
          -0.29524665575695186,
          -0.2159664106082391,
          -0.3283463224668332,
          -0.28105938737209496,
          -0.380874060595272,
          0.9161768095975087,
          -0.2950389933446346,
          -0.05761967487602514,
          -0.32982968956211367,
          -0.3815699515712548,
          -0.29373394007476955,
          -0.2913112937252611,
          -0.34235232040410113,
          -0.38250029707782285,
          -0.34240879064303803,
          -0.3036979837609156,
          -0.328386041662701,
          -0.3267614484876983,
          -0.2109154016595497,
          -0.32506942304833364,
          -0.38326792896173856,
          -0.32755817246619173,
          -0.29522701629919024,
          -0.38380366987709225,
          -0.3285825986021852,
          -0.32874540518916967,
          -0.28104437938394494,
          -0.24606029828567846,
          0.05349385316218967,
          -0.32874459531577,
          -0.3283435839933192,
          -0.36942116646361556,
          -0.32804479384273266,
          -0.21240153564772082,
          -0.4225702635009071,
          -0.32778824343956137,
          -0.2738220250402311,
          3.8848417519241454,
          -0.3833798473059249,
          0.9211790013330521,
          -0.38375672849939374,
          -0.32922709837689923,
          -0.3282688634888278,
          -0.3284296453930278,
          -0.32982968956211367,
          -0.38331508608656345,
          -0.2950839836305354,
          -0.32826952564434553,
          -0.36415161320990147,
          -0.32842292584881466,
          -0.32383996451729724,
          -0.38378694458556756,
          -0.3276031246974305,
          0.38642153854264694,
          -0.32863017209182754,
          -0.32870348359763174,
          -0.33789854749274684,
          -0.337107390816343,
          -0.32478333451129293,
          -0.29520245326810934,
          -0.3836932489868156,
          -0.32847240783397075,
          -0.3286046545326511,
          -0.282759941211825,
          -0.29870359893866083,
          -0.21216000248819877,
          -0.30868371293126656,
          -0.28248996505990265,
          -0.38293029293190106,
          -0.3961401391574645,
          -0.38161660662379565,
          -0.3280053294272859,
          -0.38282394950231513,
          -0.32217878385588533,
          -0.37860436996987484,
          -0.3285455789630008,
          -0.3285448743353717,
          -0.3214000293211881,
          0.3037350729930256,
          -0.38332111409390257,
          -0.2647198242703167,
          -0.3298655919912434,
          -0.3277251571139613,
          0.9469559250915114,
          -0.24821632035575003,
          -0.3411378028445022,
          0.6098552805506919,
          -0.34395005744787294,
          -0.34239233039865064,
          -0.4077554354509007,
          -0.25752821398994485,
          0.15449041128293053,
          -0.2576017082744916,
          -0.3575012163250579,
          -0.40723981788653413,
          -0.3836042045361928,
          -0.2828365091251109,
          4.594926785030825,
          -0.32972692294685707,
          -0.3281661768741394,
          -0.3286857230058162,
          -0.3391141872446566,
          0.7250863247507644,
          -0.3835429108889729,
          -0.3338678230366181,
          -0.3286397171017231,
          -0.2924284088926708,
          0.471856542959819,
          -0.29348172717356685,
          -0.3281084662191569,
          -0.3683170225822423,
          -0.3285880983867591,
          -0.3818473028233163,
          -0.3310778382180722,
          -0.32845301402936483,
          -0.06904391605753858,
          -0.382454166290085,
          -0.3822877673498621,
          3.8898918007936434,
          0.2381473236707181,
          -0.2541382916993218,
          -0.325811785480872,
          -0.29813617504223655,
          -0.33777982051767935,
          0.10190210490548197,
          -0.3275584141625932,
          -0.3828912061343839,
          -0.3283309859809876,
          -0.3276193428765184,
          -0.3369118487082654,
          -0.3146233682180363,
          -0.32870876722014786,
          -0.3380554603603179,
          0.2189571930934292,
          -0.3427022216435681,
          -0.28495944539497725,
          -0.32407383515047805,
          -0.26213542681003976,
          -0.2951615362771082,
          -0.20363077897711665,
          -0.19315695177800718,
          -0.40789981872996367,
          -0.3836052309163516,
          -0.40803229015749914,
          -0.36227968729306065,
          -0.3836224549143566,
          -0.30404702338238143,
          -0.28196371068807624,
          -0.3110539074730932,
          -0.3686115717256451,
          -0.3435331623612744,
          -0.32873723590903514,
          -0.32871822713818133,
          -0.276119538169337,
          -0.3290338841402562,
          -0.3293050830847573,
          -0.3284234684709204,
          4.090024219377621,
          -0.3804601741309482,
          -0.32950141452139786,
          -0.3104531592987082,
          -0.273188954882928,
          -0.27299414072335904,
          -0.28251821758290463,
          -0.28293308374023923,
          -0.3278570915438269,
          -0.3380616446224869,
          -0.3427983203394718,
          -0.3277114476234826,
          -0.12388908279885422,
          -0.3377172977788508,
          -0.28278105130238007,
          -0.34170267879971,
          -0.32787673394455225,
          -0.18645225670525853,
          2.339923113430993,
          -0.3333218571661828,
          -0.3261198227956749,
          -0.24834746045086928,
          1.078977093832683,
          -0.28298240969663613,
          -0.35533090286588986,
          -0.33789807256094884,
          -0.3835975328514329,
          -0.15888969724455373,
          -0.33792221909931414,
          -0.33656606544347095,
          -0.3213376398223873,
          -0.3376160070084272,
          -0.3830744519829837,
          -0.2799165222271965,
          -0.32856637495602387,
          -0.36151954809090026,
          -0.33747248942307817,
          -0.36792318336266305,
          -0.18273811958858344,
          -0.3389520143002768,
          -0.38928836597115385,
          -0.25847168281713145,
          -0.33608793995470365,
          -0.33768102281964624,
          0.5571613843190633,
          -0.11930985667204212,
          -0.38286386991044397,
          -0.3284274381758386,
          -0.3833382198609809,
          -0.3380197499628484,
          0.6142198826743267,
          -0.3381120001063796,
          -0.32789012852555366,
          -0.29828130594007735,
          -0.294639337183142,
          -0.38054518923626185,
          -0.38331072312350994,
          3.902631042631348,
          0.1238565066329415,
          -0.38074793569160265,
          -0.3272523447298791,
          -0.32810877166807434,
          -0.2496107526111108,
          -0.32864755111809235,
          -0.3746006937616893,
          -0.23897374319461698,
          -0.06574878698177551,
          -0.3701823680316783,
          -0.3278962696813437,
          -0.3206806195082651,
          -0.3797405858305478,
          -0.3262735468177495,
          -0.33011652728482604,
          -0.39792050193408013,
          -0.2936659618526872,
          3.88524913591198,
          -0.08227022363597991,
          -0.3233547916591553,
          -0.33867963641282955,
          -0.2580170372103172,
          -0.3975447300174274,
          3.895528728865793,
          3.8968243778706833,
          -0.22973489865414862,
          0.640270905910532,
          -0.3300497314769762,
          -0.2762576897525602,
          -0.29131379125653273,
          2.594283687298268,
          -0.3267391991054433,
          -0.28319313156043086,
          -0.3277602904776679
         ],
         "y": [
          1.0823342688197966,
          1.082373476134019,
          1.6907299807459122,
          1.3258198071475733,
          0.9159048057026948,
          0.8572853519064157,
          0.4730172580689912,
          1.806409974586974,
          1.0823308988637963,
          1.0825277743762975,
          1.0823717451260453,
          1.082334016638105,
          1.0823340549555307,
          0.7683587598470863,
          0.9856745746028233,
          1.3191124271957633,
          0.1540511807164923,
          1.0822978153810634,
          0.9420634909950442,
          1.3258224320790641,
          2.054834247850796,
          0.7045425125423875,
          0.856505147675799,
          0.6980542233348537,
          1.8484372653786094,
          1.848421755450305,
          0.5970441140812358,
          1.082179348061737,
          1.0823048206892079,
          1.091261734197348,
          0.9415677735149086,
          1.3258287236242492,
          -0.06505593832050957,
          0.9975585419010755,
          1.3258238566796392,
          1.081820427441985,
          1.0822965353720633,
          0.28878706183237834,
          1.3258279237948787,
          -0.06499689546373637,
          1.8484272179122427,
          1.0818490204878248,
          1.6938940120623411,
          1.1629690285939736,
          0.8572724786069954,
          0.9856920901803495,
          0.69806615504013,
          1.8484113919963912,
          0.6978459036132549,
          1.0823347158306802,
          1.8484139979248468,
          0.9415425443304328,
          1.082327196497826,
          1.3258291847641903,
          2.199783451805658,
          2.0696053385323134,
          1.0607236152911246,
          0.6980352979578951,
          1.8483976412563687,
          0.8567794235628591,
          1.8065779808615727,
          0.9417859163820621,
          0.857286076940179,
          1.3150975467908077,
          0.8572926199788904,
          1.5579403157541272,
          1.0823147359521852,
          0.6979529753184337,
          1.3256282518583036,
          0.6568154587355393,
          0.8572767466773162,
          0.7769053264151834,
          1.31910618183736,
          1.3258299261085988,
          0.8571788758461862,
          0.8570232848947762,
          1.5548515526362405,
          1.325762436691917,
          1.155059170793622,
          1.0815212481460132,
          1.0823121365636834,
          1.0823116902359113,
          1.4640362070987685,
          0.9414039901597083,
          1.325806947670749,
          1.0822996855918354,
          0.8572856710511528,
          1.3258273331186727,
          1.082323918484697,
          1.0823348595833888,
          0.6981095243929027,
          0.3422762301975993,
          2.0230760106556054,
          1.3190939996921212,
          1.0823444775704525,
          1.3251138526078368,
          1.3191347736888024,
          1.4641401831140526,
          1.876589846792336,
          1.31895649882484,
          2.024069306244776,
          2.07422107669889,
          1.3258184002566773,
          1.876041838240973,
          1.325827853769149,
          1.3190994082593503,
          1.0823190347522293,
          1.0823127415356772,
          1.31910618183736,
          1.325798753187405,
          0.8572898012524015,
          1.082322933317857,
          0.9342716799267323,
          1.0823227943980025,
          1.0819925374140433,
          1.325826320308839,
          1.082260454668397,
          0.6911118145364483,
          1.08232843235105,
          1.0823335201707616,
          1.1551991978394216,
          0.6685510043489895,
          1.0820764091070416,
          0.8572862589915543,
          1.3258254865862285,
          1.0823272625826317,
          1.0823227310862322,
          0.6980295992061819,
          0.23919032520325967,
          1.4641374680997306,
          1.0821084828956244,
          0.69805059808802,
          1.3257797006674898,
          1.9996162018417902,
          1.3258040793153512,
          1.3190860531920847,
          1.325782246102476,
          1.3190208160416104,
          1.3256006166648158,
          1.0823246547073193,
          1.08231945149671,
          1.0818041053072969,
          0.43327716924177945,
          1.3258127403630977,
          0.6970871225377095,
          1.3190982567462703,
          1.0822850900529177,
          1.7712412712203083,
          0.47291727605546907,
          1.1550426060303485,
          1.8668013803202346,
          1.5548698350705616,
          1.5548293977645165,
          2.030442529839366,
          1.8484077071802278,
          1.0585729309768206,
          1.8484137922639496,
          1.1943533057340567,
          2.0304548716548676,
          1.325827509655907,
          0.6980543294635763,
          2.2814114680122746,
          1.3190792482415337,
          1.0823146304197928,
          1.082333320528355,
          0.916938503417505,
          1.2761440625364344,
          1.3258166168881154,
          0.5968886251283381,
          1.0823262725822425,
          0.2852803936695434,
          1.08383373019183,
          0.8572716269946973,
          1.5544081972089212,
          1.3825313240502284,
          1.0823237868419224,
          1.5393836313050473,
          1.3569806374063387,
          1.0823314092564826,
          0.4709881606728461,
          1.5394695240923517,
          1.3257639909352985,
          2.0740769896922795,
          1.5476127833562954,
          1.8483616651593162,
          1.0822566983166357,
          1.1705868115049889,
          1.1551985068212958,
          1.0573141779402815,
          1.0822572854205939,
          1.325815964903581,
          1.0823094504613162,
          1.0823123528796676,
          1.1551486252735523,
          1.0820369686917792,
          1.0823329102569523,
          0.9415425370263969,
          0.6924132282099718,
          1.1550581531042536,
          0.2969293974567108,
          1.0822827532655703,
          0.9405624350866653,
          0.8572844120877339,
          1.4637866278751936,
          4.097025250002191,
          2.0304588579298244,
          1.325816538342928,
          2.0304578068147094,
          0.932052254146079,
          1.3258161260695296,
          1.679964070871979,
          0.6979999042260311,
          1.2364056067457456,
          1.382544057772456,
          1.5548515509420835,
          1.0823329354038744,
          1.0823319772513735,
          0.6978741187799498,
          1.1932117579026063,
          1.31907069184057,
          1.0823213682636068,
          2.130961134640639,
          1.53941683359989,
          1.3190716450385844,
          0.45797582744275933,
          1.0800456251239408,
          1.4148827376363675,
          0.6980558757198073,
          0.698043119196311,
          1.0822783992065725,
          0.9415514697792433,
          2.027716528902922,
          1.0822889510686082,
          1.0800312523060305,
          0.9415216617845715,
          0.6980368662194213,
          2.0276773961532157,
          1.082296299946917,
          1.4222729083908152,
          0.2546014440479414,
          1.1548600715227155,
          1.0822210622153638,
          0.47298466862426525,
          1.651520369135733,
          0.6980521131834821,
          0.842242211289079,
          1.1551949697687836,
          1.5394794128831846,
          0.689106463392187,
          0.6695384234113402,
          1.1551710333994063,
          1.0818055986615513,
          0.9415290322908717,
          1.3258115787332656,
          0.6979528117615474,
          1.3190021716307991,
          0.9046910261084782,
          0.9415006717364802,
          1.0280115209577887,
          1.0731113723255397,
          0.5970347211954324,
          0.8250063545627917,
          1.2956949210374655,
          0.9169341979852558,
          1.1551881533259472,
          1.695919729026373,
          0.946793267065624,
          1.5394624584407024,
          1.0823276324026996,
          1.539475809028858,
          1.1551974484527834,
          1.0520539969114835,
          0.94154210223678,
          1.0822959793343958,
          1.6797911868477808,
          2.0253416955131187,
          1.325610687087394,
          1.3258200548122334,
          2.0740286294738373,
          1.0684382747223706,
          1.3259025948527998,
          1.082229282839666,
          1.082311762121105,
          0.4730104350209897,
          1.082337201817197,
          1.325696448607913,
          1.0770646153998962,
          0.86265904819274,
          1.3254489190467251,
          1.0823445858836678,
          1.0822452689514803,
          1.325779739561539,
          1.0822809742581148,
          1.3191070883973557,
          0.8351968562767117,
          0.8572636842902475,
          2.074206155434735,
          0.6957954060496807,
          1.0822519173106873,
          0.5970135656714683,
          1.8484171191180334,
          2.1127075896693603,
          2.0745652016813394,
          2.0745962143195396,
          0.4727944481451038,
          0.26137937950323287,
          1.319108945727802,
          0.6975881827454025,
          1.7456307246756115,
          0.8952986603157915,
          1.0822062368318446,
          0.6980573853148744,
          1.0822877819666685
         ],
         "z": [
          -0.5100331656648345,
          -0.5102818827770482,
          -0.6052125237332461,
          -0.43123353225420746,
          -0.1500976681774056,
          -0.3743430675801914,
          -0.06881390608085478,
          -0.5010761146979883,
          -0.5100378634189952,
          -0.5101651630472328,
          -0.5100587296418223,
          -0.5100332022453523,
          -0.5100334370037355,
          -0.40908629090789567,
          -0.3720305877332134,
          -0.02399011541578272,
          -0.40956775228265546,
          -0.5100583683401889,
          -0.12604825799858072,
          -0.4312353228184642,
          -0.42953357341599663,
          -0.20892572076503552,
          -0.3748110717491476,
          -0.2045065662363417,
          -0.5817103719677803,
          -0.5816997920637917,
          -0.28814981943458856,
          -0.5101027297147678,
          -0.510053967615999,
          -0.5161229247167204,
          -0.12571011050734462,
          -0.43123043562702235,
          0.12298737938819991,
          -0.13748093924901275,
          -0.4312312876968566,
          -0.5103502411797979,
          -0.510049150372849,
          -0.30541158265674695,
          -0.43123218444308437,
          0.12298882816635227,
          -0.581703518214017,
          -0.5101194008137457,
          -0.5250780732975427,
          0.009617212568752838,
          -0.37435347931759433,
          -0.3720407082490694,
          -0.20450795433658764,
          -0.5816977296581746,
          -0.20456633320451756,
          -0.5100334705702111,
          -0.5816986727772239,
          -0.12570124555925863,
          -0.5100366861763436,
          -0.43123074977063586,
          -0.07791035654736317,
          -0.7431331449972491,
          -0.1338161212821305,
          -0.20452862968901048,
          -0.5817042049303525,
          -0.3744060168271618,
          -0.501055656251055,
          -0.4629442533576727,
          -0.3743435621529225,
          -0.4349880523102673,
          -0.37434322713062784,
          -0.5200818585443318,
          -0.5100373656783707,
          -0.20452298248067396,
          -0.4312539065404762,
          -0.21767619140181074,
          -0.37434470797323705,
          -0.3991225930323203,
          -0.02399420004768522,
          -0.43126254856388935,
          -0.37435418701650086,
          -0.3743741741927171,
          -0.5180124490525333,
          -0.4312432149413143,
          -0.030762821436946565,
          -0.5103130562611548,
          -0.51003656610075,
          -0.5100594880740509,
          -0.27617792247753603,
          -0.1258725152431505,
          -0.43123644307786757,
          -0.5100471268433544,
          -0.37434286803953093,
          -0.43123073841753573,
          -0.5100348673618643,
          -0.5100335686293263,
          -0.2045375381992198,
          -0.1586254189208352,
          -0.6576580256613818,
          -0.024008421177357794,
          -0.5100401294191443,
          -0.4313686567577689,
          -0.024022048404865975,
          -0.27616644332157125,
          -0.5638409124985005,
          -0.02400934044288478,
          -0.6531225775595881,
          -0.06385565209404105,
          -0.43123591049122206,
          -0.6008951418393579,
          -0.4312314496158983,
          -0.024002096773765746,
          -0.510038854396405,
          -0.5100360052120454,
          -0.02399420004768522,
          -0.43123502572593225,
          -0.37434526816349806,
          -0.5100392022377087,
          -0.22597395999725672,
          -0.5100370212689698,
          -0.5100715399624292,
          -0.4312308820244683,
          -0.5100428969866166,
          -0.21333070263064136,
          -0.5100346085093813,
          -0.5100340384496985,
          -0.12012538734170727,
          -0.2832157823684862,
          -0.5100658904924815,
          -0.37434326909573684,
          -0.43123212997943766,
          -0.5100367312552686,
          -0.5100344468178597,
          -0.20450596650001268,
          -0.2890531684071146,
          -0.276169608520875,
          -0.5102963898564634,
          -0.20451170647996986,
          -0.4312387189376543,
          -0.7221821407938475,
          -0.431259520940573,
          -0.02401814226935431,
          -0.4312404552743563,
          -0.024094520514092898,
          -0.4312834555242329,
          -0.5100354580725696,
          -0.5100349912953365,
          -0.5100887624840064,
          -0.07299357945047229,
          -0.4312362220780561,
          -0.20467460205377916,
          -0.023992966458313447,
          -0.5100434292975555,
          -0.5144919015558154,
          -0.06882397246612791,
          -0.03077926853416943,
          -0.5893977874549904,
          -0.5179915408861795,
          -0.5180098536211053,
          -0.6754984623755865,
          -0.5817027264494856,
          -0.5146867285871682,
          -0.5817022451792156,
          0.024783291698433945,
          -0.6755068811909729,
          -0.4312335739421511,
          -0.20450715012311127,
          3.5257651741555955,
          -0.02399318485326111,
          -0.5100399022831175,
          -0.5100342711954337,
          -0.14933861684010893,
          -0.051334935643313026,
          -0.4312334422648415,
          -0.2882090780902992,
          -0.5100342757093503,
          0.019229809749945287,
          -0.5214870359782834,
          -0.37436625012118147,
          -0.5181731574794215,
          -0.44255221087190116,
          -0.5100347775633891,
          -0.4256707068036611,
          0.04097178731697617,
          -0.5100373853107881,
          -0.07117973843508014,
          -0.4256699988765687,
          -0.4312463613553303,
          -0.06391383041316068,
          -0.5255542990013425,
          -0.5817464228862511,
          -0.5100678725612406,
          -0.21246355094773714,
          -0.12012700217861262,
          -0.5138280859157913,
          -0.5100432385713413,
          -0.43124259407068566,
          -0.5100370981768227,
          -0.5100474228504495,
          -0.12013470022936296,
          -0.5102058832091003,
          -0.5100339078856659,
          -0.12570165781816037,
          -0.21108291233576137,
          -0.030758580682145573,
          -0.19508197408538394,
          -0.5100948249271193,
          -0.12668495165827903,
          -0.3743436782183855,
          -0.27625801988092613,
          5.351570750938365,
          -0.6754979176234253,
          -0.4312325542037047,
          -0.675495948894594,
          -0.35890988291368614,
          -0.4312322729765523,
          -0.4506506691160135,
          -0.20451450008683936,
          0.11787741451575744,
          -0.44254921426631866,
          -0.5179957582465284,
          -0.5100335077980666,
          -0.5100336886888158,
          -0.20458557982827985,
          0.021248152979455523,
          -0.023998363394988436,
          -0.5100368829317113,
          -0.07808209424590434,
          -0.425693355334637,
          -0.02399567567704501,
          0.027912119645394348,
          -0.5106090852935896,
          -0.153236300665258,
          -0.20451179069927455,
          -0.2045047579610416,
          -0.5100409514265352,
          -0.12570238885734775,
          -0.6524818013889859,
          -0.5100439768349191,
          -0.5127180525211265,
          -0.1257045249241425,
          -0.2045063339485347,
          -0.6524937022887024,
          -0.5100423139203814,
          -0.1955318131332153,
          -0.29984044981286107,
          -0.12015900475735997,
          -0.5100602534899459,
          -0.06882829361083592,
          -0.05344830055122077,
          -0.20450488482299356,
          -0.2776275775885274,
          -0.1201250066636517,
          -0.4256547439695244,
          -0.20543924496980573,
          -0.2863004142361044,
          -0.12014164082752415,
          -0.51008978115697,
          -0.1257066319341997,
          -0.4312396020993558,
          -0.20453912136124194,
          -0.024002526622793084,
          -0.3320593094445718,
          -0.1257060619926863,
          -0.3581120151455545,
          -0.511252224590099,
          -0.28815060126167635,
          -0.423146114713069,
          -0.1451205786608149,
          -0.14938099695614762,
          -0.12012745001365967,
          -0.2547197223060959,
          -0.12927461570527013,
          -0.4256635605264779,
          -0.5100374007646711,
          -0.42565807903974434,
          -0.12012351391619638,
          -0.5205875023090926,
          -0.12570081881821404,
          -0.5100420952185518,
          -0.4507163245908752,
          -0.6529449154214013,
          -0.4312569456365756,
          -0.43123703912564154,
          -0.06408946272327512,
          -0.5151576307942329,
          -0.431280825546233,
          -0.5100449990232524,
          -0.5100404508751415,
          -0.06881279837453078,
          -0.5100351663548817,
          -0.4313488260879863,
          -0.5108195705645981,
          -0.3780787639557581,
          -0.43138859751709574,
          -0.510046461922536,
          -0.5101393520016642,
          -0.4312838075247086,
          -0.5100635700287476,
          -0.023990228792421884,
          -0.02795113517509223,
          -0.3743629183107809,
          -0.06386004313713198,
          -0.20713509043833164,
          -0.5101021629710158,
          -0.28815251285120985,
          -0.5816966795165572,
          -0.6894428370251442,
          -0.06403823749788463,
          -0.06405939238191499,
          -0.06907394481571115,
          -0.2914878501177912,
          -0.023991343095314786,
          -0.20455742863510704,
          0.013948107797218143,
          -0.07971989005639814,
          -0.5100501405396374,
          -0.2045023894192326,
          -0.510043179346624
         ]
        },
        {
         "customdata": [
          [
           "SHA-256"
          ],
          [
           "Ethash"
          ],
          [
           "Scrypt"
          ],
          [
           "CryptoNight-V7"
          ],
          [
           "Ethash"
          ],
          [
           "Equihash"
          ],
          [
           "Multiple"
          ],
          [
           "Scrypt"
          ],
          [
           "X11"
          ],
          [
           "Scrypt"
          ],
          [
           "Multiple"
          ],
          [
           "Scrypt"
          ],
          [
           "SHA-256"
          ],
          [
           "Scrypt"
          ],
          [
           "Scrypt"
          ],
          [
           "Quark"
          ],
          [
           "Groestl"
          ],
          [
           "Scrypt"
          ],
          [
           "Scrypt"
          ],
          [
           "Scrypt"
          ],
          [
           "X11"
          ],
          [
           "Multiple"
          ],
          [
           "SHA-256"
          ],
          [
           "Scrypt"
          ],
          [
           "Scrypt"
          ],
          [
           "Scrypt"
          ],
          [
           "Scrypt"
          ],
          [
           "Scrypt"
          ],
          [
           "NeoScrypt"
          ],
          [
           "Scrypt"
          ],
          [
           "Scrypt"
          ],
          [
           "Scrypt"
          ],
          [
           "Scrypt"
          ],
          [
           "SHA-256"
          ],
          [
           "Scrypt"
          ],
          [
           "Scrypt"
          ],
          [
           "Scrypt"
          ],
          [
           "Scrypt"
          ],
          [
           "HybridScryptHash256"
          ],
          [
           "Scrypt"
          ],
          [
           "Scrypt"
          ],
          [
           "SHA-256"
          ],
          [
           "Scrypt"
          ],
          [
           "Scrypt"
          ],
          [
           "Scrypt"
          ],
          [
           "Scrypt"
          ],
          [
           "SHA-256"
          ],
          [
           "SHA-256"
          ],
          [
           "SHA-256"
          ],
          [
           "SHA-256"
          ],
          [
           "SHA-256"
          ],
          [
           "X11"
          ],
          [
           "Scrypt"
          ],
          [
           "Lyra2REv2"
          ],
          [
           "Scrypt"
          ],
          [
           "SHA-256"
          ],
          [
           "CryptoNight"
          ],
          [
           "CryptoNight"
          ],
          [
           "Scrypt"
          ],
          [
           "Scrypt"
          ],
          [
           "Scrypt"
          ],
          [
           "Scrypt"
          ],
          [
           "Scrypt"
          ],
          [
           "Scrypt"
          ],
          [
           "Stanford Folding"
          ],
          [
           "Multiple"
          ],
          [
           "QuBit"
          ],
          [
           "Scrypt"
          ],
          [
           "Scrypt"
          ],
          [
           "M7 POW"
          ],
          [
           "Scrypt"
          ],
          [
           "SHA-256"
          ],
          [
           "Scrypt"
          ],
          [
           "X11"
          ],
          [
           "Lyra2RE"
          ],
          [
           "SHA-256"
          ],
          [
           "X11"
          ],
          [
           "Scrypt"
          ],
          [
           "Scrypt"
          ],
          [
           "Ethash"
          ],
          [
           "Blake2b"
          ],
          [
           "X11"
          ],
          [
           "SHA-256"
          ],
          [
           "Scrypt"
          ],
          [
           "1GB AES Pattern Search"
          ],
          [
           "Scrypt"
          ],
          [
           "SHA-256"
          ],
          [
           "X11"
          ],
          [
           "Dagger"
          ],
          [
           "Scrypt"
          ],
          [
           "X11GOST"
          ],
          [
           "Scrypt"
          ],
          [
           "ScryptOG"
          ],
          [
           "X11"
          ],
          [
           "Scrypt"
          ],
          [
           "X11"
          ],
          [
           "Equihash"
          ],
          [
           "CryptoNight"
          ],
          [
           "SHA-256"
          ],
          [
           "Multiple"
          ],
          [
           "Scrypt"
          ],
          [
           "SHA-256"
          ],
          [
           "Scrypt"
          ],
          [
           "Lyra2Z"
          ],
          [
           "Ethash"
          ],
          [
           "Equihash"
          ],
          [
           "Scrypt"
          ],
          [
           "X11"
          ],
          [
           "X11"
          ],
          [
           "CryptoNight"
          ],
          [
           "Scrypt"
          ],
          [
           "CryptoNight"
          ],
          [
           "Lyra2RE"
          ],
          [
           "X11"
          ],
          [
           "CryptoNight-V7"
          ],
          [
           "Scrypt"
          ],
          [
           "X11"
          ],
          [
           "Equihash"
          ],
          [
           "Scrypt"
          ],
          [
           "Lyra2RE"
          ],
          [
           "Dagger-Hashimoto"
          ],
          [
           "Scrypt"
          ],
          [
           "NIST5"
          ],
          [
           "Scrypt"
          ],
          [
           "SHA-256"
          ],
          [
           "Scrypt"
          ],
          [
           "CryptoNight-V7"
          ],
          [
           "Argon2d"
          ],
          [
           "Blake2b"
          ],
          [
           "Cloverhash"
          ],
          [
           "CryptoNight"
          ],
          [
           "X11"
          ],
          [
           "Scrypt"
          ],
          [
           "Scrypt"
          ],
          [
           "X11"
          ],
          [
           "X11"
          ],
          [
           "CryptoNight"
          ],
          [
           "Time Travel"
          ],
          [
           "Scrypt"
          ],
          [
           "Keccak"
          ],
          [
           "X11"
          ],
          [
           "SHA-256"
          ],
          [
           "Scrypt"
          ],
          [
           "Scrypt"
          ],
          [
           "Scrypt"
          ],
          [
           "Scrypt"
          ],
          [
           "Scrypt"
          ],
          [
           "Scrypt"
          ],
          [
           "CryptoNight"
          ],
          [
           "Equihash"
          ],
          [
           "X11"
          ],
          [
           "NeoScrypt"
          ],
          [
           "Equihash"
          ],
          [
           "Dagger"
          ],
          [
           "Scrypt"
          ],
          [
           "X11"
          ],
          [
           "NeoScrypt"
          ],
          [
           "Ethash"
          ],
          [
           "NeoScrypt"
          ],
          [
           "Multiple"
          ],
          [
           "CryptoNight"
          ],
          [
           "CryptoNight"
          ],
          [
           "Ethash"
          ],
          [
           "Scrypt"
          ],
          [
           "X11"
          ],
          [
           "CryptoNight-V7"
          ],
          [
           "Scrypt"
          ],
          [
           "BLAKE256"
          ],
          [
           "X11"
          ],
          [
           "NeoScrypt"
          ],
          [
           "NeoScrypt"
          ],
          [
           "NeoScrypt"
          ],
          [
           "Scrypt"
          ],
          [
           "X11"
          ],
          [
           "SHA-256"
          ],
          [
           "C11"
          ],
          [
           "Ethash"
          ],
          [
           "Scrypt"
          ],
          [
           "CryptoNight"
          ],
          [
           "SkunkHash"
          ],
          [
           "CryptoNight"
          ],
          [
           "Scrypt"
          ],
          [
           "Dagger"
          ],
          [
           "Lyra2REv2"
          ],
          [
           "Scrypt"
          ],
          [
           "Scrypt"
          ],
          [
           "X11"
          ],
          [
           "Ethash"
          ],
          [
           "CryptoNight"
          ],
          [
           "Scrypt"
          ],
          [
           "SHA-256"
          ],
          [
           "IMesh"
          ],
          [
           "Quark"
          ],
          [
           "Equihash"
          ],
          [
           "Lyra2Z"
          ],
          [
           "NeoScrypt"
          ],
          [
           "X11"
          ],
          [
           "CryptoNight"
          ],
          [
           "NIST5"
          ],
          [
           "Lyra2RE"
          ],
          [
           "Tribus"
          ],
          [
           "Lyra2Z"
          ],
          [
           "CryptoNight"
          ],
          [
           "CryptoNight Heavy"
          ],
          [
           "CryptoNight"
          ],
          [
           "Jump Consistent Hash"
          ],
          [
           "CryptoNight"
          ],
          [
           "SHA-512"
          ],
          [
           "X16R"
          ],
          [
           "HMQ1725"
          ],
          [
           "X11"
          ],
          [
           "Scrypt"
          ],
          [
           "Scrypt"
          ],
          [
           "CryptoNight-V7"
          ],
          [
           "Cryptonight-GPU"
          ],
          [
           "XEVAN"
          ],
          [
           "CryptoNight Heavy"
          ],
          [
           "CryptoNight"
          ],
          [
           "X11"
          ],
          [
           "SHA-256"
          ],
          [
           "X11"
          ],
          [
           "X16R"
          ],
          [
           "Equihash"
          ],
          [
           "HMQ1725"
          ],
          [
           "Lyra2Z"
          ],
          [
           "SHA-256"
          ],
          [
           "PHI1612"
          ],
          [
           "CryptoNight"
          ],
          [
           "Blake"
          ],
          [
           "Blake"
          ],
          [
           "Blake"
          ],
          [
           "Blake"
          ],
          [
           "Equihash"
          ],
          [
           "Exosis"
          ],
          [
           "Scrypt"
          ],
          [
           "Equihash"
          ],
          [
           "Equihash"
          ],
          [
           "Lyra2REv2"
          ],
          [
           "QuBit"
          ],
          [
           "SHA-256"
          ],
          [
           "X13"
          ],
          [
           "SHA-256"
          ],
          [
           "Ethash"
          ],
          [
           "Scrypt"
          ],
          [
           "NeoScrypt"
          ],
          [
           "Blake"
          ],
          [
           "Scrypt"
          ],
          [
           "SHA-256"
          ],
          [
           "Scrypt"
          ],
          [
           "Groestl"
          ],
          [
           "Scrypt"
          ],
          [
           "Scrypt"
          ],
          [
           "Multiple"
          ],
          [
           "Equihash+Scrypt"
          ],
          [
           "Lyra2Z"
          ],
          [
           "Ethash"
          ],
          [
           "Equihash"
          ],
          [
           "CryptoNight"
          ],
          [
           "Equihash"
          ]
         ],
         "hovertemplate": "<b>%{hovertext}</b><br><br>Class=%{marker.color}<br>PC 1=%{x}<br>PC 2=%{y}<br>PC 3=%{z}<br>Algorithm=%{customdata[0]}<extra></extra>",
         "hovertext": [
          "Bitcoin",
          "Ethereum",
          "Litecoin",
          "Monero",
          "Ethereum Classic",
          "ZCash",
          "DigiByte",
          "ProsperCoin",
          "Spreadcoin",
          "Argentum",
          "MyriadCoin",
          "MoonCoin",
          "ZetaCoin",
          "SexCoin",
          "Quatloo",
          "QuarkCoin",
          "Riecoin",
          "Digitalcoin ",
          "Catcoin",
          "CannaCoin",
          "CryptCoin",
          "Verge",
          "DevCoin",
          "EarthCoin",
          "E-Gulden",
          "Einsteinium",
          "Emerald",
          "Franko",
          "FeatherCoin",
          "GrandCoin",
          "GlobalCoin",
          "GoldCoin",
          "Infinite Coin",
          "IXcoin",
          "KrugerCoin",
          "LuckyCoin",
          "Litebar ",
          "MegaCoin",
          "MediterraneanCoin",
          "MinCoin",
          "NobleCoin",
          "Namecoin",
          "NyanCoin",
          "RonPaulCoin",
          "StableCoin",
          "SmartCoin",
          "SysCoin",
          "TigerCoin",
          "TerraCoin",
          "UnbreakableCoin",
          "Unobtanium",
          "UroCoin",
          "ViaCoin",
          "Vertcoin",
          "WorldCoin",
          "JouleCoin",
          "ByteCoin",
          "DigitalNote ",
          "MonaCoin",
          "Gulden",
          "PesetaCoin",
          "Wild Beast Coin",
          "Flo",
          "ArtByte",
          "Folding Coin",
          "Unitus",
          "CypherPunkCoin",
          "OmniCron",
          "GreenCoin",
          "Cryptonite",
          "MasterCoin",
          "SoonCoin",
          "1Credit",
          "MarsCoin ",
          "Crypto",
          "Anarchists Prime",
          "BowsCoin",
          "Song Coin",
          "BitZeny",
          "Expanse",
          "Siacoin",
          "MindCoin",
          "I0coin",
          "Revolution VR",
          "HOdlcoin",
          "Gamecredits",
          "CarpeDiemCoin",
          "Adzcoin",
          "SoilCoin",
          "YoCoin",
          "SibCoin",
          "Francs",
          "Aiden",
          "BolivarCoin",
          "Omni",
          "PizzaCoin",
          "Komodo",
          "Karbo",
          "ZayedCoin",
          "Circuits of Value",
          "DopeCoin",
          "DollarCoin",
          "Shilling",
          "ZCoin",
          "Elementrem",
          "ZClassic",
          "KiloCoin",
          "ArtexCoin",
          "Kurrent",
          "Cannabis Industry Coin",
          "OsmiumCoin",
          "Bikercoins",
          "HexxCoin",
          "PacCoin",
          "Citadel",
          "BeaverCoin",
          "VaultCoin",
          "Zero",
          "Canada eCoin",
          "Zoin",
          "DubaiCoin",
          "EB3coin",
          "Coinonat",
          "BenjiRolls",
          "ILCoin",
          "EquiTrader",
          "Quantum Resistant Ledger",
          "Dynamic",
          "Nano",
          "ChanCoin",
          "Dinastycoin",
          "DigitalPrice",
          "Unify",
          "SocialCoin",
          "ArcticCoin",
          "DAS",
          "LeviarCoin",
          "Bitcore",
          "gCn Coin",
          "SmartCash",
          "Onix",
          "Bitcoin Cash",
          "Sojourn Coin",
          "NewYorkCoin",
          "FrazCoin",
          "Kronecoin",
          "AdCoin",
          "Linx",
          "Sumokoin",
          "BitcoinZ",
          "Elements",
          "VIVO Coin",
          "Bitcoin Gold",
          "Pirl",
          "eBoost",
          "Pura",
          "Innova",
          "Ellaism",
          "GoByte",
          "SHIELD",
          "UltraNote",
          "BitCoal",
          "DaxxCoin",
          "BoxyCoin",
          "AC3",
          "Lethean",
          "PopularCoin",
          "Photon",
          "Sucre",
          "SparksPay",
          "GoaCoin",
          "GunCoin",
          "IrishCoin",
          "Pioneer Coin",
          "UnitedBitcoin",
          "Interzone",
          "1717 Masonic Commemorative Token",
          "Crypto Wisdom Coin",
          "TurtleCoin",
          "MUNcoin",
          "Niobio Cash",
          "ShareChain",
          "Travelflex",
          "KREDS",
          "BitFlip",
          "LottoCoin",
          "Crypto Improvement Fund",
          "Callisto Network",
          "BitTube",
          "Poseidon",
          "Manna",
          "Aidos Kuneen",
          "Cosmo",
          "Bitrolium",
          "Alpenschillling",
          "Rapture",
          "FuturoCoin",
          "Monero Classic",
          "Jumpcoin",
          "Infinex",
          "KEYCO",
          "GINcoin",
          "PlatinCoin",
          "Loki",
          "Newton Coin",
          "MassGrid",
          "PluraCoin",
          "Arionum",
          "Motion",
          "PlusOneCoin",
          "Axe",
          "HexCoin",
          "Deimos",
          "Webchain",
          "Ryo",
          "Urals Coin",
          "Qwertycoin",
          "Bitcoin Nova",
          "DACash",
          "Project Pai",
          "Azart",
          "Xchange",
          "CrypticCoin",
          "Brazio",
          "Actinium",
          "Bitcoin SV",
          "Argoneum",
          "FREDEnergy",
          "BlakeBitcoin",
          "Universal Molecule",
          "Lithium",
          "Electron",
          "PirateCash",
          "Exosis",
          "Block-Logic",
          "Beam",
          "Bithereum",
          "Scribe Network",
          "SLICE",
          "BLAST",
          "Bitcoin Rhodium",
          "GlobalToken",
          "Media Protocol Token",
          "SolarCoin",
          "UFO Coin",
          "BlakeCoin",
          "Crypto Escudo",
          "Crown Coin",
          "SmileyCoin",
          "Groestlcoin",
          "Bata",
          "Pakcoin",
          "JoinCoin",
          "Vollar",
          "TecraCoin",
          "Reality Clash",
          "ChainZilla",
          "Beldex",
          "Horizen"
         ],
         "legendgroup": "1",
         "marker": {
          "color": [
           1,
           1,
           1,
           1,
           1,
           1,
           1,
           1,
           1,
           1,
           1,
           1,
           1,
           1,
           1,
           1,
           1,
           1,
           1,
           1,
           1,
           1,
           1,
           1,
           1,
           1,
           1,
           1,
           1,
           1,
           1,
           1,
           1,
           1,
           1,
           1,
           1,
           1,
           1,
           1,
           1,
           1,
           1,
           1,
           1,
           1,
           1,
           1,
           1,
           1,
           1,
           1,
           1,
           1,
           1,
           1,
           1,
           1,
           1,
           1,
           1,
           1,
           1,
           1,
           1,
           1,
           1,
           1,
           1,
           1,
           1,
           1,
           1,
           1,
           1,
           1,
           1,
           1,
           1,
           1,
           1,
           1,
           1,
           1,
           1,
           1,
           1,
           1,
           1,
           1,
           1,
           1,
           1,
           1,
           1,
           1,
           1,
           1,
           1,
           1,
           1,
           1,
           1,
           1,
           1,
           1,
           1,
           1,
           1,
           1,
           1,
           1,
           1,
           1,
           1,
           1,
           1,
           1,
           1,
           1,
           1,
           1,
           1,
           1,
           1,
           1,
           1,
           1,
           1,
           1,
           1,
           1,
           1,
           1,
           1,
           1,
           1,
           1,
           1,
           1,
           1,
           1,
           1,
           1,
           1,
           1,
           1,
           1,
           1,
           1,
           1,
           1,
           1,
           1,
           1,
           1,
           1,
           1,
           1,
           1,
           1,
           1,
           1,
           1,
           1,
           1,
           1,
           1,
           1,
           1,
           1,
           1,
           1,
           1,
           1,
           1,
           1,
           1,
           1,
           1,
           1,
           1,
           1,
           1,
           1,
           1,
           1,
           1,
           1,
           1,
           1,
           1,
           1,
           1,
           1,
           1,
           1,
           1,
           1,
           1,
           1,
           1,
           1,
           1,
           1,
           1,
           1,
           1,
           1,
           1,
           1,
           1,
           1,
           1,
           1,
           1,
           1,
           1,
           1,
           1,
           1,
           1,
           1,
           1,
           1,
           1,
           1,
           1,
           1,
           1,
           1,
           1,
           1,
           1,
           1,
           1,
           1,
           1,
           1,
           1,
           1,
           1,
           1,
           1,
           1,
           1,
           1,
           1,
           1,
           1,
           1,
           1,
           1,
           1,
           1,
           1,
           1,
           1,
           1
          ],
          "coloraxis": "coloraxis",
          "symbol": "diamond"
         },
         "mode": "markers",
         "name": "1",
         "scene": "scene",
         "showlegend": true,
         "type": "scatter3d",
         "x": [
          -0.131617246425899,
          -0.1404815184673982,
          -0.16396024375112964,
          -0.14357762806867286,
          -0.13886293518695852,
          -0.1470807617454334,
          0.17672080239874174,
          -0.16515279617076872,
          -0.22015573582860454,
          -0.16475425522826584,
          -0.0868279402112865,
          2.662278101892645,
          -0.12858418715313316,
          -0.16189942417141542,
          -0.16455084175417506,
          -0.21520041649713384,
          -0.20088659724069047,
          -0.16460065801554546,
          -0.16513432733831215,
          -0.16522421722033062,
          -0.22024874264613037,
          0.20153781246644495,
          0.26149137035086606,
          0.09355891114886943,
          -0.16496014723693192,
          -0.16038860525672907,
          -0.16489713254473734,
          -0.1652835464031562,
          -0.17061865575111054,
          -0.14367143839649665,
          -0.16402983060134183,
          -0.1643188172562326,
          1.6543905242548949,
          -0.13157701510518163,
          -0.1614995246285947,
          -0.1649876656849006,
          -0.1653568309131511,
          -0.16458615132197202,
          -0.14267614924369176,
          -0.16523334013790578,
          -0.024822696348695193,
          -0.1316578416279234,
          -0.1586408592814149,
          -0.16521213668090015,
          -0.1632318163861294,
          -0.16467818005811483,
          -0.11829385516635914,
          -0.1310998792186559,
          -0.13139889084676998,
          -0.13138188591614797,
          -0.13199556863359804,
          -0.2204295039872029,
          -0.164916915789528,
          -0.17381955885388226,
          -0.1619046237053134,
          -0.1311699246530798,
          4.007381164574692,
          0.4687034688970685,
          -0.16373913161593748,
          -0.14772949060298055,
          -0.16240601354330222,
          -0.16535915582662153,
          -0.1622653403028429,
          -0.14793393098578192,
          -0.13064696544395996,
          -0.12220602962447386,
          -0.17460223999075994,
          -0.16522698810189285,
          -0.03308799280637984,
          -0.11811995820289095,
          -0.16536837905120955,
          -0.13168677019808953,
          0.5120802504640956,
          -0.2197919175522044,
          -0.14821390737969176,
          -0.13141646957114225,
          -0.220088396113852,
          -0.16341836103996046,
          -0.16257787942423724,
          -0.14159352853649995,
          0.3762432669649978,
          -0.22012516551168115,
          -0.1315781839647345,
          -0.1611626838207832,
          -0.15734404981650066,
          -0.16387376953376634,
          0.30384002331228704,
          -0.2192523896993765,
          -0.14073308845305657,
          -0.16413303696439158,
          -0.16449106100085173,
          -0.16514994994681506,
          -0.15198404519087672,
          -0.22008705533414502,
          -0.1653684399129192,
          -0.22024324103153137,
          -0.2670760399013877,
          0.3073693886493296,
          -0.1318488343936338,
          -0.1014753333188587,
          -0.1624214989149547,
          -0.1318057667229817,
          -0.16501844526573126,
          -0.0735095778948773,
          -0.14132517590227364,
          -0.14710327460319095,
          -0.08924643517650062,
          -0.2062795301988854,
          -0.2179852169780996,
          0.3073633116285576,
          -0.16534946053805483,
          0.3074993690005018,
          -0.14877569613012248,
          0.5227564968397425,
          -0.14229462996933712,
          -0.16531644567813267,
          -0.2126945836585231,
          -0.1471160867992848,
          -0.16337417709876847,
          -0.14848261338719557,
          -0.15109593771363092,
          -0.13511056825722592,
          -0.1802033946656843,
          -0.1648612944464004,
          -0.09682545114370407,
          -0.1646766737257463,
          -0.14214496168888685,
          -0.13704001632382856,
          -0.040654682414874625,
          -0.14895797186956689,
          0.3449448869522087,
          -0.2192614328374376,
          -0.1650081708431764,
          -0.164762797048007,
          -0.2196717138873298,
          -0.22027232023234336,
          0.30777404499926436,
          -0.1373583441226586,
          3.3818556577497163,
          -0.13555473098385504,
          -0.21078658150352886,
          -0.1316163760083884,
          -0.08805585022314982,
          1.6540469500731358,
          -0.16511008681601752,
          -0.16454021329907234,
          -0.1642290987679013,
          -0.16421548811168232,
          0.3079646054605247,
          0.07361317832559545,
          -0.1728026513799657,
          -0.1754958649000336,
          -0.14695583389444603,
          -0.13944314410840972,
          -0.16337231204101238,
          -0.21563835600712966,
          -0.17533521028470517,
          -0.13962742035150782,
          -0.17543931886559705,
          -0.11204550365743192,
          1.1784267137694266,
          0.3073455276462807,
          -0.06158746076366418,
          -0.16457115073539835,
          -0.2153729946737609,
          -0.1308227109988682,
          -0.07812709162473985,
          1.1585077980564715,
          -0.22024525832060682,
          -0.17549320917185124,
          -0.17546138521306862,
          -0.16825160663531946,
          -0.1643308794512627,
          -0.22016763502641787,
          -0.13159490389865022,
          -0.1988550131792422,
          -0.2596403555162837,
          -0.16497978562606344,
          8.34697233908677,
          -0.13235476820789008,
          0.31137441059004567,
          0.03548290628751209,
          -0.13892471034250847,
          -0.15879830351106802,
          -0.16492792659350053,
          0.1545270717931401,
          -0.21407474488790992,
          -0.09083723846195198,
          0.315578363203593,
          -0.16517440052247503,
          -0.028002583152827953,
          -0.15909486383304527,
          -0.22012034306830877,
          -0.14590604019222794,
          -0.07120649684860317,
          -0.17553606571586763,
          -0.21930389495009844,
          0.30753549879655817,
          -0.1802648057937285,
          -0.14861482850956265,
          -0.20468368536086218,
          -0.07359724526297136,
          0.3116155228107477,
          0.6171091858621112,
          2.18749300010042,
          -0.14853958864663896,
          0.3216857175921629,
          -0.2175038121366651,
          -0.19275330641953214,
          -0.16321201717853717,
          -0.22022670188545385,
          -0.16520002195254913,
          -0.15459289525897707,
          -0.13071178436925346,
          -0.15116058829463289,
          -0.13937092921312105,
          3.2407239255183655,
          0.32072347918025557,
          -0.2197368664359782,
          -0.08981858272834416,
          -0.22019695638322298,
          -0.19215878453057814,
          -0.037483289928363514,
          -0.160990785271595,
          -0.07297142758175348,
          -0.1316164151306226,
          -0.20482624534269453,
          0.3904488233648403,
          -0.1343788730123172,
          -0.13400138870806919,
          -0.13440815039459633,
          -0.08294233379811707,
          -0.2642059996153914,
          -0.1441848596401272,
          -0.16404826261852515,
          -0.14494011169684853,
          -0.14678191113689404,
          -0.1747715308093231,
          -0.1737824032833597,
          -0.1308633715755857,
          -0.09460009525519515,
          -0.1296863597116533,
          0.05901217827568297,
          0.5577046048996945,
          -0.09763267166236672,
          -0.08295251361762451,
          -0.14809075770893976,
          -0.1313982352079317,
          0.579191495554769,
          -0.2004298008978568,
          -0.16527972160105087,
          -0.1631540567377033,
          -0.12297142313650129,
          -0.12704374755704792,
          -0.07169704131392181,
          -0.14135967615461317,
          -0.23493385161804306,
          0.32997809797480454,
          -0.14708186249560706
         ],
         "y": [
          -1.3294125918265352,
          -2.087282833582964,
          -1.1043946212770586,
          -2.1876574709192997,
          -2.087392471545028,
          -2.0474395700112678,
          -1.8751175943666232,
          -1.1043786520913994,
          -0.8608820280044952,
          -1.1043994952637386,
          -1.868001004837598,
          -1.3080105342275576,
          -1.329445127518006,
          -1.1044625846602563,
          -1.1044200629929948,
          -0.647275144127319,
          -1.2010571073436864,
          -1.104384630884332,
          -1.1043782100216593,
          -1.104374807960173,
          -0.8608828410683036,
          -1.8713828572979443,
          -1.3348263460105088,
          -1.1077100307509054,
          -1.104374040848955,
          -1.1044616037292225,
          -1.1043803048341791,
          -1.1043748826154314,
          -1.5897730484499277,
          -1.1048534010870652,
          -1.1043863948836279,
          -1.1043948988157564,
          -1.1248267710039155,
          -1.3294116288501467,
          -1.104463908592316,
          -1.1043739929570777,
          -1.1043696517029986,
          -1.1043799269225631,
          -2.2381805809269597,
          -1.1043728076866783,
          -1.1116034710611766,
          -1.329413563512773,
          -1.1044460595519496,
          -1.1043800724650996,
          -1.1044944767834617,
          -1.1043886301937476,
          -1.3297062821794947,
          -1.3294185874884663,
          -1.329422203305249,
          -1.329448646053245,
          -1.3294069859502857,
          -0.860874449453678,
          -1.1043744192077765,
          -1.5171702987012778,
          -1.1044736050386945,
          -1.3294188424926323,
          -2.3544428263378614,
          -2.315870570471265,
          -1.1044042515636605,
          -1.105133812842516,
          -1.104415630973874,
          -1.1043706103525197,
          -1.1044077516451525,
          -1.1046582366169373,
          -2.1931568815733153,
          -1.8674346681384912,
          -1.5181179958446005,
          -1.1043679720094597,
          -1.1082684435927088,
          -2.2073138559755106,
          -1.1043694119518905,
          -1.3294142559466626,
          -1.1531582976143278,
          -0.8608825051051313,
          -2.1854840151826194,
          -1.3294309333690297,
          -0.8608811227350346,
          -1.1044708485674812,
          -1.1044788241566097,
          -2.0873213962472583,
          -2.3135033821689572,
          -0.8608784699813762,
          -1.3294116568279541,
          -1.1044166871285392,
          -2.319900993072359,
          -1.1043925514312878,
          -1.3342552017897324,
          -0.8609056262013673,
          -2.2308303770431954,
          -1.1044583576127585,
          -2.2358854796858867,
          -1.1043778773911188,
          -2.2341450811538737,
          -0.8608839169345482,
          -1.1043694112677593,
          -0.8608876553934259,
          -1.4941978359193933,
          -2.3126735957072633,
          -1.3294101762738,
          -1.8677863461738273,
          -1.104439752379717,
          -1.3294097829460747,
          -1.104381795427735,
          -1.8756778960578748,
          -2.0873215434855883,
          -2.047440108878747,
          -1.109612651359229,
          -0.8608890424099865,
          -0.8609770416975322,
          -2.312681513470856,
          -1.1043704392535816,
          -2.3126810830957205,
          -2.1854580430730066,
          -0.9137428687340141,
          -2.1877574771165147,
          -1.104370105254455,
          -0.8613958795984837,
          -2.047437589258911,
          -1.1043918983626801,
          -2.185458800152984,
          -2.193987096779578,
          -1.1064710160687863,
          -0.6318521789744063,
          -1.1043819344338517,
          -1.3303314105694408,
          -1.104403290858675,
          -2.187697368810448,
          -2.1079533311550387,
          -2.323722680581103,
          -2.2373117930177746,
          -2.31318026952397,
          -0.8609171478274059,
          -1.104373972774621,
          -1.104407472024728,
          -0.8608987053854285,
          -0.860884041336899,
          -2.312694999074387,
          -2.176618211302743,
          -1.1607772845496052,
          -1.2837889668923945,
          -0.8614208669930261,
          -1.329412570992228,
          -1.1099374400828366,
          -1.0608194719316368,
          -1.104376923227724,
          -1.1044085034208275,
          -1.1044123617569428,
          -1.1044120359724479,
          -2.3127150893713453,
          -2.056980239716914,
          -0.8610062852918428,
          -1.589671458178552,
          -2.0474365797398066,
          -2.230888745891354,
          -1.1043918537206814,
          -0.8610070691812033,
          -1.5896803310675103,
          -2.087460230369262,
          -1.5896734962442665,
          -1.8676578041634078,
          -2.3518756263551612,
          -2.31267593327668,
          -2.0924601574152337,
          -1.1044205491085124,
          -0.8611420321156819,
          -2.1880583761387347,
          -1.105813633391882,
          -1.283474861930255,
          -0.8608840294991122,
          -1.5896671551724757,
          -1.589674165738701,
          -1.5898322687806197,
          -1.1043893613464932,
          -0.8608844325428434,
          -1.3294114677541153,
          -1.2546530248192045,
          -0.284888843338857,
          -1.104376630632489,
          -2.8268037954000174,
          -2.132207727214632,
          -2.3128080743833257,
          -1.1066271314189882,
          -2.2308365518446065,
          -1.5175286283929121,
          -1.1043866945049408,
          -1.1097178375857488,
          -0.861075628570223,
          -2.090687273874412,
          -2.3131766131651186,
          -1.1043791692128888,
          -1.334014917596521,
          -2.2176371924902094,
          -0.6472267864391269,
          -2.047446073972924,
          -1.8758196208047293,
          -1.5896681809861712,
          -0.8609181641999973,
          -2.3126755549109195,
          -0.6318343933802695,
          -2.18546569555845,
          -1.158682533140379,
          -1.8756722928160992,
          -2.312988838788665,
          -2.2685508639216594,
          -2.39767336538339,
          -2.250046146458433,
          -2.313030427607694,
          -0.8857187413924935,
          -1.3444380305928652,
          -2.2785783206635077,
          -0.860884433220235,
          -1.1043805634362194,
          -1.1048176255015865,
          -2.1885860171721743,
          -2.1806493745885267,
          -0.5068146544458361,
          -2.3359876084765503,
          -2.3130534597341548,
          -0.8608931991450092,
          -1.3298810650156456,
          -0.8608865475246693,
          -1.3444788593386643,
          -2.050171363836436,
          -2.278656575881267,
          -1.8757092463748435,
          -1.3294125719286576,
          -0.8041726133260311,
          -2.3163870523253047,
          -2.1792331190450653,
          -2.1792835205157215,
          -2.179236807784443,
          -2.1829331083576484,
          -0.24505511244473258,
          -2.1944676854005665,
          -1.104422164727158,
          -2.0475591808143503,
          -2.0474394019085485,
          -1.5171568378899376,
          -1.5181690295535377,
          -1.3294249297309455,
          -0.33828715830099837,
          -1.3294702403922511,
          -2.0895734859800146,
          -1.1563763295533875,
          -1.5906149406959749,
          -2.1829333520216796,
          -1.1046619904194,
          -1.3294221876118861,
          -1.1218758535005806,
          -1.2010610115072995,
          -1.1043703850072937,
          -1.1044445685587005,
          -1.867454966992598,
          -2.158723479117091,
          -1.8757677708918488,
          -2.0873211556767686,
          -1.4911055087514213,
          -2.313114727825937,
          -2.047439596358811
         ],
         "z": [
          0.12414567356774797,
          0.3893744771460659,
          -0.011558780330537909,
          0.36142779860463264,
          0.3893616446489457,
          0.33047425379114037,
          0.31243610457682097,
          -0.011543387311891893,
          0.06725828061795587,
          -0.011547110776191609,
          0.31550919578269593,
          -0.0328503221279284,
          0.12410578372509021,
          -0.011581682006036651,
          -0.011548101441739643,
          0.07277128859652322,
          0.12644752952566501,
          -0.011550643728964183,
          -0.011543688864247106,
          -0.011542730021728356,
          0.06725966972180146,
          0.3117431377005472,
          0.11908529403561764,
          -0.014894923872633813,
          -0.01154653281336526,
          -0.011603126603758009,
          -0.011546849567883492,
          -0.011541884591194655,
          0.21028120802367486,
          -0.0118035180879488,
          -0.011558550484510984,
          -0.01155368663205596,
          -0.0353882542336364,
          0.12414501668542018,
          -0.01158721309631377,
          -0.011546148240952705,
          -0.011541328023753636,
          -0.0115512797681644,
          0.3235162311834875,
          -0.011542784345770989,
          -0.012864924053593959,
          0.12414633639138124,
          -0.011629254391918952,
          -0.011542418421702432,
          -0.01155992719228854,
          -0.011549181559947429,
          0.12398426260450797,
          0.12413891016741253,
          0.12414346785153428,
          0.12414565027416634,
          0.12415050734535836,
          0.06726145582929434,
          -0.011547109203136048,
          0.2121821189080624,
          -0.011580598786453471,
          0.12413992359138254,
          0.3060723064048934,
          0.35255573816135244,
          -0.011561023286137829,
          -0.011720467080441551,
          -0.011578823666474761,
          -0.011541207327278109,
          -0.011581533949528336,
          -0.011761151410226002,
          0.37697277267444407,
          0.3159573587906054,
          0.21528569136220066,
          -0.011543317190928628,
          -0.01305366511678868,
          0.3894164961820614,
          -0.011541186763059992,
          0.12414680872651562,
          -0.016646394769682223,
          0.06725318192983323,
          0.37544499336931647,
          0.1241445161983634,
          0.06725724585843448,
          -0.011559455372423063,
          -0.011570604436310115,
          0.3893937281397762,
          0.35095441718761466,
          0.06725752252193422,
          0.12414503577013225,
          -0.011596300784020316,
          0.3422035762339651,
          -0.011560192249999632,
          0.11843438527913315,
          0.06724767439281423,
          0.3277403476727288,
          -0.01155049822734493,
          0.44006111145686866,
          -0.011543498522759257,
          0.4484025915536095,
          0.06725748292171826,
          -0.011541185965490782,
          0.06726003306477603,
          0.31074445185000577,
          0.3545432019093042,
          0.1241487256341377,
          0.3156965620618434,
          -0.011576394698254095,
          0.12414808085458617,
          -0.01154499829557801,
          0.21485390856942882,
          0.38938994859085047,
          0.33047462137286454,
          -0.012136730568051765,
          0.06706278960281865,
          0.06723630684078714,
          0.35454401325905627,
          -0.011541360042362208,
          0.3545420507189941,
          0.37545055433367924,
          0.06160086221377263,
          0.3614188269508286,
          -0.011541857294219787,
          0.06719990163484711,
          0.33047457161068017,
          -0.011567313592741062,
          0.37544648111207013,
          0.4838608803333656,
          -0.011776310312113944,
          -0.019502758029257734,
          -0.011547206812936351,
          0.12373809322309631,
          -0.011547859588555958,
          0.361411204120866,
          0.4602578130472301,
          0.3577834041929462,
          0.39455188377382044,
          0.354058513023502,
          0.06724885786605364,
          -0.011545860259285248,
          -0.011546259182101642,
          0.06725296723482553,
          0.06726011295290833,
          0.35453944333362525,
          0.219751724061998,
          -0.05651125390068454,
          0.16571112113175343,
          0.06717522234823353,
          0.12414565935588055,
          -0.012123800623911418,
          -0.04124797626003784,
          -0.011544149393408481,
          -0.011549310799456992,
          -0.011553354743780775,
          -0.011553576973607494,
          0.35453859059536497,
          0.32822899816752793,
          0.0666003517345753,
          0.21034083703717402,
          0.3304722140147887,
          0.32772746287373816,
          -0.01156734404472329,
          0.06720588628036332,
          0.21033937922496007,
          0.38937865859695975,
          0.2103402245202183,
          0.31583418901379395,
          0.3458230431766019,
          0.35454375334995575,
          0.3887337113825502,
          -0.01154776984410711,
          0.06721450130964537,
          0.361284246169727,
          -0.012641976957836016,
          0.02430627555618253,
          0.06725972936077665,
          0.21034040524284578,
          0.21034059775923786,
          0.21025317686656908,
          -0.011554023501342974,
          0.06725866911999853,
          0.1241452547749835,
          0.13958191777499612,
          0.1964351370502278,
          -0.011546017948631528,
          0.2880136134378046,
          0.33659721530050757,
          0.35449891420912794,
          -0.014173265728264987,
          0.3277153528483082,
          0.21200263191525717,
          -0.011545828863804451,
          -0.015572717948850184,
          0.06719006702294508,
          0.38898470541160446,
          0.3544732601428812,
          -0.011543034563923023,
          0.12310281018000593,
          0.2977662360137243,
          0.0728363987610564,
          0.33045824556570963,
          0.2148343409216663,
          0.21034110498885325,
          0.06724955117193016,
          0.35454103352904687,
          -0.0195035195914994,
          0.37544898169298846,
          0.14038137445859653,
          0.21485463431771698,
          0.3545120684833332,
          0.2868250326853919,
          0.3357565145464364,
          0.3021875654444926,
          0.3543735414896582,
          0.04359019223512283,
          0.22087390216087274,
          0.33591564278120667,
          0.06725950406459044,
          -0.011542544673207393,
          -0.011652426272148807,
          0.3613310226372481,
          0.40066125673850334,
          0.04783017275157494,
          0.25592025735267443,
          0.3543892525672228,
          0.06725338363424492,
          0.12359779212862498,
          0.06725927734593282,
          0.22086923974713796,
          0.32917544134770077,
          0.33589141672701295,
          0.2148491744940068,
          0.12414565999465436,
          0.05593853255870577,
          0.35370915302819594,
          0.301193246028431,
          0.3011925284271961,
          0.30119399782611667,
          0.30080522080650113,
          0.13750704313669807,
          0.37817959397829354,
          -0.011555012595193682,
          0.33045495587100115,
          0.3304700142748822,
          0.21219434126021536,
          0.21527877924382643,
          0.12413614834109354,
          -0.0832048613026749,
          0.12412366335218061,
          0.38676460449615185,
          -0.01699642613128644,
          0.20932672233760838,
          0.30080538701887843,
          -0.011758590800733267,
          0.12414345714650266,
          -0.02046119066097105,
          0.12644143063570226,
          -0.01154235073997725,
          -0.011565599059218288,
          0.31597003712502664,
          0.35865840865757176,
          0.21483652386411975,
          0.3893904007034046,
          0.38199529824076156,
          0.3542640564455996,
          0.3304742717637873
         ]
        },
        {
         "customdata": [
          [
           "SHA-256 + Hive"
          ],
          [
           "Proof-of-Authority"
          ],
          [
           "ECC 256K1"
          ],
          [
           "Leased POS"
          ]
         ],
         "hovertemplate": "<b>%{hovertext}</b><br><br>Class=%{marker.color}<br>PC 1=%{x}<br>PC 2=%{y}<br>PC 3=%{z}<br>Algorithm=%{customdata[0]}<extra></extra>",
         "hovertext": [
          "LitecoinCash",
          "Poa Network",
          "Acute Angle Cloud",
          "Waves"
         ],
         "legendgroup": "0",
         "marker": {
          "color": [
           0,
           0,
           0,
           0
          ],
          "coloraxis": "coloraxis",
          "symbol": "square"
         },
         "mode": "markers",
         "name": "0",
         "scene": "scene",
         "showlegend": true,
         "type": "scatter3d",
         "x": [
          -0.349869434556936,
          -0.3947885625131761,
          -0.3341033610501047,
          -0.41364201581737114
         ],
         "y": [
          4.229434837590154,
          3.3289182609554873,
          4.7307986245830955,
          1.814820759837988
         ],
         "z": [
          11.514990818152231,
          16.6942937561788,
          7.747301433121721,
          24.16238060765648
         ]
        },
        {
         "customdata": [
          [
           "TRC10"
          ]
         ],
         "hovertemplate": "<b>%{hovertext}</b><br><br>Class=%{marker.color}<br>PC 1=%{x}<br>PC 2=%{y}<br>PC 3=%{z}<br>Algorithm=%{customdata[0]}<extra></extra>",
         "hovertext": [
          "BitTorrent"
         ],
         "legendgroup": "2",
         "marker": {
          "color": [
           2
          ],
          "coloraxis": "coloraxis",
          "symbol": "x"
         },
         "mode": "markers",
         "name": "2",
         "scene": "scene",
         "showlegend": true,
         "type": "scatter3d",
         "x": [
          35.46449719420285
         ],
         "y": [
          1.5939082195102137
         ],
         "z": [
          -0.5428440872547596
         ]
        }
       ],
       "layout": {
        "coloraxis": {
         "colorbar": {
          "title": {
           "text": "Class"
          }
         },
         "colorscale": [
          [
           0,
           "#0d0887"
          ],
          [
           0.1111111111111111,
           "#46039f"
          ],
          [
           0.2222222222222222,
           "#7201a8"
          ],
          [
           0.3333333333333333,
           "#9c179e"
          ],
          [
           0.4444444444444444,
           "#bd3786"
          ],
          [
           0.5555555555555556,
           "#d8576b"
          ],
          [
           0.6666666666666666,
           "#ed7953"
          ],
          [
           0.7777777777777778,
           "#fb9f3a"
          ],
          [
           0.8888888888888888,
           "#fdca26"
          ],
          [
           1,
           "#f0f921"
          ]
         ]
        },
        "legend": {
         "title": {
          "text": "Class"
         },
         "tracegroupgap": 0,
         "x": 0,
         "y": 1
        },
        "margin": {
         "t": 60
        },
        "scene": {
         "domain": {
          "x": [
           0,
           1
          ],
          "y": [
           0,
           1
          ]
         },
         "xaxis": {
          "title": {
           "text": "PC 1"
          }
         },
         "yaxis": {
          "title": {
           "text": "PC 2"
          }
         },
         "zaxis": {
          "title": {
           "text": "PC 3"
          }
         }
        },
        "template": {
         "data": {
          "bar": [
           {
            "error_x": {
             "color": "#2a3f5f"
            },
            "error_y": {
             "color": "#2a3f5f"
            },
            "marker": {
             "line": {
              "color": "#E5ECF6",
              "width": 0.5
             },
             "pattern": {
              "fillmode": "overlay",
              "size": 10,
              "solidity": 0.2
             }
            },
            "type": "bar"
           }
          ],
          "barpolar": [
           {
            "marker": {
             "line": {
              "color": "#E5ECF6",
              "width": 0.5
             },
             "pattern": {
              "fillmode": "overlay",
              "size": 10,
              "solidity": 0.2
             }
            },
            "type": "barpolar"
           }
          ],
          "carpet": [
           {
            "aaxis": {
             "endlinecolor": "#2a3f5f",
             "gridcolor": "white",
             "linecolor": "white",
             "minorgridcolor": "white",
             "startlinecolor": "#2a3f5f"
            },
            "baxis": {
             "endlinecolor": "#2a3f5f",
             "gridcolor": "white",
             "linecolor": "white",
             "minorgridcolor": "white",
             "startlinecolor": "#2a3f5f"
            },
            "type": "carpet"
           }
          ],
          "choropleth": [
           {
            "colorbar": {
             "outlinewidth": 0,
             "ticks": ""
            },
            "type": "choropleth"
           }
          ],
          "contour": [
           {
            "colorbar": {
             "outlinewidth": 0,
             "ticks": ""
            },
            "colorscale": [
             [
              0,
              "#0d0887"
             ],
             [
              0.1111111111111111,
              "#46039f"
             ],
             [
              0.2222222222222222,
              "#7201a8"
             ],
             [
              0.3333333333333333,
              "#9c179e"
             ],
             [
              0.4444444444444444,
              "#bd3786"
             ],
             [
              0.5555555555555556,
              "#d8576b"
             ],
             [
              0.6666666666666666,
              "#ed7953"
             ],
             [
              0.7777777777777778,
              "#fb9f3a"
             ],
             [
              0.8888888888888888,
              "#fdca26"
             ],
             [
              1,
              "#f0f921"
             ]
            ],
            "type": "contour"
           }
          ],
          "contourcarpet": [
           {
            "colorbar": {
             "outlinewidth": 0,
             "ticks": ""
            },
            "type": "contourcarpet"
           }
          ],
          "heatmap": [
           {
            "colorbar": {
             "outlinewidth": 0,
             "ticks": ""
            },
            "colorscale": [
             [
              0,
              "#0d0887"
             ],
             [
              0.1111111111111111,
              "#46039f"
             ],
             [
              0.2222222222222222,
              "#7201a8"
             ],
             [
              0.3333333333333333,
              "#9c179e"
             ],
             [
              0.4444444444444444,
              "#bd3786"
             ],
             [
              0.5555555555555556,
              "#d8576b"
             ],
             [
              0.6666666666666666,
              "#ed7953"
             ],
             [
              0.7777777777777778,
              "#fb9f3a"
             ],
             [
              0.8888888888888888,
              "#fdca26"
             ],
             [
              1,
              "#f0f921"
             ]
            ],
            "type": "heatmap"
           }
          ],
          "heatmapgl": [
           {
            "colorbar": {
             "outlinewidth": 0,
             "ticks": ""
            },
            "colorscale": [
             [
              0,
              "#0d0887"
             ],
             [
              0.1111111111111111,
              "#46039f"
             ],
             [
              0.2222222222222222,
              "#7201a8"
             ],
             [
              0.3333333333333333,
              "#9c179e"
             ],
             [
              0.4444444444444444,
              "#bd3786"
             ],
             [
              0.5555555555555556,
              "#d8576b"
             ],
             [
              0.6666666666666666,
              "#ed7953"
             ],
             [
              0.7777777777777778,
              "#fb9f3a"
             ],
             [
              0.8888888888888888,
              "#fdca26"
             ],
             [
              1,
              "#f0f921"
             ]
            ],
            "type": "heatmapgl"
           }
          ],
          "histogram": [
           {
            "marker": {
             "pattern": {
              "fillmode": "overlay",
              "size": 10,
              "solidity": 0.2
             }
            },
            "type": "histogram"
           }
          ],
          "histogram2d": [
           {
            "colorbar": {
             "outlinewidth": 0,
             "ticks": ""
            },
            "colorscale": [
             [
              0,
              "#0d0887"
             ],
             [
              0.1111111111111111,
              "#46039f"
             ],
             [
              0.2222222222222222,
              "#7201a8"
             ],
             [
              0.3333333333333333,
              "#9c179e"
             ],
             [
              0.4444444444444444,
              "#bd3786"
             ],
             [
              0.5555555555555556,
              "#d8576b"
             ],
             [
              0.6666666666666666,
              "#ed7953"
             ],
             [
              0.7777777777777778,
              "#fb9f3a"
             ],
             [
              0.8888888888888888,
              "#fdca26"
             ],
             [
              1,
              "#f0f921"
             ]
            ],
            "type": "histogram2d"
           }
          ],
          "histogram2dcontour": [
           {
            "colorbar": {
             "outlinewidth": 0,
             "ticks": ""
            },
            "colorscale": [
             [
              0,
              "#0d0887"
             ],
             [
              0.1111111111111111,
              "#46039f"
             ],
             [
              0.2222222222222222,
              "#7201a8"
             ],
             [
              0.3333333333333333,
              "#9c179e"
             ],
             [
              0.4444444444444444,
              "#bd3786"
             ],
             [
              0.5555555555555556,
              "#d8576b"
             ],
             [
              0.6666666666666666,
              "#ed7953"
             ],
             [
              0.7777777777777778,
              "#fb9f3a"
             ],
             [
              0.8888888888888888,
              "#fdca26"
             ],
             [
              1,
              "#f0f921"
             ]
            ],
            "type": "histogram2dcontour"
           }
          ],
          "mesh3d": [
           {
            "colorbar": {
             "outlinewidth": 0,
             "ticks": ""
            },
            "type": "mesh3d"
           }
          ],
          "parcoords": [
           {
            "line": {
             "colorbar": {
              "outlinewidth": 0,
              "ticks": ""
             }
            },
            "type": "parcoords"
           }
          ],
          "pie": [
           {
            "automargin": true,
            "type": "pie"
           }
          ],
          "scatter": [
           {
            "marker": {
             "colorbar": {
              "outlinewidth": 0,
              "ticks": ""
             }
            },
            "type": "scatter"
           }
          ],
          "scatter3d": [
           {
            "line": {
             "colorbar": {
              "outlinewidth": 0,
              "ticks": ""
             }
            },
            "marker": {
             "colorbar": {
              "outlinewidth": 0,
              "ticks": ""
             }
            },
            "type": "scatter3d"
           }
          ],
          "scattercarpet": [
           {
            "marker": {
             "colorbar": {
              "outlinewidth": 0,
              "ticks": ""
             }
            },
            "type": "scattercarpet"
           }
          ],
          "scattergeo": [
           {
            "marker": {
             "colorbar": {
              "outlinewidth": 0,
              "ticks": ""
             }
            },
            "type": "scattergeo"
           }
          ],
          "scattergl": [
           {
            "marker": {
             "colorbar": {
              "outlinewidth": 0,
              "ticks": ""
             }
            },
            "type": "scattergl"
           }
          ],
          "scattermapbox": [
           {
            "marker": {
             "colorbar": {
              "outlinewidth": 0,
              "ticks": ""
             }
            },
            "type": "scattermapbox"
           }
          ],
          "scatterpolar": [
           {
            "marker": {
             "colorbar": {
              "outlinewidth": 0,
              "ticks": ""
             }
            },
            "type": "scatterpolar"
           }
          ],
          "scatterpolargl": [
           {
            "marker": {
             "colorbar": {
              "outlinewidth": 0,
              "ticks": ""
             }
            },
            "type": "scatterpolargl"
           }
          ],
          "scatterternary": [
           {
            "marker": {
             "colorbar": {
              "outlinewidth": 0,
              "ticks": ""
             }
            },
            "type": "scatterternary"
           }
          ],
          "surface": [
           {
            "colorbar": {
             "outlinewidth": 0,
             "ticks": ""
            },
            "colorscale": [
             [
              0,
              "#0d0887"
             ],
             [
              0.1111111111111111,
              "#46039f"
             ],
             [
              0.2222222222222222,
              "#7201a8"
             ],
             [
              0.3333333333333333,
              "#9c179e"
             ],
             [
              0.4444444444444444,
              "#bd3786"
             ],
             [
              0.5555555555555556,
              "#d8576b"
             ],
             [
              0.6666666666666666,
              "#ed7953"
             ],
             [
              0.7777777777777778,
              "#fb9f3a"
             ],
             [
              0.8888888888888888,
              "#fdca26"
             ],
             [
              1,
              "#f0f921"
             ]
            ],
            "type": "surface"
           }
          ],
          "table": [
           {
            "cells": {
             "fill": {
              "color": "#EBF0F8"
             },
             "line": {
              "color": "white"
             }
            },
            "header": {
             "fill": {
              "color": "#C8D4E3"
             },
             "line": {
              "color": "white"
             }
            },
            "type": "table"
           }
          ]
         },
         "layout": {
          "annotationdefaults": {
           "arrowcolor": "#2a3f5f",
           "arrowhead": 0,
           "arrowwidth": 1
          },
          "autotypenumbers": "strict",
          "coloraxis": {
           "colorbar": {
            "outlinewidth": 0,
            "ticks": ""
           }
          },
          "colorscale": {
           "diverging": [
            [
             0,
             "#8e0152"
            ],
            [
             0.1,
             "#c51b7d"
            ],
            [
             0.2,
             "#de77ae"
            ],
            [
             0.3,
             "#f1b6da"
            ],
            [
             0.4,
             "#fde0ef"
            ],
            [
             0.5,
             "#f7f7f7"
            ],
            [
             0.6,
             "#e6f5d0"
            ],
            [
             0.7,
             "#b8e186"
            ],
            [
             0.8,
             "#7fbc41"
            ],
            [
             0.9,
             "#4d9221"
            ],
            [
             1,
             "#276419"
            ]
           ],
           "sequential": [
            [
             0,
             "#0d0887"
            ],
            [
             0.1111111111111111,
             "#46039f"
            ],
            [
             0.2222222222222222,
             "#7201a8"
            ],
            [
             0.3333333333333333,
             "#9c179e"
            ],
            [
             0.4444444444444444,
             "#bd3786"
            ],
            [
             0.5555555555555556,
             "#d8576b"
            ],
            [
             0.6666666666666666,
             "#ed7953"
            ],
            [
             0.7777777777777778,
             "#fb9f3a"
            ],
            [
             0.8888888888888888,
             "#fdca26"
            ],
            [
             1,
             "#f0f921"
            ]
           ],
           "sequentialminus": [
            [
             0,
             "#0d0887"
            ],
            [
             0.1111111111111111,
             "#46039f"
            ],
            [
             0.2222222222222222,
             "#7201a8"
            ],
            [
             0.3333333333333333,
             "#9c179e"
            ],
            [
             0.4444444444444444,
             "#bd3786"
            ],
            [
             0.5555555555555556,
             "#d8576b"
            ],
            [
             0.6666666666666666,
             "#ed7953"
            ],
            [
             0.7777777777777778,
             "#fb9f3a"
            ],
            [
             0.8888888888888888,
             "#fdca26"
            ],
            [
             1,
             "#f0f921"
            ]
           ]
          },
          "colorway": [
           "#636efa",
           "#EF553B",
           "#00cc96",
           "#ab63fa",
           "#FFA15A",
           "#19d3f3",
           "#FF6692",
           "#B6E880",
           "#FF97FF",
           "#FECB52"
          ],
          "font": {
           "color": "#2a3f5f"
          },
          "geo": {
           "bgcolor": "white",
           "lakecolor": "white",
           "landcolor": "#E5ECF6",
           "showlakes": true,
           "showland": true,
           "subunitcolor": "white"
          },
          "hoverlabel": {
           "align": "left"
          },
          "hovermode": "closest",
          "mapbox": {
           "style": "light"
          },
          "paper_bgcolor": "white",
          "plot_bgcolor": "#E5ECF6",
          "polar": {
           "angularaxis": {
            "gridcolor": "white",
            "linecolor": "white",
            "ticks": ""
           },
           "bgcolor": "#E5ECF6",
           "radialaxis": {
            "gridcolor": "white",
            "linecolor": "white",
            "ticks": ""
           }
          },
          "scene": {
           "xaxis": {
            "backgroundcolor": "#E5ECF6",
            "gridcolor": "white",
            "gridwidth": 2,
            "linecolor": "white",
            "showbackground": true,
            "ticks": "",
            "zerolinecolor": "white"
           },
           "yaxis": {
            "backgroundcolor": "#E5ECF6",
            "gridcolor": "white",
            "gridwidth": 2,
            "linecolor": "white",
            "showbackground": true,
            "ticks": "",
            "zerolinecolor": "white"
           },
           "zaxis": {
            "backgroundcolor": "#E5ECF6",
            "gridcolor": "white",
            "gridwidth": 2,
            "linecolor": "white",
            "showbackground": true,
            "ticks": "",
            "zerolinecolor": "white"
           }
          },
          "shapedefaults": {
           "line": {
            "color": "#2a3f5f"
           }
          },
          "ternary": {
           "aaxis": {
            "gridcolor": "white",
            "linecolor": "white",
            "ticks": ""
           },
           "baxis": {
            "gridcolor": "white",
            "linecolor": "white",
            "ticks": ""
           },
           "bgcolor": "#E5ECF6",
           "caxis": {
            "gridcolor": "white",
            "linecolor": "white",
            "ticks": ""
           }
          },
          "title": {
           "x": 0.05
          },
          "xaxis": {
           "automargin": true,
           "gridcolor": "white",
           "linecolor": "white",
           "ticks": "",
           "title": {
            "standoff": 15
           },
           "zerolinecolor": "white",
           "zerolinewidth": 2
          },
          "yaxis": {
           "automargin": true,
           "gridcolor": "white",
           "linecolor": "white",
           "ticks": "",
           "title": {
            "standoff": 15
           },
           "zerolinecolor": "white",
           "zerolinewidth": 2
          }
         }
        },
        "width": 900
       }
      },
      "text/html": [
       "<div>                            <div id=\"3920c70e-ab32-4b1b-a97f-d4fee0807a89\" class=\"plotly-graph-div\" style=\"height:525px; width:900px;\"></div>            <script type=\"text/javascript\">                require([\"plotly\"], function(Plotly) {                    window.PLOTLYENV=window.PLOTLYENV || {};                                    if (document.getElementById(\"3920c70e-ab32-4b1b-a97f-d4fee0807a89\")) {                    Plotly.newPlot(                        \"3920c70e-ab32-4b1b-a97f-d4fee0807a89\",                        [{\"customdata\":[[\"Scrypt\"],[\"Scrypt\"],[\"X13\"],[\"X11\"],[\"SHA-512\"],[\"SHA-256\"],[\"SHA-256\"],[\"X15\"],[\"Scrypt\"],[\"Scrypt\"],[\"Scrypt\"],[\"Scrypt\"],[\"Scrypt\"],[\"Scrypt\"],[\"Groestl\"],[\"PoS\"],[\"Scrypt\"],[\"Scrypt\"],[\"X11\"],[\"X11\"],[\"SHA3\"],[\"Scrypt\"],[\"SHA-256\"],[\"Scrypt\"],[\"X13\"],[\"X13\"],[\"NeoScrypt\"],[\"Scrypt\"],[\"Scrypt\"],[\"Scrypt\"],[\"X11\"],[\"X11\"],[\"Multiple\"],[\"PHI1612\"],[\"X11\"],[\"Scrypt\"],[\"Scrypt\"],[\"Scrypt\"],[\"X11\"],[\"Multiple\"],[\"X13\"],[\"Scrypt\"],[\"Shabal256\"],[\"Counterparty\"],[\"SHA-256\"],[\"Groestl\"],[\"Scrypt\"],[\"X13\"],[\"Scrypt\"],[\"Scrypt\"],[\"X13\"],[\"X11\"],[\"Scrypt\"],[\"X11\"],[\"SHA3\"],[\"QUAIT\"],[\"X11\"],[\"Scrypt\"],[\"X13\"],[\"SHA-256\"],[\"X15\"],[\"BLAKE256\"],[\"SHA-256\"],[\"X11\"],[\"SHA-256\"],[\"NIST5\"],[\"Scrypt\"],[\"Scrypt\"],[\"X11\"],[\"Scrypt\"],[\"SHA-256\"],[\"Scrypt\"],[\"PoS\"],[\"X11\"],[\"SHA-256\"],[\"SHA-256\"],[\"NIST5\"],[\"X11\"],[\"POS 3.0\"],[\"Scrypt\"],[\"Scrypt\"],[\"Scrypt\"],[\"X13\"],[\"X11\"],[\"X11\"],[\"Scrypt\"],[\"SHA-256\"],[\"X11\"],[\"Scrypt\"],[\"Scrypt\"],[\"Scrypt\"],[\"Scrypt\"],[\"SHA-256D\"],[\"PoS\"],[\"Scrypt\"],[\"X11\"],[\"PoS\"],[\"X13\"],[\"X14\"],[\"PoS\"],[\"SHA-256D\"],[\"DPoS\"],[\"X11\"],[\"X13\"],[\"X11\"],[\"PoS\"],[\"Scrypt\"],[\"Scrypt\"],[\"PoS\"],[\"X11\"],[\"SHA-256\"],[\"Scrypt\"],[\"X11\"],[\"Scrypt\"],[\"Scrypt\"],[\"X11\"],[\"Scrypt\"],[\"Scrypt\"],[\"Scrypt\"],[\"Scrypt\"],[\"Quark\"],[\"QuBit\"],[\"Scrypt\"],[\"SHA-256\"],[\"X11\"],[\"Scrypt\"],[\"Scrypt\"],[\"Scrypt\"],[\"Scrypt\"],[\"X13\"],[\"Scrypt\"],[\"Scrypt\"],[\"X11\"],[\"Blake2S\"],[\"X11\"],[\"PoS\"],[\"X11\"],[\"PoS\"],[\"X11\"],[\"Scrypt\"],[\"Scrypt\"],[\"Scrypt\"],[\"SHA-256\"],[\"X11\"],[\"Scrypt\"],[\"PoS\"],[\"Scrypt\"],[\"X15\"],[\"SHA-256\"],[\"POS 3.0\"],[\"536\"],[\"NIST5\"],[\"NIST5\"],[\"Skein\"],[\"X13\"],[\"Scrypt\"],[\"X13\"],[\"SkunkHash v2 Raptor\"],[\"Skein\"],[\"X11\"],[\"Scrypt\"],[\"VeChainThor Authority\"],[\"PoS\"],[\"Scrypt\"],[\"Scrypt\"],[\"SHA-512\"],[\"Ouroboros\"],[\"X11\"],[\"NeoScrypt\"],[\"Scrypt\"],[\"Lyra2REv2\"],[\"Scrypt\"],[\"SHA-256\"],[\"NIST5\"],[\"PHI1612\"],[\"Scrypt\"],[\"Quark\"],[\"POS 2.0\"],[\"Scrypt\"],[\"SHA-256\"],[\"Quark\"],[\"X11\"],[\"DPoS\"],[\"NIST5\"],[\"X13\"],[\"Scrypt\"],[\"NIST5\"],[\"Quark\"],[\"Scrypt\"],[\"Scrypt\"],[\"X11\"],[\"Scrypt\"],[\"Scrypt\"],[\"Quark\"],[\"Scrypt\"],[\"Scrypt\"],[\"X11\"],[\"Scrypt\"],[\"POS 3.0\"],[\"Scrypt\"],[\"Scrypt\"],[\"X11\"],[\"SHA-256\"],[\"X13\"],[\"Proof-of-BibleHash\"],[\"Skein\"],[\"X11\"],[\"Skein\"],[\"C11\"],[\"X11\"],[\"XEVAN\"],[\"Scrypt\"],[\"VBFT\"],[\"PHI1612\"],[\"NIST5\"],[\"Scrypt\"],[\"Scrypt\"],[\"Scrypt\"],[\"Green Protocol\"],[\"PoS\"],[\"Scrypt\"],[\"Semux BFT consensus\"],[\"Quark\"],[\"PoS\"],[\"X16R\"],[\"Scrypt\"],[\"XEVAN\"],[\"Scrypt\"],[\"Scrypt\"],[\"Scrypt\"],[\"X11\"],[\"SHA-256D\"],[\"Scrypt\"],[\"Scrypt\"],[\"X11\"],[\"Scrypt\"],[\"SHA-256D\"],[\"Scrypt\"],[\"X15\"],[\"Scrypt\"],[\"Quark\"],[\"Scrypt\"],[\"SHA-256\"],[\"DPoS\"],[\"Scrypt\"],[\"X16R\"],[\"Quark\"],[\"Quark\"],[\"Scrypt\"],[\"Lyra2REv2\"],[\"Quark\"],[\"Scrypt\"],[\"X11\"],[\"X11\"],[\"Scrypt\"],[\"PoS\"],[\"Keccak\"],[\"X11\"],[\"Tribus\"],[\"Scrypt\"],[\"NeoScrypt\"],[\"SHA-512\"],[\"XEVAN\"],[\"SHA-512\"],[\"Quark\"],[\"XEVAN\"],[\"X11\"],[\"Quark\"],[\"Scrypt\"],[\"Quark\"],[\"Quark\"],[\"Scrypt\"],[\"X11\"],[\"Scrypt\"],[\"XEVAN\"],[\"SHA-256D\"],[\"X11\"],[\"X11\"],[\"DPoS\"],[\"Scrypt\"],[\"X11\"],[\"Scrypt\"],[\"Scrypt\"],[\"SHA-256\"],[\"Scrypt\"],[\"X11\"],[\"Scrypt\"],[\"SHA-256\"],[\"X11\"],[\"Scrypt\"],[\"Scrypt\"],[\"X11\"],[\"Scrypt\"],[\"PoS\"],[\"X11\"],[\"SHA-256\"],[\"DPoS\"],[\"Scrypt\"],[\"Scrypt\"],[\"NeoScrypt\"],[\"X13\"],[\"PHI2\"],[\"DPoS\"],[\"DPoS\"],[\"SHA-256\"],[\"Lyra2Z\"],[\"PoS\"],[\"Scrypt\"],[\"PoS\"],[\"SHA-256\"],[\"Scrypt\"],[\"Scrypt\"],[\"Scrypt\"]],\"hovertemplate\":\"<b>%{hovertext}</b><br><br>Class=%{marker.color}<br>PC 1=%{x}<br>PC 2=%{y}<br>PC 3=%{z}<br>Algorithm=%{customdata[0]}<extra></extra>\",\"hovertext\":[\"42 Coin\",\"404Coin\",\"EliteCoin\",\"Dash\",\"Bitshares\",\"BitcoinDark\",\"PayCoin\",\"KoboCoin\",\"Aurora Coin\",\"BlueCoin\",\"EnergyCoin\",\"BitBar\",\"CryptoBullion\",\"CasinoCoin\",\"Diamond\",\"Exclusive Coin\",\"FlutterCoin\",\"HoboNickels\",\"HyperStake\",\"IOCoin\",\"MaxCoin\",\"MintCoin\",\"MazaCoin\",\"Nautilus Coin\",\"NavCoin\",\"OpalCoin\",\"Orbitcoin\",\"PotCoin\",\"PhoenixCoin\",\"Reddcoin\",\"SuperCoin\",\"SyncCoin\",\"TeslaCoin\",\"TittieCoin\",\"TorCoin\",\"UnitaryStatus Dollar\",\"UltraCoin\",\"VeriCoin\",\"X11 Coin\",\"Crypti\",\"StealthCoin\",\"ZCC Coin\",\"BurstCoin\",\"StorjCoin\",\"Neutron\",\"FairCoin\",\"RubyCoin\",\"Kore\",\"Dnotes\",\"8BIT Coin\",\"Sativa Coin\",\"Ucoin\",\"Vtorrent\",\"IslaCoin\",\"Nexus\",\"Droidz\",\"Squall Coin\",\"Diggits\",\"Paycon\",\"Emercoin\",\"EverGreenCoin\",\"Decred\",\"EDRCoin\",\"Hitcoin\",\"DubaiCoin\",\"PWR Coin\",\"BillaryCoin\",\"GPU Coin\",\"EuropeCoin\",\"ZeitCoin\",\"SwingCoin\",\"SafeExchangeCoin\",\"Nebuchadnezzar\",\"Ratecoin\",\"Revenu\",\"Clockcoin\",\"VIP Tokens\",\"BitSend\",\"Let it Ride\",\"PutinCoin\",\"iBankCoin\",\"Frankywillcoin\",\"MudraCoin\",\"Lutetium Coin\",\"GoldBlocks\",\"CarterCoin\",\"BitTokens\",\"MustangCoin\",\"ZoneCoin\",\"RootCoin\",\"BitCurrency\",\"Swiscoin\",\"BuzzCoin\",\"Opair\",\"PesoBit\",\"Halloween Coin\",\"CoffeeCoin\",\"RoyalCoin\",\"GanjaCoin V2\",\"TeamUP\",\"LanaCoin\",\"ARK\",\"InsaneCoin\",\"EmberCoin\",\"XenixCoin\",\"FreeCoin\",\"PLNCoin\",\"AquariusCoin\",\"Creatio\",\"Eternity\",\"Eurocoin\",\"BitcoinFast\",\"Stakenet\",\"BitConnect Coin\",\"MoneyCoin\",\"Enigma\",\"Russiacoin\",\"PandaCoin\",\"GameUnits\",\"GAKHcoin\",\"Allsafe\",\"LiteCreed\",\"Klingon Empire Darsek\",\"Internet of People\",\"KushCoin\",\"Printerium\",\"Impeach\",\"Zilbercoin\",\"FirstCoin\",\"FindCoin\",\"OpenChat\",\"RenosCoin\",\"VirtacoinPlus\",\"TajCoin\",\"Impact\",\"Atmos\",\"HappyCoin\",\"MacronCoin\",\"Condensate\",\"Independent Money System\",\"ArgusCoin\",\"LomoCoin\",\"ProCurrency\",\"GoldReserve\",\"GrowthCoin\",\"Phreak\",\"Degas Coin\",\"HTML5 Coin\",\"Ultimate Secure Cash\",\"QTUM\",\"Espers\",\"Denarius\",\"Virta Unique Coin\",\"Bitcoin Planet\",\"BritCoin\",\"Linda\",\"DeepOnion\",\"Signatum\",\"Cream\",\"Monoeci\",\"Draftcoin\",\"Vechain\",\"Stakecoin\",\"CoinonatX\",\"Ethereum Dark\",\"Obsidian\",\"Cardano\",\"Regalcoin\",\"TrezarCoin\",\"TerraNovaCoin\",\"Rupee\",\"WomenCoin\",\"Theresa May Coin\",\"NamoCoin\",\"LUXCoin\",\"Xios\",\"Bitcloud 2.0\",\"KekCoin\",\"BlackholeCoin\",\"Infinity Economics\",\"Alqo\",\"Magnet\",\"Lamden Tau\",\"Electra\",\"Bitcoin Diamond\",\"Cash & Back Coin\",\"Bulwark\",\"Kalkulus\",\"GermanCoin\",\"LiteCoin Ultra\",\"PhantomX\",\"Accolade\",\"OmiseGO Classic\",\"Digiwage\",\"Trollcoin\",\"Litecoin Plus\",\"Monkey Project\",\"ECC\",\"TokenPay\",\"My Big Coin\",\"Unified Society USDEX\",\"BitSoar Coin\",\"Credence Coin\",\"Tokyo Coin\",\"BiblePay\",\"BashCoin\",\"DigiMoney\",\"Lizus Payment\",\"Stipend\",\"Pushi\",\"Ellerium\",\"Velox\",\"Ontology\",\"Seraph\",\"Bitspace\",\"Briacoin\",\"Ignition\",\"MedicCoin\",\"Bitcoin Green\",\"Deviant Coin\",\"Abjcoin\",\"Semux\",\"Carebit\",\"Zealium\",\"Proton\",\"iDealCash\",\"Bitcoin Incognito\",\"HollyWoodCoin\",\"Parlay\",\"Listerclassic Coin\",\"BetKings\",\"Cognitio\",\"Mercoin\",\"Swisscoin\",\"Reliance\",\"Xt3ch\",\"TheVig\",\"EmaratCoin\",\"Dekado\",\"Lynx\",\"Poseidon Quark\",\"MYCE\",\"BitcoinWSpectrum\",\"Muse\",\"GambleCoin\",\"Trivechain\",\"Dystem\",\"Giant\",\"Peony Coin\",\"Absolute Coin\",\"Vitae\",\"TPCash\",\"ARENON\",\"EUNO\",\"MMOCoin\",\"Ketan\",\"XDNA\",\"PAXEX\",\"Averopay\",\"ThunderStake\",\"SimpleBank\",\"Kcash\",\"Bettex coin\",\"TWIST\",\"DACH Coin\",\"BitMoney\",\"Junson Ming Chan Coin\",\"HerbCoin\",\"Oduwa\",\"Galilel\",\"Crypto Sports\",\"Credit\",\"Dash Platinum\",\"Nasdacoin\",\"Beetle Coin\",\"Titan Coin\",\"Award\",\"Insane Coin\",\"ALAX\",\"LiteDoge\",\"TruckCoin\",\"OrangeCoin\",\"BitstarCoin\",\"NeosCoin\",\"HyperCoin\",\"PinkCoin\",\"AudioCoin\",\"IncaKoin\",\"Piggy Coin\",\"Genstake\",\"XiaoMiCoin\",\"CapriCoin\",\" ClubCoin\",\"Radium\",\"Creditbit \",\"OKCash\",\"Lisk\",\"HiCoin\",\"WhiteCoin\",\"FriendshipCoin\",\"Triangles Coin\",\"Gexan\",\"EOS\",\"Oxycoin\",\"TigerCash\",\"LAPO\",\"Particl\",\"ShardCoin\",\"Nxt\",\"ZEPHYR\",\"Gapcoin\",\"BitcoinPlus\",\"DivotyCoin\"],\"legendgroup\":\"3\",\"marker\":{\"color\":[3,3,3,3,3,3,3,3,3,3,3,3,3,3,3,3,3,3,3,3,3,3,3,3,3,3,3,3,3,3,3,3,3,3,3,3,3,3,3,3,3,3,3,3,3,3,3,3,3,3,3,3,3,3,3,3,3,3,3,3,3,3,3,3,3,3,3,3,3,3,3,3,3,3,3,3,3,3,3,3,3,3,3,3,3,3,3,3,3,3,3,3,3,3,3,3,3,3,3,3,3,3,3,3,3,3,3,3,3,3,3,3,3,3,3,3,3,3,3,3,3,3,3,3,3,3,3,3,3,3,3,3,3,3,3,3,3,3,3,3,3,3,3,3,3,3,3,3,3,3,3,3,3,3,3,3,3,3,3,3,3,3,3,3,3,3,3,3,3,3,3,3,3,3,3,3,3,3,3,3,3,3,3,3,3,3,3,3,3,3,3,3,3,3,3,3,3,3,3,3,3,3,3,3,3,3,3,3,3,3,3,3,3,3,3,3,3,3,3,3,3,3,3,3,3,3,3,3,3,3,3,3,3,3,3,3,3,3,3,3,3,3,3,3,3,3,3,3,3,3,3,3,3,3,3,3,3,3,3,3,3,3,3,3,3,3,3,3,3,3,3,3,3,3,3,3,3,3,3,3,3,3,3,3,3,3,3,3,3,3,3,3,3,3,3,3,3,3,3,3,3,3,3,3,3,3,3,3,3,3,3,3,3],\"coloraxis\":\"coloraxis\",\"symbol\":\"circle\"},\"mode\":\"markers\",\"name\":\"3\",\"scene\":\"scene\",\"showlegend\":true,\"x\":[-0.32877008492811177,-0.3114278225193914,2.427866018249982,-0.38355722431744155,-0.2787115995370066,-0.2952108302794929,-0.24957661252574453,-0.23016598045141845,-0.3284158799989258,-0.32068579227087773,-0.32720439741258295,-0.3287658621992278,-0.3287495017303556,0.702700047187632,-0.3654505070479469,-0.33015915596261397,-0.2925466915582726,-0.32675072792923554,-0.31691089982835297,-0.38344755967514266,-0.40625004609093746,-0.012286376894707466,-0.2570426615262232,-0.28287713040600193,-0.257178907096636,-0.25782688238479873,-0.3390682145918169,-0.32284428324071623,-0.32710748363469166,0.04420242775715065,-0.3376210327657113,-0.3838341055194273,-0.23909825345734487,-0.2857197222724818,-0.38374227392776833,-0.3030065539181726,-0.32739458985858017,-0.28030331762746935,-0.3837051943506048,-0.23958348321007525,-0.25759867112045154,-0.31952355855524794,0.01748212416422318,-0.335558203351141,-0.29439076537525194,-0.3648480339962318,-0.28285626840808437,-0.25790561641340276,-0.2772983141385388,-0.32875141090374616,-0.25785578424072414,-0.3380846744910678,-0.3284751687313741,-0.3838148694895453,-0.41053505219180897,-0.37253084467517733,-0.3526232788091476,-0.2811934906345129,-0.25735836354340913,-0.28747769834375064,-0.23270244782632987,-0.05014871074922454,-0.29518053974864866,-0.04842541126545596,-0.29524665575695186,-0.2159664106082391,-0.3283463224668332,-0.28105938737209496,-0.380874060595272,0.9161768095975087,-0.2950389933446346,-0.05761967487602514,-0.32982968956211367,-0.3815699515712548,-0.29373394007476955,-0.2913112937252611,-0.34235232040410113,-0.38250029707782285,-0.34240879064303803,-0.3036979837609156,-0.328386041662701,-0.3267614484876983,-0.2109154016595497,-0.32506942304833364,-0.38326792896173856,-0.32755817246619173,-0.29522701629919024,-0.38380366987709225,-0.3285825986021852,-0.32874540518916967,-0.28104437938394494,-0.24606029828567846,0.05349385316218967,-0.32874459531577,-0.3283435839933192,-0.36942116646361556,-0.32804479384273266,-0.21240153564772082,-0.4225702635009071,-0.32778824343956137,-0.2738220250402311,3.8848417519241454,-0.3833798473059249,0.9211790013330521,-0.38375672849939374,-0.32922709837689923,-0.3282688634888278,-0.3284296453930278,-0.32982968956211367,-0.38331508608656345,-0.2950839836305354,-0.32826952564434553,-0.36415161320990147,-0.32842292584881466,-0.32383996451729724,-0.38378694458556756,-0.3276031246974305,0.38642153854264694,-0.32863017209182754,-0.32870348359763174,-0.33789854749274684,-0.337107390816343,-0.32478333451129293,-0.29520245326810934,-0.3836932489868156,-0.32847240783397075,-0.3286046545326511,-0.282759941211825,-0.29870359893866083,-0.21216000248819877,-0.30868371293126656,-0.28248996505990265,-0.38293029293190106,-0.3961401391574645,-0.38161660662379565,-0.3280053294272859,-0.38282394950231513,-0.32217878385588533,-0.37860436996987484,-0.3285455789630008,-0.3285448743353717,-0.3214000293211881,0.3037350729930256,-0.38332111409390257,-0.2647198242703167,-0.3298655919912434,-0.3277251571139613,0.9469559250915114,-0.24821632035575003,-0.3411378028445022,0.6098552805506919,-0.34395005744787294,-0.34239233039865064,-0.4077554354509007,-0.25752821398994485,0.15449041128293053,-0.2576017082744916,-0.3575012163250579,-0.40723981788653413,-0.3836042045361928,-0.2828365091251109,4.594926785030825,-0.32972692294685707,-0.3281661768741394,-0.3286857230058162,-0.3391141872446566,0.7250863247507644,-0.3835429108889729,-0.3338678230366181,-0.3286397171017231,-0.2924284088926708,0.471856542959819,-0.29348172717356685,-0.3281084662191569,-0.3683170225822423,-0.3285880983867591,-0.3818473028233163,-0.3310778382180722,-0.32845301402936483,-0.06904391605753858,-0.382454166290085,-0.3822877673498621,3.8898918007936434,0.2381473236707181,-0.2541382916993218,-0.325811785480872,-0.29813617504223655,-0.33777982051767935,0.10190210490548197,-0.3275584141625932,-0.3828912061343839,-0.3283309859809876,-0.3276193428765184,-0.3369118487082654,-0.3146233682180363,-0.32870876722014786,-0.3380554603603179,0.2189571930934292,-0.3427022216435681,-0.28495944539497725,-0.32407383515047805,-0.26213542681003976,-0.2951615362771082,-0.20363077897711665,-0.19315695177800718,-0.40789981872996367,-0.3836052309163516,-0.40803229015749914,-0.36227968729306065,-0.3836224549143566,-0.30404702338238143,-0.28196371068807624,-0.3110539074730932,-0.3686115717256451,-0.3435331623612744,-0.32873723590903514,-0.32871822713818133,-0.276119538169337,-0.3290338841402562,-0.3293050830847573,-0.3284234684709204,4.090024219377621,-0.3804601741309482,-0.32950141452139786,-0.3104531592987082,-0.273188954882928,-0.27299414072335904,-0.28251821758290463,-0.28293308374023923,-0.3278570915438269,-0.3380616446224869,-0.3427983203394718,-0.3277114476234826,-0.12388908279885422,-0.3377172977788508,-0.28278105130238007,-0.34170267879971,-0.32787673394455225,-0.18645225670525853,2.339923113430993,-0.3333218571661828,-0.3261198227956749,-0.24834746045086928,1.078977093832683,-0.28298240969663613,-0.35533090286588986,-0.33789807256094884,-0.3835975328514329,-0.15888969724455373,-0.33792221909931414,-0.33656606544347095,-0.3213376398223873,-0.3376160070084272,-0.3830744519829837,-0.2799165222271965,-0.32856637495602387,-0.36151954809090026,-0.33747248942307817,-0.36792318336266305,-0.18273811958858344,-0.3389520143002768,-0.38928836597115385,-0.25847168281713145,-0.33608793995470365,-0.33768102281964624,0.5571613843190633,-0.11930985667204212,-0.38286386991044397,-0.3284274381758386,-0.3833382198609809,-0.3380197499628484,0.6142198826743267,-0.3381120001063796,-0.32789012852555366,-0.29828130594007735,-0.294639337183142,-0.38054518923626185,-0.38331072312350994,3.902631042631348,0.1238565066329415,-0.38074793569160265,-0.3272523447298791,-0.32810877166807434,-0.2496107526111108,-0.32864755111809235,-0.3746006937616893,-0.23897374319461698,-0.06574878698177551,-0.3701823680316783,-0.3278962696813437,-0.3206806195082651,-0.3797405858305478,-0.3262735468177495,-0.33011652728482604,-0.39792050193408013,-0.2936659618526872,3.88524913591198,-0.08227022363597991,-0.3233547916591553,-0.33867963641282955,-0.2580170372103172,-0.3975447300174274,3.895528728865793,3.8968243778706833,-0.22973489865414862,0.640270905910532,-0.3300497314769762,-0.2762576897525602,-0.29131379125653273,2.594283687298268,-0.3267391991054433,-0.28319313156043086,-0.3277602904776679],\"y\":[1.0823342688197966,1.082373476134019,1.6907299807459122,1.3258198071475733,0.9159048057026948,0.8572853519064157,0.4730172580689912,1.806409974586974,1.0823308988637963,1.0825277743762975,1.0823717451260453,1.082334016638105,1.0823340549555307,0.7683587598470863,0.9856745746028233,1.3191124271957633,0.1540511807164923,1.0822978153810634,0.9420634909950442,1.3258224320790641,2.054834247850796,0.7045425125423875,0.856505147675799,0.6980542233348537,1.8484372653786094,1.848421755450305,0.5970441140812358,1.082179348061737,1.0823048206892079,1.091261734197348,0.9415677735149086,1.3258287236242492,-0.06505593832050957,0.9975585419010755,1.3258238566796392,1.081820427441985,1.0822965353720633,0.28878706183237834,1.3258279237948787,-0.06499689546373637,1.8484272179122427,1.0818490204878248,1.6938940120623411,1.1629690285939736,0.8572724786069954,0.9856920901803495,0.69806615504013,1.8484113919963912,0.6978459036132549,1.0823347158306802,1.8484139979248468,0.9415425443304328,1.082327196497826,1.3258291847641903,2.199783451805658,2.0696053385323134,1.0607236152911246,0.6980352979578951,1.8483976412563687,0.8567794235628591,1.8065779808615727,0.9417859163820621,0.857286076940179,1.3150975467908077,0.8572926199788904,1.5579403157541272,1.0823147359521852,0.6979529753184337,1.3256282518583036,0.6568154587355393,0.8572767466773162,0.7769053264151834,1.31910618183736,1.3258299261085988,0.8571788758461862,0.8570232848947762,1.5548515526362405,1.325762436691917,1.155059170793622,1.0815212481460132,1.0823121365636834,1.0823116902359113,1.4640362070987685,0.9414039901597083,1.325806947670749,1.0822996855918354,0.8572856710511528,1.3258273331186727,1.082323918484697,1.0823348595833888,0.6981095243929027,0.3422762301975993,2.0230760106556054,1.3190939996921212,1.0823444775704525,1.3251138526078368,1.3191347736888024,1.4641401831140526,1.876589846792336,1.31895649882484,2.024069306244776,2.07422107669889,1.3258184002566773,1.876041838240973,1.325827853769149,1.3190994082593503,1.0823190347522293,1.0823127415356772,1.31910618183736,1.325798753187405,0.8572898012524015,1.082322933317857,0.9342716799267323,1.0823227943980025,1.0819925374140433,1.325826320308839,1.082260454668397,0.6911118145364483,1.08232843235105,1.0823335201707616,1.1551991978394216,0.6685510043489895,1.0820764091070416,0.8572862589915543,1.3258254865862285,1.0823272625826317,1.0823227310862322,0.6980295992061819,0.23919032520325967,1.4641374680997306,1.0821084828956244,0.69805059808802,1.3257797006674898,1.9996162018417902,1.3258040793153512,1.3190860531920847,1.325782246102476,1.3190208160416104,1.3256006166648158,1.0823246547073193,1.08231945149671,1.0818041053072969,0.43327716924177945,1.3258127403630977,0.6970871225377095,1.3190982567462703,1.0822850900529177,1.7712412712203083,0.47291727605546907,1.1550426060303485,1.8668013803202346,1.5548698350705616,1.5548293977645165,2.030442529839366,1.8484077071802278,1.0585729309768206,1.8484137922639496,1.1943533057340567,2.0304548716548676,1.325827509655907,0.6980543294635763,2.2814114680122746,1.3190792482415337,1.0823146304197928,1.082333320528355,0.916938503417505,1.2761440625364344,1.3258166168881154,0.5968886251283381,1.0823262725822425,0.2852803936695434,1.08383373019183,0.8572716269946973,1.5544081972089212,1.3825313240502284,1.0823237868419224,1.5393836313050473,1.3569806374063387,1.0823314092564826,0.4709881606728461,1.5394695240923517,1.3257639909352985,2.0740769896922795,1.5476127833562954,1.8483616651593162,1.0822566983166357,1.1705868115049889,1.1551985068212958,1.0573141779402815,1.0822572854205939,1.325815964903581,1.0823094504613162,1.0823123528796676,1.1551486252735523,1.0820369686917792,1.0823329102569523,0.9415425370263969,0.6924132282099718,1.1550581531042536,0.2969293974567108,1.0822827532655703,0.9405624350866653,0.8572844120877339,1.4637866278751936,4.097025250002191,2.0304588579298244,1.325816538342928,2.0304578068147094,0.932052254146079,1.3258161260695296,1.679964070871979,0.6979999042260311,1.2364056067457456,1.382544057772456,1.5548515509420835,1.0823329354038744,1.0823319772513735,0.6978741187799498,1.1932117579026063,1.31907069184057,1.0823213682636068,2.130961134640639,1.53941683359989,1.3190716450385844,0.45797582744275933,1.0800456251239408,1.4148827376363675,0.6980558757198073,0.698043119196311,1.0822783992065725,0.9415514697792433,2.027716528902922,1.0822889510686082,1.0800312523060305,0.9415216617845715,0.6980368662194213,2.0276773961532157,1.082296299946917,1.4222729083908152,0.2546014440479414,1.1548600715227155,1.0822210622153638,0.47298466862426525,1.651520369135733,0.6980521131834821,0.842242211289079,1.1551949697687836,1.5394794128831846,0.689106463392187,0.6695384234113402,1.1551710333994063,1.0818055986615513,0.9415290322908717,1.3258115787332656,0.6979528117615474,1.3190021716307991,0.9046910261084782,0.9415006717364802,1.0280115209577887,1.0731113723255397,0.5970347211954324,0.8250063545627917,1.2956949210374655,0.9169341979852558,1.1551881533259472,1.695919729026373,0.946793267065624,1.5394624584407024,1.0823276324026996,1.539475809028858,1.1551974484527834,1.0520539969114835,0.94154210223678,1.0822959793343958,1.6797911868477808,2.0253416955131187,1.325610687087394,1.3258200548122334,2.0740286294738373,1.0684382747223706,1.3259025948527998,1.082229282839666,1.082311762121105,0.4730104350209897,1.082337201817197,1.325696448607913,1.0770646153998962,0.86265904819274,1.3254489190467251,1.0823445858836678,1.0822452689514803,1.325779739561539,1.0822809742581148,1.3191070883973557,0.8351968562767117,0.8572636842902475,2.074206155434735,0.6957954060496807,1.0822519173106873,0.5970135656714683,1.8484171191180334,2.1127075896693603,2.0745652016813394,2.0745962143195396,0.4727944481451038,0.26137937950323287,1.319108945727802,0.6975881827454025,1.7456307246756115,0.8952986603157915,1.0822062368318446,0.6980573853148744,1.0822877819666685],\"z\":[-0.5100331656648345,-0.5102818827770482,-0.6052125237332461,-0.43123353225420746,-0.1500976681774056,-0.3743430675801914,-0.06881390608085478,-0.5010761146979883,-0.5100378634189952,-0.5101651630472328,-0.5100587296418223,-0.5100332022453523,-0.5100334370037355,-0.40908629090789567,-0.3720305877332134,-0.02399011541578272,-0.40956775228265546,-0.5100583683401889,-0.12604825799858072,-0.4312353228184642,-0.42953357341599663,-0.20892572076503552,-0.3748110717491476,-0.2045065662363417,-0.5817103719677803,-0.5816997920637917,-0.28814981943458856,-0.5101027297147678,-0.510053967615999,-0.5161229247167204,-0.12571011050734462,-0.43123043562702235,0.12298737938819991,-0.13748093924901275,-0.4312312876968566,-0.5103502411797979,-0.510049150372849,-0.30541158265674695,-0.43123218444308437,0.12298882816635227,-0.581703518214017,-0.5101194008137457,-0.5250780732975427,0.009617212568752838,-0.37435347931759433,-0.3720407082490694,-0.20450795433658764,-0.5816977296581746,-0.20456633320451756,-0.5100334705702111,-0.5816986727772239,-0.12570124555925863,-0.5100366861763436,-0.43123074977063586,-0.07791035654736317,-0.7431331449972491,-0.1338161212821305,-0.20452862968901048,-0.5817042049303525,-0.3744060168271618,-0.501055656251055,-0.4629442533576727,-0.3743435621529225,-0.4349880523102673,-0.37434322713062784,-0.5200818585443318,-0.5100373656783707,-0.20452298248067396,-0.4312539065404762,-0.21767619140181074,-0.37434470797323705,-0.3991225930323203,-0.02399420004768522,-0.43126254856388935,-0.37435418701650086,-0.3743741741927171,-0.5180124490525333,-0.4312432149413143,-0.030762821436946565,-0.5103130562611548,-0.51003656610075,-0.5100594880740509,-0.27617792247753603,-0.1258725152431505,-0.43123644307786757,-0.5100471268433544,-0.37434286803953093,-0.43123073841753573,-0.5100348673618643,-0.5100335686293263,-0.2045375381992198,-0.1586254189208352,-0.6576580256613818,-0.024008421177357794,-0.5100401294191443,-0.4313686567577689,-0.024022048404865975,-0.27616644332157125,-0.5638409124985005,-0.02400934044288478,-0.6531225775595881,-0.06385565209404105,-0.43123591049122206,-0.6008951418393579,-0.4312314496158983,-0.024002096773765746,-0.510038854396405,-0.5100360052120454,-0.02399420004768522,-0.43123502572593225,-0.37434526816349806,-0.5100392022377087,-0.22597395999725672,-0.5100370212689698,-0.5100715399624292,-0.4312308820244683,-0.5100428969866166,-0.21333070263064136,-0.5100346085093813,-0.5100340384496985,-0.12012538734170727,-0.2832157823684862,-0.5100658904924815,-0.37434326909573684,-0.43123212997943766,-0.5100367312552686,-0.5100344468178597,-0.20450596650001268,-0.2890531684071146,-0.276169608520875,-0.5102963898564634,-0.20451170647996986,-0.4312387189376543,-0.7221821407938475,-0.431259520940573,-0.02401814226935431,-0.4312404552743563,-0.024094520514092898,-0.4312834555242329,-0.5100354580725696,-0.5100349912953365,-0.5100887624840064,-0.07299357945047229,-0.4312362220780561,-0.20467460205377916,-0.023992966458313447,-0.5100434292975555,-0.5144919015558154,-0.06882397246612791,-0.03077926853416943,-0.5893977874549904,-0.5179915408861795,-0.5180098536211053,-0.6754984623755865,-0.5817027264494856,-0.5146867285871682,-0.5817022451792156,0.024783291698433945,-0.6755068811909729,-0.4312335739421511,-0.20450715012311127,3.5257651741555955,-0.02399318485326111,-0.5100399022831175,-0.5100342711954337,-0.14933861684010893,-0.051334935643313026,-0.4312334422648415,-0.2882090780902992,-0.5100342757093503,0.019229809749945287,-0.5214870359782834,-0.37436625012118147,-0.5181731574794215,-0.44255221087190116,-0.5100347775633891,-0.4256707068036611,0.04097178731697617,-0.5100373853107881,-0.07117973843508014,-0.4256699988765687,-0.4312463613553303,-0.06391383041316068,-0.5255542990013425,-0.5817464228862511,-0.5100678725612406,-0.21246355094773714,-0.12012700217861262,-0.5138280859157913,-0.5100432385713413,-0.43124259407068566,-0.5100370981768227,-0.5100474228504495,-0.12013470022936296,-0.5102058832091003,-0.5100339078856659,-0.12570165781816037,-0.21108291233576137,-0.030758580682145573,-0.19508197408538394,-0.5100948249271193,-0.12668495165827903,-0.3743436782183855,-0.27625801988092613,5.351570750938365,-0.6754979176234253,-0.4312325542037047,-0.675495948894594,-0.35890988291368614,-0.4312322729765523,-0.4506506691160135,-0.20451450008683936,0.11787741451575744,-0.44254921426631866,-0.5179957582465284,-0.5100335077980666,-0.5100336886888158,-0.20458557982827985,0.021248152979455523,-0.023998363394988436,-0.5100368829317113,-0.07808209424590434,-0.425693355334637,-0.02399567567704501,0.027912119645394348,-0.5106090852935896,-0.153236300665258,-0.20451179069927455,-0.2045047579610416,-0.5100409514265352,-0.12570238885734775,-0.6524818013889859,-0.5100439768349191,-0.5127180525211265,-0.1257045249241425,-0.2045063339485347,-0.6524937022887024,-0.5100423139203814,-0.1955318131332153,-0.29984044981286107,-0.12015900475735997,-0.5100602534899459,-0.06882829361083592,-0.05344830055122077,-0.20450488482299356,-0.2776275775885274,-0.1201250066636517,-0.4256547439695244,-0.20543924496980573,-0.2863004142361044,-0.12014164082752415,-0.51008978115697,-0.1257066319341997,-0.4312396020993558,-0.20453912136124194,-0.024002526622793084,-0.3320593094445718,-0.1257060619926863,-0.3581120151455545,-0.511252224590099,-0.28815060126167635,-0.423146114713069,-0.1451205786608149,-0.14938099695614762,-0.12012745001365967,-0.2547197223060959,-0.12927461570527013,-0.4256635605264779,-0.5100374007646711,-0.42565807903974434,-0.12012351391619638,-0.5205875023090926,-0.12570081881821404,-0.5100420952185518,-0.4507163245908752,-0.6529449154214013,-0.4312569456365756,-0.43123703912564154,-0.06408946272327512,-0.5151576307942329,-0.431280825546233,-0.5100449990232524,-0.5100404508751415,-0.06881279837453078,-0.5100351663548817,-0.4313488260879863,-0.5108195705645981,-0.3780787639557581,-0.43138859751709574,-0.510046461922536,-0.5101393520016642,-0.4312838075247086,-0.5100635700287476,-0.023990228792421884,-0.02795113517509223,-0.3743629183107809,-0.06386004313713198,-0.20713509043833164,-0.5101021629710158,-0.28815251285120985,-0.5816966795165572,-0.6894428370251442,-0.06403823749788463,-0.06405939238191499,-0.06907394481571115,-0.2914878501177912,-0.023991343095314786,-0.20455742863510704,0.013948107797218143,-0.07971989005639814,-0.5100501405396374,-0.2045023894192326,-0.510043179346624],\"type\":\"scatter3d\"},{\"customdata\":[[\"SHA-256\"],[\"Ethash\"],[\"Scrypt\"],[\"CryptoNight-V7\"],[\"Ethash\"],[\"Equihash\"],[\"Multiple\"],[\"Scrypt\"],[\"X11\"],[\"Scrypt\"],[\"Multiple\"],[\"Scrypt\"],[\"SHA-256\"],[\"Scrypt\"],[\"Scrypt\"],[\"Quark\"],[\"Groestl\"],[\"Scrypt\"],[\"Scrypt\"],[\"Scrypt\"],[\"X11\"],[\"Multiple\"],[\"SHA-256\"],[\"Scrypt\"],[\"Scrypt\"],[\"Scrypt\"],[\"Scrypt\"],[\"Scrypt\"],[\"NeoScrypt\"],[\"Scrypt\"],[\"Scrypt\"],[\"Scrypt\"],[\"Scrypt\"],[\"SHA-256\"],[\"Scrypt\"],[\"Scrypt\"],[\"Scrypt\"],[\"Scrypt\"],[\"HybridScryptHash256\"],[\"Scrypt\"],[\"Scrypt\"],[\"SHA-256\"],[\"Scrypt\"],[\"Scrypt\"],[\"Scrypt\"],[\"Scrypt\"],[\"SHA-256\"],[\"SHA-256\"],[\"SHA-256\"],[\"SHA-256\"],[\"SHA-256\"],[\"X11\"],[\"Scrypt\"],[\"Lyra2REv2\"],[\"Scrypt\"],[\"SHA-256\"],[\"CryptoNight\"],[\"CryptoNight\"],[\"Scrypt\"],[\"Scrypt\"],[\"Scrypt\"],[\"Scrypt\"],[\"Scrypt\"],[\"Scrypt\"],[\"Stanford Folding\"],[\"Multiple\"],[\"QuBit\"],[\"Scrypt\"],[\"Scrypt\"],[\"M7 POW\"],[\"Scrypt\"],[\"SHA-256\"],[\"Scrypt\"],[\"X11\"],[\"Lyra2RE\"],[\"SHA-256\"],[\"X11\"],[\"Scrypt\"],[\"Scrypt\"],[\"Ethash\"],[\"Blake2b\"],[\"X11\"],[\"SHA-256\"],[\"Scrypt\"],[\"1GB AES Pattern Search\"],[\"Scrypt\"],[\"SHA-256\"],[\"X11\"],[\"Dagger\"],[\"Scrypt\"],[\"X11GOST\"],[\"Scrypt\"],[\"ScryptOG\"],[\"X11\"],[\"Scrypt\"],[\"X11\"],[\"Equihash\"],[\"CryptoNight\"],[\"SHA-256\"],[\"Multiple\"],[\"Scrypt\"],[\"SHA-256\"],[\"Scrypt\"],[\"Lyra2Z\"],[\"Ethash\"],[\"Equihash\"],[\"Scrypt\"],[\"X11\"],[\"X11\"],[\"CryptoNight\"],[\"Scrypt\"],[\"CryptoNight\"],[\"Lyra2RE\"],[\"X11\"],[\"CryptoNight-V7\"],[\"Scrypt\"],[\"X11\"],[\"Equihash\"],[\"Scrypt\"],[\"Lyra2RE\"],[\"Dagger-Hashimoto\"],[\"Scrypt\"],[\"NIST5\"],[\"Scrypt\"],[\"SHA-256\"],[\"Scrypt\"],[\"CryptoNight-V7\"],[\"Argon2d\"],[\"Blake2b\"],[\"Cloverhash\"],[\"CryptoNight\"],[\"X11\"],[\"Scrypt\"],[\"Scrypt\"],[\"X11\"],[\"X11\"],[\"CryptoNight\"],[\"Time Travel\"],[\"Scrypt\"],[\"Keccak\"],[\"X11\"],[\"SHA-256\"],[\"Scrypt\"],[\"Scrypt\"],[\"Scrypt\"],[\"Scrypt\"],[\"Scrypt\"],[\"Scrypt\"],[\"CryptoNight\"],[\"Equihash\"],[\"X11\"],[\"NeoScrypt\"],[\"Equihash\"],[\"Dagger\"],[\"Scrypt\"],[\"X11\"],[\"NeoScrypt\"],[\"Ethash\"],[\"NeoScrypt\"],[\"Multiple\"],[\"CryptoNight\"],[\"CryptoNight\"],[\"Ethash\"],[\"Scrypt\"],[\"X11\"],[\"CryptoNight-V7\"],[\"Scrypt\"],[\"BLAKE256\"],[\"X11\"],[\"NeoScrypt\"],[\"NeoScrypt\"],[\"NeoScrypt\"],[\"Scrypt\"],[\"X11\"],[\"SHA-256\"],[\"C11\"],[\"Ethash\"],[\"Scrypt\"],[\"CryptoNight\"],[\"SkunkHash\"],[\"CryptoNight\"],[\"Scrypt\"],[\"Dagger\"],[\"Lyra2REv2\"],[\"Scrypt\"],[\"Scrypt\"],[\"X11\"],[\"Ethash\"],[\"CryptoNight\"],[\"Scrypt\"],[\"SHA-256\"],[\"IMesh\"],[\"Quark\"],[\"Equihash\"],[\"Lyra2Z\"],[\"NeoScrypt\"],[\"X11\"],[\"CryptoNight\"],[\"NIST5\"],[\"Lyra2RE\"],[\"Tribus\"],[\"Lyra2Z\"],[\"CryptoNight\"],[\"CryptoNight Heavy\"],[\"CryptoNight\"],[\"Jump Consistent Hash\"],[\"CryptoNight\"],[\"SHA-512\"],[\"X16R\"],[\"HMQ1725\"],[\"X11\"],[\"Scrypt\"],[\"Scrypt\"],[\"CryptoNight-V7\"],[\"Cryptonight-GPU\"],[\"XEVAN\"],[\"CryptoNight Heavy\"],[\"CryptoNight\"],[\"X11\"],[\"SHA-256\"],[\"X11\"],[\"X16R\"],[\"Equihash\"],[\"HMQ1725\"],[\"Lyra2Z\"],[\"SHA-256\"],[\"PHI1612\"],[\"CryptoNight\"],[\"Blake\"],[\"Blake\"],[\"Blake\"],[\"Blake\"],[\"Equihash\"],[\"Exosis\"],[\"Scrypt\"],[\"Equihash\"],[\"Equihash\"],[\"Lyra2REv2\"],[\"QuBit\"],[\"SHA-256\"],[\"X13\"],[\"SHA-256\"],[\"Ethash\"],[\"Scrypt\"],[\"NeoScrypt\"],[\"Blake\"],[\"Scrypt\"],[\"SHA-256\"],[\"Scrypt\"],[\"Groestl\"],[\"Scrypt\"],[\"Scrypt\"],[\"Multiple\"],[\"Equihash+Scrypt\"],[\"Lyra2Z\"],[\"Ethash\"],[\"Equihash\"],[\"CryptoNight\"],[\"Equihash\"]],\"hovertemplate\":\"<b>%{hovertext}</b><br><br>Class=%{marker.color}<br>PC 1=%{x}<br>PC 2=%{y}<br>PC 3=%{z}<br>Algorithm=%{customdata[0]}<extra></extra>\",\"hovertext\":[\"Bitcoin\",\"Ethereum\",\"Litecoin\",\"Monero\",\"Ethereum Classic\",\"ZCash\",\"DigiByte\",\"ProsperCoin\",\"Spreadcoin\",\"Argentum\",\"MyriadCoin\",\"MoonCoin\",\"ZetaCoin\",\"SexCoin\",\"Quatloo\",\"QuarkCoin\",\"Riecoin\",\"Digitalcoin \",\"Catcoin\",\"CannaCoin\",\"CryptCoin\",\"Verge\",\"DevCoin\",\"EarthCoin\",\"E-Gulden\",\"Einsteinium\",\"Emerald\",\"Franko\",\"FeatherCoin\",\"GrandCoin\",\"GlobalCoin\",\"GoldCoin\",\"Infinite Coin\",\"IXcoin\",\"KrugerCoin\",\"LuckyCoin\",\"Litebar \",\"MegaCoin\",\"MediterraneanCoin\",\"MinCoin\",\"NobleCoin\",\"Namecoin\",\"NyanCoin\",\"RonPaulCoin\",\"StableCoin\",\"SmartCoin\",\"SysCoin\",\"TigerCoin\",\"TerraCoin\",\"UnbreakableCoin\",\"Unobtanium\",\"UroCoin\",\"ViaCoin\",\"Vertcoin\",\"WorldCoin\",\"JouleCoin\",\"ByteCoin\",\"DigitalNote \",\"MonaCoin\",\"Gulden\",\"PesetaCoin\",\"Wild Beast Coin\",\"Flo\",\"ArtByte\",\"Folding Coin\",\"Unitus\",\"CypherPunkCoin\",\"OmniCron\",\"GreenCoin\",\"Cryptonite\",\"MasterCoin\",\"SoonCoin\",\"1Credit\",\"MarsCoin \",\"Crypto\",\"Anarchists Prime\",\"BowsCoin\",\"Song Coin\",\"BitZeny\",\"Expanse\",\"Siacoin\",\"MindCoin\",\"I0coin\",\"Revolution VR\",\"HOdlcoin\",\"Gamecredits\",\"CarpeDiemCoin\",\"Adzcoin\",\"SoilCoin\",\"YoCoin\",\"SibCoin\",\"Francs\",\"Aiden\",\"BolivarCoin\",\"Omni\",\"PizzaCoin\",\"Komodo\",\"Karbo\",\"ZayedCoin\",\"Circuits of Value\",\"DopeCoin\",\"DollarCoin\",\"Shilling\",\"ZCoin\",\"Elementrem\",\"ZClassic\",\"KiloCoin\",\"ArtexCoin\",\"Kurrent\",\"Cannabis Industry Coin\",\"OsmiumCoin\",\"Bikercoins\",\"HexxCoin\",\"PacCoin\",\"Citadel\",\"BeaverCoin\",\"VaultCoin\",\"Zero\",\"Canada eCoin\",\"Zoin\",\"DubaiCoin\",\"EB3coin\",\"Coinonat\",\"BenjiRolls\",\"ILCoin\",\"EquiTrader\",\"Quantum Resistant Ledger\",\"Dynamic\",\"Nano\",\"ChanCoin\",\"Dinastycoin\",\"DigitalPrice\",\"Unify\",\"SocialCoin\",\"ArcticCoin\",\"DAS\",\"LeviarCoin\",\"Bitcore\",\"gCn Coin\",\"SmartCash\",\"Onix\",\"Bitcoin Cash\",\"Sojourn Coin\",\"NewYorkCoin\",\"FrazCoin\",\"Kronecoin\",\"AdCoin\",\"Linx\",\"Sumokoin\",\"BitcoinZ\",\"Elements\",\"VIVO Coin\",\"Bitcoin Gold\",\"Pirl\",\"eBoost\",\"Pura\",\"Innova\",\"Ellaism\",\"GoByte\",\"SHIELD\",\"UltraNote\",\"BitCoal\",\"DaxxCoin\",\"BoxyCoin\",\"AC3\",\"Lethean\",\"PopularCoin\",\"Photon\",\"Sucre\",\"SparksPay\",\"GoaCoin\",\"GunCoin\",\"IrishCoin\",\"Pioneer Coin\",\"UnitedBitcoin\",\"Interzone\",\"1717 Masonic Commemorative Token\",\"Crypto Wisdom Coin\",\"TurtleCoin\",\"MUNcoin\",\"Niobio Cash\",\"ShareChain\",\"Travelflex\",\"KREDS\",\"BitFlip\",\"LottoCoin\",\"Crypto Improvement Fund\",\"Callisto Network\",\"BitTube\",\"Poseidon\",\"Manna\",\"Aidos Kuneen\",\"Cosmo\",\"Bitrolium\",\"Alpenschillling\",\"Rapture\",\"FuturoCoin\",\"Monero Classic\",\"Jumpcoin\",\"Infinex\",\"KEYCO\",\"GINcoin\",\"PlatinCoin\",\"Loki\",\"Newton Coin\",\"MassGrid\",\"PluraCoin\",\"Arionum\",\"Motion\",\"PlusOneCoin\",\"Axe\",\"HexCoin\",\"Deimos\",\"Webchain\",\"Ryo\",\"Urals Coin\",\"Qwertycoin\",\"Bitcoin Nova\",\"DACash\",\"Project Pai\",\"Azart\",\"Xchange\",\"CrypticCoin\",\"Brazio\",\"Actinium\",\"Bitcoin SV\",\"Argoneum\",\"FREDEnergy\",\"BlakeBitcoin\",\"Universal Molecule\",\"Lithium\",\"Electron\",\"PirateCash\",\"Exosis\",\"Block-Logic\",\"Beam\",\"Bithereum\",\"Scribe Network\",\"SLICE\",\"BLAST\",\"Bitcoin Rhodium\",\"GlobalToken\",\"Media Protocol Token\",\"SolarCoin\",\"UFO Coin\",\"BlakeCoin\",\"Crypto Escudo\",\"Crown Coin\",\"SmileyCoin\",\"Groestlcoin\",\"Bata\",\"Pakcoin\",\"JoinCoin\",\"Vollar\",\"TecraCoin\",\"Reality Clash\",\"ChainZilla\",\"Beldex\",\"Horizen\"],\"legendgroup\":\"1\",\"marker\":{\"color\":[1,1,1,1,1,1,1,1,1,1,1,1,1,1,1,1,1,1,1,1,1,1,1,1,1,1,1,1,1,1,1,1,1,1,1,1,1,1,1,1,1,1,1,1,1,1,1,1,1,1,1,1,1,1,1,1,1,1,1,1,1,1,1,1,1,1,1,1,1,1,1,1,1,1,1,1,1,1,1,1,1,1,1,1,1,1,1,1,1,1,1,1,1,1,1,1,1,1,1,1,1,1,1,1,1,1,1,1,1,1,1,1,1,1,1,1,1,1,1,1,1,1,1,1,1,1,1,1,1,1,1,1,1,1,1,1,1,1,1,1,1,1,1,1,1,1,1,1,1,1,1,1,1,1,1,1,1,1,1,1,1,1,1,1,1,1,1,1,1,1,1,1,1,1,1,1,1,1,1,1,1,1,1,1,1,1,1,1,1,1,1,1,1,1,1,1,1,1,1,1,1,1,1,1,1,1,1,1,1,1,1,1,1,1,1,1,1,1,1,1,1,1,1,1,1,1,1,1,1,1,1,1,1,1,1,1,1,1,1,1,1,1,1,1,1,1,1,1,1,1,1,1,1,1,1,1,1,1,1],\"coloraxis\":\"coloraxis\",\"symbol\":\"diamond\"},\"mode\":\"markers\",\"name\":\"1\",\"scene\":\"scene\",\"showlegend\":true,\"x\":[-0.131617246425899,-0.1404815184673982,-0.16396024375112964,-0.14357762806867286,-0.13886293518695852,-0.1470807617454334,0.17672080239874174,-0.16515279617076872,-0.22015573582860454,-0.16475425522826584,-0.0868279402112865,2.662278101892645,-0.12858418715313316,-0.16189942417141542,-0.16455084175417506,-0.21520041649713384,-0.20088659724069047,-0.16460065801554546,-0.16513432733831215,-0.16522421722033062,-0.22024874264613037,0.20153781246644495,0.26149137035086606,0.09355891114886943,-0.16496014723693192,-0.16038860525672907,-0.16489713254473734,-0.1652835464031562,-0.17061865575111054,-0.14367143839649665,-0.16402983060134183,-0.1643188172562326,1.6543905242548949,-0.13157701510518163,-0.1614995246285947,-0.1649876656849006,-0.1653568309131511,-0.16458615132197202,-0.14267614924369176,-0.16523334013790578,-0.024822696348695193,-0.1316578416279234,-0.1586408592814149,-0.16521213668090015,-0.1632318163861294,-0.16467818005811483,-0.11829385516635914,-0.1310998792186559,-0.13139889084676998,-0.13138188591614797,-0.13199556863359804,-0.2204295039872029,-0.164916915789528,-0.17381955885388226,-0.1619046237053134,-0.1311699246530798,4.007381164574692,0.4687034688970685,-0.16373913161593748,-0.14772949060298055,-0.16240601354330222,-0.16535915582662153,-0.1622653403028429,-0.14793393098578192,-0.13064696544395996,-0.12220602962447386,-0.17460223999075994,-0.16522698810189285,-0.03308799280637984,-0.11811995820289095,-0.16536837905120955,-0.13168677019808953,0.5120802504640956,-0.2197919175522044,-0.14821390737969176,-0.13141646957114225,-0.220088396113852,-0.16341836103996046,-0.16257787942423724,-0.14159352853649995,0.3762432669649978,-0.22012516551168115,-0.1315781839647345,-0.1611626838207832,-0.15734404981650066,-0.16387376953376634,0.30384002331228704,-0.2192523896993765,-0.14073308845305657,-0.16413303696439158,-0.16449106100085173,-0.16514994994681506,-0.15198404519087672,-0.22008705533414502,-0.1653684399129192,-0.22024324103153137,-0.2670760399013877,0.3073693886493296,-0.1318488343936338,-0.1014753333188587,-0.1624214989149547,-0.1318057667229817,-0.16501844526573126,-0.0735095778948773,-0.14132517590227364,-0.14710327460319095,-0.08924643517650062,-0.2062795301988854,-0.2179852169780996,0.3073633116285576,-0.16534946053805483,0.3074993690005018,-0.14877569613012248,0.5227564968397425,-0.14229462996933712,-0.16531644567813267,-0.2126945836585231,-0.1471160867992848,-0.16337417709876847,-0.14848261338719557,-0.15109593771363092,-0.13511056825722592,-0.1802033946656843,-0.1648612944464004,-0.09682545114370407,-0.1646766737257463,-0.14214496168888685,-0.13704001632382856,-0.040654682414874625,-0.14895797186956689,0.3449448869522087,-0.2192614328374376,-0.1650081708431764,-0.164762797048007,-0.2196717138873298,-0.22027232023234336,0.30777404499926436,-0.1373583441226586,3.3818556577497163,-0.13555473098385504,-0.21078658150352886,-0.1316163760083884,-0.08805585022314982,1.6540469500731358,-0.16511008681601752,-0.16454021329907234,-0.1642290987679013,-0.16421548811168232,0.3079646054605247,0.07361317832559545,-0.1728026513799657,-0.1754958649000336,-0.14695583389444603,-0.13944314410840972,-0.16337231204101238,-0.21563835600712966,-0.17533521028470517,-0.13962742035150782,-0.17543931886559705,-0.11204550365743192,1.1784267137694266,0.3073455276462807,-0.06158746076366418,-0.16457115073539835,-0.2153729946737609,-0.1308227109988682,-0.07812709162473985,1.1585077980564715,-0.22024525832060682,-0.17549320917185124,-0.17546138521306862,-0.16825160663531946,-0.1643308794512627,-0.22016763502641787,-0.13159490389865022,-0.1988550131792422,-0.2596403555162837,-0.16497978562606344,8.34697233908677,-0.13235476820789008,0.31137441059004567,0.03548290628751209,-0.13892471034250847,-0.15879830351106802,-0.16492792659350053,0.1545270717931401,-0.21407474488790992,-0.09083723846195198,0.315578363203593,-0.16517440052247503,-0.028002583152827953,-0.15909486383304527,-0.22012034306830877,-0.14590604019222794,-0.07120649684860317,-0.17553606571586763,-0.21930389495009844,0.30753549879655817,-0.1802648057937285,-0.14861482850956265,-0.20468368536086218,-0.07359724526297136,0.3116155228107477,0.6171091858621112,2.18749300010042,-0.14853958864663896,0.3216857175921629,-0.2175038121366651,-0.19275330641953214,-0.16321201717853717,-0.22022670188545385,-0.16520002195254913,-0.15459289525897707,-0.13071178436925346,-0.15116058829463289,-0.13937092921312105,3.2407239255183655,0.32072347918025557,-0.2197368664359782,-0.08981858272834416,-0.22019695638322298,-0.19215878453057814,-0.037483289928363514,-0.160990785271595,-0.07297142758175348,-0.1316164151306226,-0.20482624534269453,0.3904488233648403,-0.1343788730123172,-0.13400138870806919,-0.13440815039459633,-0.08294233379811707,-0.2642059996153914,-0.1441848596401272,-0.16404826261852515,-0.14494011169684853,-0.14678191113689404,-0.1747715308093231,-0.1737824032833597,-0.1308633715755857,-0.09460009525519515,-0.1296863597116533,0.05901217827568297,0.5577046048996945,-0.09763267166236672,-0.08295251361762451,-0.14809075770893976,-0.1313982352079317,0.579191495554769,-0.2004298008978568,-0.16527972160105087,-0.1631540567377033,-0.12297142313650129,-0.12704374755704792,-0.07169704131392181,-0.14135967615461317,-0.23493385161804306,0.32997809797480454,-0.14708186249560706],\"y\":[-1.3294125918265352,-2.087282833582964,-1.1043946212770586,-2.1876574709192997,-2.087392471545028,-2.0474395700112678,-1.8751175943666232,-1.1043786520913994,-0.8608820280044952,-1.1043994952637386,-1.868001004837598,-1.3080105342275576,-1.329445127518006,-1.1044625846602563,-1.1044200629929948,-0.647275144127319,-1.2010571073436864,-1.104384630884332,-1.1043782100216593,-1.104374807960173,-0.8608828410683036,-1.8713828572979443,-1.3348263460105088,-1.1077100307509054,-1.104374040848955,-1.1044616037292225,-1.1043803048341791,-1.1043748826154314,-1.5897730484499277,-1.1048534010870652,-1.1043863948836279,-1.1043948988157564,-1.1248267710039155,-1.3294116288501467,-1.104463908592316,-1.1043739929570777,-1.1043696517029986,-1.1043799269225631,-2.2381805809269597,-1.1043728076866783,-1.1116034710611766,-1.329413563512773,-1.1044460595519496,-1.1043800724650996,-1.1044944767834617,-1.1043886301937476,-1.3297062821794947,-1.3294185874884663,-1.329422203305249,-1.329448646053245,-1.3294069859502857,-0.860874449453678,-1.1043744192077765,-1.5171702987012778,-1.1044736050386945,-1.3294188424926323,-2.3544428263378614,-2.315870570471265,-1.1044042515636605,-1.105133812842516,-1.104415630973874,-1.1043706103525197,-1.1044077516451525,-1.1046582366169373,-2.1931568815733153,-1.8674346681384912,-1.5181179958446005,-1.1043679720094597,-1.1082684435927088,-2.2073138559755106,-1.1043694119518905,-1.3294142559466626,-1.1531582976143278,-0.8608825051051313,-2.1854840151826194,-1.3294309333690297,-0.8608811227350346,-1.1044708485674812,-1.1044788241566097,-2.0873213962472583,-2.3135033821689572,-0.8608784699813762,-1.3294116568279541,-1.1044166871285392,-2.319900993072359,-1.1043925514312878,-1.3342552017897324,-0.8609056262013673,-2.2308303770431954,-1.1044583576127585,-2.2358854796858867,-1.1043778773911188,-2.2341450811538737,-0.8608839169345482,-1.1043694112677593,-0.8608876553934259,-1.4941978359193933,-2.3126735957072633,-1.3294101762738,-1.8677863461738273,-1.104439752379717,-1.3294097829460747,-1.104381795427735,-1.8756778960578748,-2.0873215434855883,-2.047440108878747,-1.109612651359229,-0.8608890424099865,-0.8609770416975322,-2.312681513470856,-1.1043704392535816,-2.3126810830957205,-2.1854580430730066,-0.9137428687340141,-2.1877574771165147,-1.104370105254455,-0.8613958795984837,-2.047437589258911,-1.1043918983626801,-2.185458800152984,-2.193987096779578,-1.1064710160687863,-0.6318521789744063,-1.1043819344338517,-1.3303314105694408,-1.104403290858675,-2.187697368810448,-2.1079533311550387,-2.323722680581103,-2.2373117930177746,-2.31318026952397,-0.8609171478274059,-1.104373972774621,-1.104407472024728,-0.8608987053854285,-0.860884041336899,-2.312694999074387,-2.176618211302743,-1.1607772845496052,-1.2837889668923945,-0.8614208669930261,-1.329412570992228,-1.1099374400828366,-1.0608194719316368,-1.104376923227724,-1.1044085034208275,-1.1044123617569428,-1.1044120359724479,-2.3127150893713453,-2.056980239716914,-0.8610062852918428,-1.589671458178552,-2.0474365797398066,-2.230888745891354,-1.1043918537206814,-0.8610070691812033,-1.5896803310675103,-2.087460230369262,-1.5896734962442665,-1.8676578041634078,-2.3518756263551612,-2.31267593327668,-2.0924601574152337,-1.1044205491085124,-0.8611420321156819,-2.1880583761387347,-1.105813633391882,-1.283474861930255,-0.8608840294991122,-1.5896671551724757,-1.589674165738701,-1.5898322687806197,-1.1043893613464932,-0.8608844325428434,-1.3294114677541153,-1.2546530248192045,-0.284888843338857,-1.104376630632489,-2.8268037954000174,-2.132207727214632,-2.3128080743833257,-1.1066271314189882,-2.2308365518446065,-1.5175286283929121,-1.1043866945049408,-1.1097178375857488,-0.861075628570223,-2.090687273874412,-2.3131766131651186,-1.1043791692128888,-1.334014917596521,-2.2176371924902094,-0.6472267864391269,-2.047446073972924,-1.8758196208047293,-1.5896681809861712,-0.8609181641999973,-2.3126755549109195,-0.6318343933802695,-2.18546569555845,-1.158682533140379,-1.8756722928160992,-2.312988838788665,-2.2685508639216594,-2.39767336538339,-2.250046146458433,-2.313030427607694,-0.8857187413924935,-1.3444380305928652,-2.2785783206635077,-0.860884433220235,-1.1043805634362194,-1.1048176255015865,-2.1885860171721743,-2.1806493745885267,-0.5068146544458361,-2.3359876084765503,-2.3130534597341548,-0.8608931991450092,-1.3298810650156456,-0.8608865475246693,-1.3444788593386643,-2.050171363836436,-2.278656575881267,-1.8757092463748435,-1.3294125719286576,-0.8041726133260311,-2.3163870523253047,-2.1792331190450653,-2.1792835205157215,-2.179236807784443,-2.1829331083576484,-0.24505511244473258,-2.1944676854005665,-1.104422164727158,-2.0475591808143503,-2.0474394019085485,-1.5171568378899376,-1.5181690295535377,-1.3294249297309455,-0.33828715830099837,-1.3294702403922511,-2.0895734859800146,-1.1563763295533875,-1.5906149406959749,-2.1829333520216796,-1.1046619904194,-1.3294221876118861,-1.1218758535005806,-1.2010610115072995,-1.1043703850072937,-1.1044445685587005,-1.867454966992598,-2.158723479117091,-1.8757677708918488,-2.0873211556767686,-1.4911055087514213,-2.313114727825937,-2.047439596358811],\"z\":[0.12414567356774797,0.3893744771460659,-0.011558780330537909,0.36142779860463264,0.3893616446489457,0.33047425379114037,0.31243610457682097,-0.011543387311891893,0.06725828061795587,-0.011547110776191609,0.31550919578269593,-0.0328503221279284,0.12410578372509021,-0.011581682006036651,-0.011548101441739643,0.07277128859652322,0.12644752952566501,-0.011550643728964183,-0.011543688864247106,-0.011542730021728356,0.06725966972180146,0.3117431377005472,0.11908529403561764,-0.014894923872633813,-0.01154653281336526,-0.011603126603758009,-0.011546849567883492,-0.011541884591194655,0.21028120802367486,-0.0118035180879488,-0.011558550484510984,-0.01155368663205596,-0.0353882542336364,0.12414501668542018,-0.01158721309631377,-0.011546148240952705,-0.011541328023753636,-0.0115512797681644,0.3235162311834875,-0.011542784345770989,-0.012864924053593959,0.12414633639138124,-0.011629254391918952,-0.011542418421702432,-0.01155992719228854,-0.011549181559947429,0.12398426260450797,0.12413891016741253,0.12414346785153428,0.12414565027416634,0.12415050734535836,0.06726145582929434,-0.011547109203136048,0.2121821189080624,-0.011580598786453471,0.12413992359138254,0.3060723064048934,0.35255573816135244,-0.011561023286137829,-0.011720467080441551,-0.011578823666474761,-0.011541207327278109,-0.011581533949528336,-0.011761151410226002,0.37697277267444407,0.3159573587906054,0.21528569136220066,-0.011543317190928628,-0.01305366511678868,0.3894164961820614,-0.011541186763059992,0.12414680872651562,-0.016646394769682223,0.06725318192983323,0.37544499336931647,0.1241445161983634,0.06725724585843448,-0.011559455372423063,-0.011570604436310115,0.3893937281397762,0.35095441718761466,0.06725752252193422,0.12414503577013225,-0.011596300784020316,0.3422035762339651,-0.011560192249999632,0.11843438527913315,0.06724767439281423,0.3277403476727288,-0.01155049822734493,0.44006111145686866,-0.011543498522759257,0.4484025915536095,0.06725748292171826,-0.011541185965490782,0.06726003306477603,0.31074445185000577,0.3545432019093042,0.1241487256341377,0.3156965620618434,-0.011576394698254095,0.12414808085458617,-0.01154499829557801,0.21485390856942882,0.38938994859085047,0.33047462137286454,-0.012136730568051765,0.06706278960281865,0.06723630684078714,0.35454401325905627,-0.011541360042362208,0.3545420507189941,0.37545055433367924,0.06160086221377263,0.3614188269508286,-0.011541857294219787,0.06719990163484711,0.33047457161068017,-0.011567313592741062,0.37544648111207013,0.4838608803333656,-0.011776310312113944,-0.019502758029257734,-0.011547206812936351,0.12373809322309631,-0.011547859588555958,0.361411204120866,0.4602578130472301,0.3577834041929462,0.39455188377382044,0.354058513023502,0.06724885786605364,-0.011545860259285248,-0.011546259182101642,0.06725296723482553,0.06726011295290833,0.35453944333362525,0.219751724061998,-0.05651125390068454,0.16571112113175343,0.06717522234823353,0.12414565935588055,-0.012123800623911418,-0.04124797626003784,-0.011544149393408481,-0.011549310799456992,-0.011553354743780775,-0.011553576973607494,0.35453859059536497,0.32822899816752793,0.0666003517345753,0.21034083703717402,0.3304722140147887,0.32772746287373816,-0.01156734404472329,0.06720588628036332,0.21033937922496007,0.38937865859695975,0.2103402245202183,0.31583418901379395,0.3458230431766019,0.35454375334995575,0.3887337113825502,-0.01154776984410711,0.06721450130964537,0.361284246169727,-0.012641976957836016,0.02430627555618253,0.06725972936077665,0.21034040524284578,0.21034059775923786,0.21025317686656908,-0.011554023501342974,0.06725866911999853,0.1241452547749835,0.13958191777499612,0.1964351370502278,-0.011546017948631528,0.2880136134378046,0.33659721530050757,0.35449891420912794,-0.014173265728264987,0.3277153528483082,0.21200263191525717,-0.011545828863804451,-0.015572717948850184,0.06719006702294508,0.38898470541160446,0.3544732601428812,-0.011543034563923023,0.12310281018000593,0.2977662360137243,0.0728363987610564,0.33045824556570963,0.2148343409216663,0.21034110498885325,0.06724955117193016,0.35454103352904687,-0.0195035195914994,0.37544898169298846,0.14038137445859653,0.21485463431771698,0.3545120684833332,0.2868250326853919,0.3357565145464364,0.3021875654444926,0.3543735414896582,0.04359019223512283,0.22087390216087274,0.33591564278120667,0.06725950406459044,-0.011542544673207393,-0.011652426272148807,0.3613310226372481,0.40066125673850334,0.04783017275157494,0.25592025735267443,0.3543892525672228,0.06725338363424492,0.12359779212862498,0.06725927734593282,0.22086923974713796,0.32917544134770077,0.33589141672701295,0.2148491744940068,0.12414565999465436,0.05593853255870577,0.35370915302819594,0.301193246028431,0.3011925284271961,0.30119399782611667,0.30080522080650113,0.13750704313669807,0.37817959397829354,-0.011555012595193682,0.33045495587100115,0.3304700142748822,0.21219434126021536,0.21527877924382643,0.12413614834109354,-0.0832048613026749,0.12412366335218061,0.38676460449615185,-0.01699642613128644,0.20932672233760838,0.30080538701887843,-0.011758590800733267,0.12414345714650266,-0.02046119066097105,0.12644143063570226,-0.01154235073997725,-0.011565599059218288,0.31597003712502664,0.35865840865757176,0.21483652386411975,0.3893904007034046,0.38199529824076156,0.3542640564455996,0.3304742717637873],\"type\":\"scatter3d\"},{\"customdata\":[[\"SHA-256 + Hive\"],[\"Proof-of-Authority\"],[\"ECC 256K1\"],[\"Leased POS\"]],\"hovertemplate\":\"<b>%{hovertext}</b><br><br>Class=%{marker.color}<br>PC 1=%{x}<br>PC 2=%{y}<br>PC 3=%{z}<br>Algorithm=%{customdata[0]}<extra></extra>\",\"hovertext\":[\"LitecoinCash\",\"Poa Network\",\"Acute Angle Cloud\",\"Waves\"],\"legendgroup\":\"0\",\"marker\":{\"color\":[0,0,0,0],\"coloraxis\":\"coloraxis\",\"symbol\":\"square\"},\"mode\":\"markers\",\"name\":\"0\",\"scene\":\"scene\",\"showlegend\":true,\"x\":[-0.349869434556936,-0.3947885625131761,-0.3341033610501047,-0.41364201581737114],\"y\":[4.229434837590154,3.3289182609554873,4.7307986245830955,1.814820759837988],\"z\":[11.514990818152231,16.6942937561788,7.747301433121721,24.16238060765648],\"type\":\"scatter3d\"},{\"customdata\":[[\"TRC10\"]],\"hovertemplate\":\"<b>%{hovertext}</b><br><br>Class=%{marker.color}<br>PC 1=%{x}<br>PC 2=%{y}<br>PC 3=%{z}<br>Algorithm=%{customdata[0]}<extra></extra>\",\"hovertext\":[\"BitTorrent\"],\"legendgroup\":\"2\",\"marker\":{\"color\":[2],\"coloraxis\":\"coloraxis\",\"symbol\":\"x\"},\"mode\":\"markers\",\"name\":\"2\",\"scene\":\"scene\",\"showlegend\":true,\"x\":[35.46449719420285],\"y\":[1.5939082195102137],\"z\":[-0.5428440872547596],\"type\":\"scatter3d\"}],                        {\"template\":{\"data\":{\"bar\":[{\"error_x\":{\"color\":\"#2a3f5f\"},\"error_y\":{\"color\":\"#2a3f5f\"},\"marker\":{\"line\":{\"color\":\"#E5ECF6\",\"width\":0.5},\"pattern\":{\"fillmode\":\"overlay\",\"size\":10,\"solidity\":0.2}},\"type\":\"bar\"}],\"barpolar\":[{\"marker\":{\"line\":{\"color\":\"#E5ECF6\",\"width\":0.5},\"pattern\":{\"fillmode\":\"overlay\",\"size\":10,\"solidity\":0.2}},\"type\":\"barpolar\"}],\"carpet\":[{\"aaxis\":{\"endlinecolor\":\"#2a3f5f\",\"gridcolor\":\"white\",\"linecolor\":\"white\",\"minorgridcolor\":\"white\",\"startlinecolor\":\"#2a3f5f\"},\"baxis\":{\"endlinecolor\":\"#2a3f5f\",\"gridcolor\":\"white\",\"linecolor\":\"white\",\"minorgridcolor\":\"white\",\"startlinecolor\":\"#2a3f5f\"},\"type\":\"carpet\"}],\"choropleth\":[{\"colorbar\":{\"outlinewidth\":0,\"ticks\":\"\"},\"type\":\"choropleth\"}],\"contour\":[{\"colorbar\":{\"outlinewidth\":0,\"ticks\":\"\"},\"colorscale\":[[0.0,\"#0d0887\"],[0.1111111111111111,\"#46039f\"],[0.2222222222222222,\"#7201a8\"],[0.3333333333333333,\"#9c179e\"],[0.4444444444444444,\"#bd3786\"],[0.5555555555555556,\"#d8576b\"],[0.6666666666666666,\"#ed7953\"],[0.7777777777777778,\"#fb9f3a\"],[0.8888888888888888,\"#fdca26\"],[1.0,\"#f0f921\"]],\"type\":\"contour\"}],\"contourcarpet\":[{\"colorbar\":{\"outlinewidth\":0,\"ticks\":\"\"},\"type\":\"contourcarpet\"}],\"heatmap\":[{\"colorbar\":{\"outlinewidth\":0,\"ticks\":\"\"},\"colorscale\":[[0.0,\"#0d0887\"],[0.1111111111111111,\"#46039f\"],[0.2222222222222222,\"#7201a8\"],[0.3333333333333333,\"#9c179e\"],[0.4444444444444444,\"#bd3786\"],[0.5555555555555556,\"#d8576b\"],[0.6666666666666666,\"#ed7953\"],[0.7777777777777778,\"#fb9f3a\"],[0.8888888888888888,\"#fdca26\"],[1.0,\"#f0f921\"]],\"type\":\"heatmap\"}],\"heatmapgl\":[{\"colorbar\":{\"outlinewidth\":0,\"ticks\":\"\"},\"colorscale\":[[0.0,\"#0d0887\"],[0.1111111111111111,\"#46039f\"],[0.2222222222222222,\"#7201a8\"],[0.3333333333333333,\"#9c179e\"],[0.4444444444444444,\"#bd3786\"],[0.5555555555555556,\"#d8576b\"],[0.6666666666666666,\"#ed7953\"],[0.7777777777777778,\"#fb9f3a\"],[0.8888888888888888,\"#fdca26\"],[1.0,\"#f0f921\"]],\"type\":\"heatmapgl\"}],\"histogram\":[{\"marker\":{\"pattern\":{\"fillmode\":\"overlay\",\"size\":10,\"solidity\":0.2}},\"type\":\"histogram\"}],\"histogram2d\":[{\"colorbar\":{\"outlinewidth\":0,\"ticks\":\"\"},\"colorscale\":[[0.0,\"#0d0887\"],[0.1111111111111111,\"#46039f\"],[0.2222222222222222,\"#7201a8\"],[0.3333333333333333,\"#9c179e\"],[0.4444444444444444,\"#bd3786\"],[0.5555555555555556,\"#d8576b\"],[0.6666666666666666,\"#ed7953\"],[0.7777777777777778,\"#fb9f3a\"],[0.8888888888888888,\"#fdca26\"],[1.0,\"#f0f921\"]],\"type\":\"histogram2d\"}],\"histogram2dcontour\":[{\"colorbar\":{\"outlinewidth\":0,\"ticks\":\"\"},\"colorscale\":[[0.0,\"#0d0887\"],[0.1111111111111111,\"#46039f\"],[0.2222222222222222,\"#7201a8\"],[0.3333333333333333,\"#9c179e\"],[0.4444444444444444,\"#bd3786\"],[0.5555555555555556,\"#d8576b\"],[0.6666666666666666,\"#ed7953\"],[0.7777777777777778,\"#fb9f3a\"],[0.8888888888888888,\"#fdca26\"],[1.0,\"#f0f921\"]],\"type\":\"histogram2dcontour\"}],\"mesh3d\":[{\"colorbar\":{\"outlinewidth\":0,\"ticks\":\"\"},\"type\":\"mesh3d\"}],\"parcoords\":[{\"line\":{\"colorbar\":{\"outlinewidth\":0,\"ticks\":\"\"}},\"type\":\"parcoords\"}],\"pie\":[{\"automargin\":true,\"type\":\"pie\"}],\"scatter\":[{\"marker\":{\"colorbar\":{\"outlinewidth\":0,\"ticks\":\"\"}},\"type\":\"scatter\"}],\"scatter3d\":[{\"line\":{\"colorbar\":{\"outlinewidth\":0,\"ticks\":\"\"}},\"marker\":{\"colorbar\":{\"outlinewidth\":0,\"ticks\":\"\"}},\"type\":\"scatter3d\"}],\"scattercarpet\":[{\"marker\":{\"colorbar\":{\"outlinewidth\":0,\"ticks\":\"\"}},\"type\":\"scattercarpet\"}],\"scattergeo\":[{\"marker\":{\"colorbar\":{\"outlinewidth\":0,\"ticks\":\"\"}},\"type\":\"scattergeo\"}],\"scattergl\":[{\"marker\":{\"colorbar\":{\"outlinewidth\":0,\"ticks\":\"\"}},\"type\":\"scattergl\"}],\"scattermapbox\":[{\"marker\":{\"colorbar\":{\"outlinewidth\":0,\"ticks\":\"\"}},\"type\":\"scattermapbox\"}],\"scatterpolar\":[{\"marker\":{\"colorbar\":{\"outlinewidth\":0,\"ticks\":\"\"}},\"type\":\"scatterpolar\"}],\"scatterpolargl\":[{\"marker\":{\"colorbar\":{\"outlinewidth\":0,\"ticks\":\"\"}},\"type\":\"scatterpolargl\"}],\"scatterternary\":[{\"marker\":{\"colorbar\":{\"outlinewidth\":0,\"ticks\":\"\"}},\"type\":\"scatterternary\"}],\"surface\":[{\"colorbar\":{\"outlinewidth\":0,\"ticks\":\"\"},\"colorscale\":[[0.0,\"#0d0887\"],[0.1111111111111111,\"#46039f\"],[0.2222222222222222,\"#7201a8\"],[0.3333333333333333,\"#9c179e\"],[0.4444444444444444,\"#bd3786\"],[0.5555555555555556,\"#d8576b\"],[0.6666666666666666,\"#ed7953\"],[0.7777777777777778,\"#fb9f3a\"],[0.8888888888888888,\"#fdca26\"],[1.0,\"#f0f921\"]],\"type\":\"surface\"}],\"table\":[{\"cells\":{\"fill\":{\"color\":\"#EBF0F8\"},\"line\":{\"color\":\"white\"}},\"header\":{\"fill\":{\"color\":\"#C8D4E3\"},\"line\":{\"color\":\"white\"}},\"type\":\"table\"}]},\"layout\":{\"annotationdefaults\":{\"arrowcolor\":\"#2a3f5f\",\"arrowhead\":0,\"arrowwidth\":1},\"autotypenumbers\":\"strict\",\"coloraxis\":{\"colorbar\":{\"outlinewidth\":0,\"ticks\":\"\"}},\"colorscale\":{\"diverging\":[[0,\"#8e0152\"],[0.1,\"#c51b7d\"],[0.2,\"#de77ae\"],[0.3,\"#f1b6da\"],[0.4,\"#fde0ef\"],[0.5,\"#f7f7f7\"],[0.6,\"#e6f5d0\"],[0.7,\"#b8e186\"],[0.8,\"#7fbc41\"],[0.9,\"#4d9221\"],[1,\"#276419\"]],\"sequential\":[[0.0,\"#0d0887\"],[0.1111111111111111,\"#46039f\"],[0.2222222222222222,\"#7201a8\"],[0.3333333333333333,\"#9c179e\"],[0.4444444444444444,\"#bd3786\"],[0.5555555555555556,\"#d8576b\"],[0.6666666666666666,\"#ed7953\"],[0.7777777777777778,\"#fb9f3a\"],[0.8888888888888888,\"#fdca26\"],[1.0,\"#f0f921\"]],\"sequentialminus\":[[0.0,\"#0d0887\"],[0.1111111111111111,\"#46039f\"],[0.2222222222222222,\"#7201a8\"],[0.3333333333333333,\"#9c179e\"],[0.4444444444444444,\"#bd3786\"],[0.5555555555555556,\"#d8576b\"],[0.6666666666666666,\"#ed7953\"],[0.7777777777777778,\"#fb9f3a\"],[0.8888888888888888,\"#fdca26\"],[1.0,\"#f0f921\"]]},\"colorway\":[\"#636efa\",\"#EF553B\",\"#00cc96\",\"#ab63fa\",\"#FFA15A\",\"#19d3f3\",\"#FF6692\",\"#B6E880\",\"#FF97FF\",\"#FECB52\"],\"font\":{\"color\":\"#2a3f5f\"},\"geo\":{\"bgcolor\":\"white\",\"lakecolor\":\"white\",\"landcolor\":\"#E5ECF6\",\"showlakes\":true,\"showland\":true,\"subunitcolor\":\"white\"},\"hoverlabel\":{\"align\":\"left\"},\"hovermode\":\"closest\",\"mapbox\":{\"style\":\"light\"},\"paper_bgcolor\":\"white\",\"plot_bgcolor\":\"#E5ECF6\",\"polar\":{\"angularaxis\":{\"gridcolor\":\"white\",\"linecolor\":\"white\",\"ticks\":\"\"},\"bgcolor\":\"#E5ECF6\",\"radialaxis\":{\"gridcolor\":\"white\",\"linecolor\":\"white\",\"ticks\":\"\"}},\"scene\":{\"xaxis\":{\"backgroundcolor\":\"#E5ECF6\",\"gridcolor\":\"white\",\"gridwidth\":2,\"linecolor\":\"white\",\"showbackground\":true,\"ticks\":\"\",\"zerolinecolor\":\"white\"},\"yaxis\":{\"backgroundcolor\":\"#E5ECF6\",\"gridcolor\":\"white\",\"gridwidth\":2,\"linecolor\":\"white\",\"showbackground\":true,\"ticks\":\"\",\"zerolinecolor\":\"white\"},\"zaxis\":{\"backgroundcolor\":\"#E5ECF6\",\"gridcolor\":\"white\",\"gridwidth\":2,\"linecolor\":\"white\",\"showbackground\":true,\"ticks\":\"\",\"zerolinecolor\":\"white\"}},\"shapedefaults\":{\"line\":{\"color\":\"#2a3f5f\"}},\"ternary\":{\"aaxis\":{\"gridcolor\":\"white\",\"linecolor\":\"white\",\"ticks\":\"\"},\"baxis\":{\"gridcolor\":\"white\",\"linecolor\":\"white\",\"ticks\":\"\"},\"bgcolor\":\"#E5ECF6\",\"caxis\":{\"gridcolor\":\"white\",\"linecolor\":\"white\",\"ticks\":\"\"}},\"title\":{\"x\":0.05},\"xaxis\":{\"automargin\":true,\"gridcolor\":\"white\",\"linecolor\":\"white\",\"ticks\":\"\",\"title\":{\"standoff\":15},\"zerolinecolor\":\"white\",\"zerolinewidth\":2},\"yaxis\":{\"automargin\":true,\"gridcolor\":\"white\",\"linecolor\":\"white\",\"ticks\":\"\",\"title\":{\"standoff\":15},\"zerolinecolor\":\"white\",\"zerolinewidth\":2}}},\"scene\":{\"domain\":{\"x\":[0.0,1.0],\"y\":[0.0,1.0]},\"xaxis\":{\"title\":{\"text\":\"PC 1\"}},\"yaxis\":{\"title\":{\"text\":\"PC 2\"}},\"zaxis\":{\"title\":{\"text\":\"PC 3\"}}},\"coloraxis\":{\"colorbar\":{\"title\":{\"text\":\"Class\"}},\"colorscale\":[[0.0,\"#0d0887\"],[0.1111111111111111,\"#46039f\"],[0.2222222222222222,\"#7201a8\"],[0.3333333333333333,\"#9c179e\"],[0.4444444444444444,\"#bd3786\"],[0.5555555555555556,\"#d8576b\"],[0.6666666666666666,\"#ed7953\"],[0.7777777777777778,\"#fb9f3a\"],[0.8888888888888888,\"#fdca26\"],[1.0,\"#f0f921\"]]},\"legend\":{\"title\":{\"text\":\"Class\"},\"tracegroupgap\":0,\"x\":0,\"y\":1},\"margin\":{\"t\":60},\"width\":900},                        {\"responsive\": true}                    ).then(function(){\n",
       "                            \n",
       "var gd = document.getElementById('3920c70e-ab32-4b1b-a97f-d4fee0807a89');\n",
       "var x = new MutationObserver(function (mutations, observer) {{\n",
       "        var display = window.getComputedStyle(gd).display;\n",
       "        if (!display || display === 'none') {{\n",
       "            console.log([gd, 'removed!']);\n",
       "            Plotly.purge(gd);\n",
       "            observer.disconnect();\n",
       "        }}\n",
       "}});\n",
       "\n",
       "// Listen for the removal of the full notebook cells\n",
       "var notebookContainer = gd.closest('#notebook-container');\n",
       "if (notebookContainer) {{\n",
       "    x.observe(notebookContainer, {childList: true});\n",
       "}}\n",
       "\n",
       "// Listen for the clearing of the current output cell\n",
       "var outputEl = gd.closest('.output');\n",
       "if (outputEl) {{\n",
       "    x.observe(outputEl, {childList: true});\n",
       "}}\n",
       "\n",
       "                        })                };                });            </script>        </div>"
      ]
     },
     "metadata": {},
     "output_type": "display_data"
    }
   ],
   "source": [
    "# Creating a 3D-Scatter with the PCA data and the clusters\n",
    "\n",
    "fig = px.scatter_3d(\n",
    "    clustered_df,\n",
    "    x=\"PC 1\",\n",
    "    y=\"PC 2\",\n",
    "    z=\"PC 3\",\n",
    "    color=\"Class\",\n",
    "    symbol=\"Class\",\n",
    "    hover_name=\"CoinName\",\n",
    "    hover_data=[\"Algorithm\"],\n",
    "    width=900,\n",
    ")\n",
    "fig.update_layout(legend=dict(x=0, y=1))\n",
    "fig.show()"
   ]
  },
  {
   "cell_type": "code",
   "execution_count": 64,
   "metadata": {},
   "outputs": [
    {
     "data": {
      "text/html": [
       "<div>\n",
       "<style scoped>\n",
       "    .dataframe tbody tr th:only-of-type {\n",
       "        vertical-align: middle;\n",
       "    }\n",
       "\n",
       "    .dataframe tbody tr th {\n",
       "        vertical-align: top;\n",
       "    }\n",
       "\n",
       "    .dataframe thead th {\n",
       "        text-align: right;\n",
       "    }\n",
       "</style>\n",
       "<table border=\"1\" class=\"dataframe\">\n",
       "  <thead>\n",
       "    <tr style=\"text-align: right;\">\n",
       "      <th></th>\n",
       "      <th>CoinName</th>\n",
       "      <th>Algorithm</th>\n",
       "      <th>ProofType</th>\n",
       "      <th>TotalCoinsMined</th>\n",
       "      <th>Class</th>\n",
       "    </tr>\n",
       "  </thead>\n",
       "  <tbody>\n",
       "    <tr>\n",
       "      <th>42</th>\n",
       "      <td>42 Coin</td>\n",
       "      <td>Scrypt</td>\n",
       "      <td>PoW/PoS</td>\n",
       "      <td>4.199995e+01</td>\n",
       "      <td>3</td>\n",
       "    </tr>\n",
       "    <tr>\n",
       "      <th>404</th>\n",
       "      <td>404Coin</td>\n",
       "      <td>Scrypt</td>\n",
       "      <td>PoW/PoS</td>\n",
       "      <td>1.055185e+09</td>\n",
       "      <td>3</td>\n",
       "    </tr>\n",
       "    <tr>\n",
       "      <th>1337</th>\n",
       "      <td>EliteCoin</td>\n",
       "      <td>X13</td>\n",
       "      <td>PoW/PoS</td>\n",
       "      <td>2.927942e+10</td>\n",
       "      <td>3</td>\n",
       "    </tr>\n",
       "    <tr>\n",
       "      <th>BTC</th>\n",
       "      <td>Bitcoin</td>\n",
       "      <td>SHA-256</td>\n",
       "      <td>PoW</td>\n",
       "      <td>1.792718e+07</td>\n",
       "      <td>1</td>\n",
       "    </tr>\n",
       "    <tr>\n",
       "      <th>ETH</th>\n",
       "      <td>Ethereum</td>\n",
       "      <td>Ethash</td>\n",
       "      <td>PoW</td>\n",
       "      <td>1.076842e+08</td>\n",
       "      <td>1</td>\n",
       "    </tr>\n",
       "  </tbody>\n",
       "</table>\n",
       "</div>"
      ],
      "text/plain": [
       "       CoinName Algorithm ProofType  TotalCoinsMined  Class\n",
       "42      42 Coin    Scrypt   PoW/PoS     4.199995e+01      3\n",
       "404     404Coin    Scrypt   PoW/PoS     1.055185e+09      3\n",
       "1337  EliteCoin       X13   PoW/PoS     2.927942e+10      3\n",
       "BTC     Bitcoin   SHA-256       PoW     1.792718e+07      1\n",
       "ETH    Ethereum    Ethash       PoW     1.076842e+08      1"
      ]
     },
     "execution_count": 64,
     "metadata": {},
     "output_type": "execute_result"
    }
   ],
   "source": [
    "# Create a table with tradable cryptocurrencies.\n",
    "coin_trade_df = pd.DataFrame(\n",
    "    data = clustered_df, columns=[\"CoinName\", \"Algorithm\", \"ProofType\", \"TotalCoinsMined\", \"Class\"],)\n",
    "coin_trade_df.head()"
   ]
  },
  {
   "cell_type": "code",
   "execution_count": 71,
   "metadata": {},
   "outputs": [
    {
     "name": "stdout",
     "output_type": "stream",
     "text": [
      "Total number of tradable cryptocurrencies: 577\n"
     ]
    }
   ],
   "source": [
    "# Print the total number of tradable cryptocurrencies.\n",
    "print(f\"Total number of tradable cryptocurrencies: {len(clustered_df)}\")"
   ]
  },
  {
   "cell_type": "code",
   "execution_count": 76,
   "metadata": {},
   "outputs": [
    {
     "name": "stdout",
     "output_type": "stream",
     "text": [
      "[[4.20000000e-11 0.00000000e+00]\n",
      " [5.32000000e-04 1.06585544e-03]\n",
      " [3.14159265e-01 2.95755135e-02]\n",
      " ...\n",
      " [2.10000000e-05 7.37028150e-06]\n",
      " [1.00000000e-06 1.29582282e-07]\n",
      " [1.00000000e-04 2.17085015e-05]]\n"
     ]
    }
   ],
   "source": [
    "# Scaling data to create the scatter plot with tradable cryptocurrencies.\n",
    "clustered_df1 = clustered_df[[\"TotalCoinSupply\", \"TotalCoinsMined\"]].copy()\n",
    "\n",
    "coint_scaled = MinMaxScaler().fit_transform(clustered_df1)\n",
    "print(coint_scaled)"
   ]
  },
  {
   "cell_type": "code",
   "execution_count": 92,
   "metadata": {},
   "outputs": [
    {
     "data": {
      "text/html": [
       "<div>\n",
       "<style scoped>\n",
       "    .dataframe tbody tr th:only-of-type {\n",
       "        vertical-align: middle;\n",
       "    }\n",
       "\n",
       "    .dataframe tbody tr th {\n",
       "        vertical-align: top;\n",
       "    }\n",
       "\n",
       "    .dataframe thead th {\n",
       "        text-align: right;\n",
       "    }\n",
       "</style>\n",
       "<table border=\"1\" class=\"dataframe\">\n",
       "  <thead>\n",
       "    <tr style=\"text-align: right;\">\n",
       "      <th></th>\n",
       "      <th>TotalCoinSupply</th>\n",
       "      <th>TotalCoinsMined</th>\n",
       "      <th>CoinName</th>\n",
       "      <th>Class</th>\n",
       "    </tr>\n",
       "  </thead>\n",
       "  <tbody>\n",
       "    <tr>\n",
       "      <th>42</th>\n",
       "      <td>4.200000e-11</td>\n",
       "      <td>0.000000</td>\n",
       "      <td>42 Coin</td>\n",
       "      <td>3</td>\n",
       "    </tr>\n",
       "    <tr>\n",
       "      <th>404</th>\n",
       "      <td>5.320000e-04</td>\n",
       "      <td>0.001066</td>\n",
       "      <td>404Coin</td>\n",
       "      <td>3</td>\n",
       "    </tr>\n",
       "    <tr>\n",
       "      <th>1337</th>\n",
       "      <td>3.141593e-01</td>\n",
       "      <td>0.029576</td>\n",
       "      <td>EliteCoin</td>\n",
       "      <td>3</td>\n",
       "    </tr>\n",
       "    <tr>\n",
       "      <th>BTC</th>\n",
       "      <td>2.100000e-05</td>\n",
       "      <td>0.000018</td>\n",
       "      <td>Bitcoin</td>\n",
       "      <td>1</td>\n",
       "    </tr>\n",
       "    <tr>\n",
       "      <th>ETH</th>\n",
       "      <td>0.000000e+00</td>\n",
       "      <td>0.000109</td>\n",
       "      <td>Ethereum</td>\n",
       "      <td>1</td>\n",
       "    </tr>\n",
       "    <tr>\n",
       "      <th>LTC</th>\n",
       "      <td>8.400000e-05</td>\n",
       "      <td>0.000064</td>\n",
       "      <td>Litecoin</td>\n",
       "      <td>1</td>\n",
       "    </tr>\n",
       "    <tr>\n",
       "      <th>DASH</th>\n",
       "      <td>2.200000e-05</td>\n",
       "      <td>0.000009</td>\n",
       "      <td>Dash</td>\n",
       "      <td>3</td>\n",
       "    </tr>\n",
       "    <tr>\n",
       "      <th>XMR</th>\n",
       "      <td>0.000000e+00</td>\n",
       "      <td>0.000017</td>\n",
       "      <td>Monero</td>\n",
       "      <td>1</td>\n",
       "    </tr>\n",
       "    <tr>\n",
       "      <th>ETC</th>\n",
       "      <td>2.100000e-04</td>\n",
       "      <td>0.000115</td>\n",
       "      <td>Ethereum Classic</td>\n",
       "      <td>1</td>\n",
       "    </tr>\n",
       "    <tr>\n",
       "      <th>ZEC</th>\n",
       "      <td>2.100000e-05</td>\n",
       "      <td>0.000007</td>\n",
       "      <td>ZCash</td>\n",
       "      <td>1</td>\n",
       "    </tr>\n",
       "  </tbody>\n",
       "</table>\n",
       "</div>"
      ],
      "text/plain": [
       "      TotalCoinSupply  TotalCoinsMined          CoinName  Class\n",
       "42       4.200000e-11         0.000000           42 Coin      3\n",
       "404      5.320000e-04         0.001066           404Coin      3\n",
       "1337     3.141593e-01         0.029576         EliteCoin      3\n",
       "BTC      2.100000e-05         0.000018           Bitcoin      1\n",
       "ETH      0.000000e+00         0.000109          Ethereum      1\n",
       "LTC      8.400000e-05         0.000064          Litecoin      1\n",
       "DASH     2.200000e-05         0.000009              Dash      3\n",
       "XMR      0.000000e+00         0.000017            Monero      1\n",
       "ETC      2.100000e-04         0.000115  Ethereum Classic      1\n",
       "ZEC      2.100000e-05         0.000007             ZCash      1"
      ]
     },
     "execution_count": 92,
     "metadata": {},
     "output_type": "execute_result"
    }
   ],
   "source": [
    "# Create a new DataFrame that has the scaled data with the clustered_df DataFrame index.\n",
    "plot_df = pd.DataFrame(data = coint_scaled, columns=[\"TotalCoinSupply\", \"TotalCoinsMined\"],index=clustered_df.index)\n",
    "\n",
    "# Add the \"CoinName\" column from the clustered_df DataFrame to the new DataFrame.\n",
    "plot_df[\"CoinName\"]= clustered_df.CoinName\n",
    "\n",
    "# Add the \"Class\" column from the clustered_df DataFrame to the new DataFrame. \n",
    "plot_df[\"Class\"]= clustered_df.Class\n",
    "\n",
    "plot_df.head(10)"
   ]
  },
  {
   "cell_type": "code",
   "execution_count": 93,
   "metadata": {},
   "outputs": [
    {
     "data": {},
     "metadata": {},
     "output_type": "display_data"
    },
    {
     "data": {
      "application/vnd.holoviews_exec.v0+json": "",
      "text/html": [
       "<div id='20301'>\n",
       "\n",
       "\n",
       "\n",
       "\n",
       "\n",
       "  <div class=\"bk-root\" id=\"386af449-a130-40a1-9a50-b3cc80015442\" data-root-id=\"20301\"></div>\n",
       "</div>\n",
       "<script type=\"application/javascript\">(function(root) {\n",
       "  function embed_document(root) {\n",
       "    var docs_json = {\"d0ddedc1-bc4f-4a94-896e-f172535735a7\":{\"defs\":[{\"extends\":null,\"module\":null,\"name\":\"ReactiveHTML1\",\"overrides\":[],\"properties\":[]},{\"extends\":null,\"module\":null,\"name\":\"FlexBox1\",\"overrides\":[],\"properties\":[{\"default\":\"flex-start\",\"kind\":null,\"name\":\"align_content\"},{\"default\":\"flex-start\",\"kind\":null,\"name\":\"align_items\"},{\"default\":\"row\",\"kind\":null,\"name\":\"flex_direction\"},{\"default\":\"wrap\",\"kind\":null,\"name\":\"flex_wrap\"},{\"default\":\"flex-start\",\"kind\":null,\"name\":\"justify_content\"}]},{\"extends\":null,\"module\":null,\"name\":\"TemplateActions1\",\"overrides\":[],\"properties\":[{\"default\":0,\"kind\":null,\"name\":\"open_modal\"},{\"default\":0,\"kind\":null,\"name\":\"close_modal\"}]},{\"extends\":null,\"module\":null,\"name\":\"MaterialTemplateActions1\",\"overrides\":[],\"properties\":[{\"default\":0,\"kind\":null,\"name\":\"open_modal\"},{\"default\":0,\"kind\":null,\"name\":\"close_modal\"}]}],\"roots\":{\"references\":[{\"attributes\":{\"source\":{\"id\":\"20412\"}},\"id\":\"20419\",\"type\":\"CDSView\"},{\"attributes\":{},\"id\":\"20360\",\"type\":\"UnionRenderers\"},{\"attributes\":{},\"id\":\"20367\",\"type\":\"Selection\"},{\"attributes\":{\"angle\":{\"value\":0.0},\"fill_alpha\":{\"value\":1.0},\"fill_color\":{\"value\":\"#30a2da\"},\"hatch_alpha\":{\"value\":1.0},\"hatch_color\":{\"value\":\"#30a2da\"},\"hatch_scale\":{\"value\":12.0},\"hatch_weight\":{\"value\":1.0},\"line_alpha\":{\"value\":1.0},\"line_cap\":{\"value\":\"butt\"},\"line_color\":{\"value\":\"#30a2da\"},\"line_dash\":{\"value\":[]},\"line_dash_offset\":{\"value\":0},\"line_join\":{\"value\":\"bevel\"},\"line_width\":{\"value\":1},\"marker\":{\"value\":\"circle\"},\"size\":{\"value\":5.477225575051661},\"x\":{\"field\":\"TotalCoinsMined\"},\"y\":{\"field\":\"TotalCoinSupply\"}},\"id\":\"20365\",\"type\":\"Scatter\"},{\"attributes\":{},\"id\":\"20433\",\"type\":\"UnionRenderers\"},{\"attributes\":{},\"id\":\"20346\",\"type\":\"Selection\"},{\"attributes\":{\"coordinates\":null,\"data_source\":{\"id\":\"20366\"},\"glyph\":{\"id\":\"20369\"},\"group\":null,\"hover_glyph\":null,\"muted_glyph\":{\"id\":\"20371\"},\"nonselection_glyph\":{\"id\":\"20370\"},\"selection_glyph\":{\"id\":\"20387\"},\"view\":{\"id\":\"20373\"}},\"id\":\"20372\",\"type\":\"GlyphRenderer\"},{\"attributes\":{\"coordinates\":null,\"data_source\":{\"id\":\"20412\"},\"glyph\":{\"id\":\"20415\"},\"group\":null,\"hover_glyph\":null,\"muted_glyph\":{\"id\":\"20417\"},\"nonselection_glyph\":{\"id\":\"20416\"},\"selection_glyph\":{\"id\":\"20437\"},\"view\":{\"id\":\"20419\"}},\"id\":\"20418\",\"type\":\"GlyphRenderer\"},{\"attributes\":{\"label\":{\"value\":\"0\"},\"renderers\":[{\"id\":\"20351\"}]},\"id\":\"20364\",\"type\":\"LegendItem\"},{\"attributes\":{\"fill_alpha\":{\"value\":0.2},\"fill_color\":{\"value\":\"#fc4f30\"},\"hatch_alpha\":{\"value\":0.2},\"hatch_color\":{\"value\":\"#fc4f30\"},\"line_alpha\":{\"value\":0.2},\"line_color\":{\"value\":\"#fc4f30\"},\"size\":{\"value\":5.477225575051661},\"x\":{\"field\":\"TotalCoinsMined\"},\"y\":{\"field\":\"TotalCoinSupply\"}},\"id\":\"20371\",\"type\":\"Scatter\"},{\"attributes\":{\"label\":{\"value\":\"3\"},\"renderers\":[{\"id\":\"20418\"}]},\"id\":\"20436\",\"type\":\"LegendItem\"},{\"attributes\":{\"coordinates\":null,\"group\":null,\"text_color\":\"black\",\"text_font_size\":\"12pt\"},\"id\":\"20310\",\"type\":\"Title\"},{\"attributes\":{\"fill_color\":{\"value\":\"#fc4f30\"},\"hatch_color\":{\"value\":\"#fc4f30\"},\"line_color\":{\"value\":\"#fc4f30\"},\"size\":{\"value\":5.477225575051661},\"x\":{\"field\":\"TotalCoinsMined\"},\"y\":{\"field\":\"TotalCoinSupply\"}},\"id\":\"20369\",\"type\":\"Scatter\"},{\"attributes\":{\"angle\":{\"value\":0.0},\"fill_alpha\":{\"value\":1.0},\"fill_color\":{\"value\":\"#6d904f\"},\"hatch_alpha\":{\"value\":1.0},\"hatch_color\":{\"value\":\"#6d904f\"},\"hatch_scale\":{\"value\":12.0},\"hatch_weight\":{\"value\":1.0},\"line_alpha\":{\"value\":1.0},\"line_cap\":{\"value\":\"butt\"},\"line_color\":{\"value\":\"#6d904f\"},\"line_dash\":{\"value\":[]},\"line_dash_offset\":{\"value\":0},\"line_join\":{\"value\":\"bevel\"},\"line_width\":{\"value\":1},\"marker\":{\"value\":\"circle\"},\"size\":{\"value\":5.477225575051661},\"x\":{\"field\":\"TotalCoinsMined\"},\"y\":{\"field\":\"TotalCoinSupply\"}},\"id\":\"20437\",\"type\":\"Scatter\"},{\"attributes\":{},\"id\":\"20319\",\"type\":\"BasicTicker\"},{\"attributes\":{\"fill_alpha\":{\"value\":0.1},\"fill_color\":{\"value\":\"#fc4f30\"},\"hatch_alpha\":{\"value\":0.1},\"hatch_color\":{\"value\":\"#fc4f30\"},\"line_alpha\":{\"value\":0.1},\"line_color\":{\"value\":\"#fc4f30\"},\"size\":{\"value\":5.477225575051661},\"x\":{\"field\":\"TotalCoinsMined\"},\"y\":{\"field\":\"TotalCoinSupply\"}},\"id\":\"20370\",\"type\":\"Scatter\"},{\"attributes\":{\"children\":[{\"id\":\"20302\"},{\"id\":\"20309\"},{\"id\":\"20582\"}],\"margin\":[0,0,0,0],\"name\":\"Row28669\",\"tags\":[\"embedded\"]},\"id\":\"20301\",\"type\":\"Row\"},{\"attributes\":{\"below\":[{\"id\":\"20318\"}],\"center\":[{\"id\":\"20321\"},{\"id\":\"20325\"}],\"height\":300,\"left\":[{\"id\":\"20322\"}],\"margin\":[5,5,5,5],\"min_border_bottom\":10,\"min_border_left\":10,\"min_border_right\":10,\"min_border_top\":10,\"renderers\":[{\"id\":\"20351\"},{\"id\":\"20372\"},{\"id\":\"20394\"},{\"id\":\"20418\"}],\"right\":[{\"id\":\"20363\"}],\"sizing_mode\":\"fixed\",\"title\":{\"id\":\"20310\"},\"toolbar\":{\"id\":\"20332\"},\"width\":700,\"x_range\":{\"id\":\"20303\"},\"x_scale\":{\"id\":\"20314\"},\"y_range\":{\"id\":\"20304\"},\"y_scale\":{\"id\":\"20316\"}},\"id\":\"20309\",\"subtype\":\"Figure\",\"type\":\"Plot\"},{\"attributes\":{},\"id\":\"20314\",\"type\":\"LinearScale\"},{\"attributes\":{\"axis_label\":\"TotalCoinsMined\",\"coordinates\":null,\"formatter\":{\"id\":\"20340\"},\"group\":null,\"major_label_policy\":{\"id\":\"20341\"},\"ticker\":{\"id\":\"20319\"}},\"id\":\"20318\",\"type\":\"LinearAxis\"},{\"attributes\":{},\"id\":\"20389\",\"type\":\"Selection\"},{\"attributes\":{},\"id\":\"20340\",\"type\":\"BasicTickFormatter\"},{\"attributes\":{\"margin\":[5,5,5,5],\"name\":\"HSpacer28673\",\"sizing_mode\":\"stretch_width\"},\"id\":\"20302\",\"type\":\"Spacer\"},{\"attributes\":{\"fill_alpha\":{\"value\":0.1},\"fill_color\":{\"value\":\"#30a2da\"},\"hatch_alpha\":{\"value\":0.1},\"hatch_color\":{\"value\":\"#30a2da\"},\"line_alpha\":{\"value\":0.1},\"line_color\":{\"value\":\"#30a2da\"},\"size\":{\"value\":5.477225575051661},\"x\":{\"field\":\"TotalCoinsMined\"},\"y\":{\"field\":\"TotalCoinSupply\"}},\"id\":\"20349\",\"type\":\"Scatter\"},{\"attributes\":{\"angle\":{\"value\":0.0},\"fill_alpha\":{\"value\":1.0},\"fill_color\":{\"value\":\"#fc4f30\"},\"hatch_alpha\":{\"value\":1.0},\"hatch_color\":{\"value\":\"#fc4f30\"},\"hatch_scale\":{\"value\":12.0},\"hatch_weight\":{\"value\":1.0},\"line_alpha\":{\"value\":1.0},\"line_cap\":{\"value\":\"butt\"},\"line_color\":{\"value\":\"#fc4f30\"},\"line_dash\":{\"value\":[]},\"line_dash_offset\":{\"value\":0},\"line_join\":{\"value\":\"bevel\"},\"line_width\":{\"value\":1},\"marker\":{\"value\":\"circle\"},\"size\":{\"value\":5.477225575051661},\"x\":{\"field\":\"TotalCoinsMined\"},\"y\":{\"field\":\"TotalCoinSupply\"}},\"id\":\"20387\",\"type\":\"Scatter\"},{\"attributes\":{\"axis\":{\"id\":\"20322\"},\"coordinates\":null,\"dimension\":1,\"grid_line_color\":null,\"group\":null,\"ticker\":null},\"id\":\"20325\",\"type\":\"Grid\"},{\"attributes\":{},\"id\":\"20316\",\"type\":\"LinearScale\"},{\"attributes\":{\"end\":1.1,\"reset_end\":1.1,\"reset_start\":-0.1,\"start\":-0.1,\"tags\":[[[\"TotalCoinSupply\",\"TotalCoinSupply\",null]]]},\"id\":\"20304\",\"type\":\"Range1d\"},{\"attributes\":{\"fill_color\":{\"value\":\"#30a2da\"},\"hatch_color\":{\"value\":\"#30a2da\"},\"line_color\":{\"value\":\"#30a2da\"},\"size\":{\"value\":5.477225575051661},\"x\":{\"field\":\"TotalCoinsMined\"},\"y\":{\"field\":\"TotalCoinSupply\"}},\"id\":\"20348\",\"type\":\"Scatter\"},{\"attributes\":{},\"id\":\"20343\",\"type\":\"BasicTickFormatter\"},{\"attributes\":{\"axis\":{\"id\":\"20318\"},\"coordinates\":null,\"grid_line_color\":null,\"group\":null,\"ticker\":null},\"id\":\"20321\",\"type\":\"Grid\"},{\"attributes\":{},\"id\":\"20383\",\"type\":\"UnionRenderers\"},{\"attributes\":{},\"id\":\"20323\",\"type\":\"BasicTicker\"},{\"attributes\":{\"axis_label\":\"TotalCoinSupply\",\"coordinates\":null,\"formatter\":{\"id\":\"20343\"},\"group\":null,\"major_label_policy\":{\"id\":\"20344\"},\"ticker\":{\"id\":\"20323\"}},\"id\":\"20322\",\"type\":\"LinearAxis\"},{\"attributes\":{\"source\":{\"id\":\"20366\"}},\"id\":\"20373\",\"type\":\"CDSView\"},{\"attributes\":{\"coordinates\":null,\"data_source\":{\"id\":\"20388\"},\"glyph\":{\"id\":\"20391\"},\"group\":null,\"hover_glyph\":null,\"muted_glyph\":{\"id\":\"20393\"},\"nonselection_glyph\":{\"id\":\"20392\"},\"selection_glyph\":{\"id\":\"20411\"},\"view\":{\"id\":\"20395\"}},\"id\":\"20394\",\"type\":\"GlyphRenderer\"},{\"attributes\":{\"fill_alpha\":{\"value\":0.2},\"fill_color\":{\"value\":\"#e5ae38\"},\"hatch_alpha\":{\"value\":0.2},\"hatch_color\":{\"value\":\"#e5ae38\"},\"line_alpha\":{\"value\":0.2},\"line_color\":{\"value\":\"#e5ae38\"},\"size\":{\"value\":5.477225575051661},\"x\":{\"field\":\"TotalCoinsMined\"},\"y\":{\"field\":\"TotalCoinSupply\"}},\"id\":\"20393\",\"type\":\"Scatter\"},{\"attributes\":{\"label\":{\"value\":\"1\"},\"renderers\":[{\"id\":\"20372\"}]},\"id\":\"20386\",\"type\":\"LegendItem\"},{\"attributes\":{},\"id\":\"20344\",\"type\":\"AllLabels\"},{\"attributes\":{\"label\":{\"value\":\"2\"},\"renderers\":[{\"id\":\"20394\"}]},\"id\":\"20410\",\"type\":\"LegendItem\"},{\"attributes\":{\"fill_alpha\":{\"value\":0.1},\"fill_color\":{\"value\":\"#e5ae38\"},\"hatch_alpha\":{\"value\":0.1},\"hatch_color\":{\"value\":\"#e5ae38\"},\"line_alpha\":{\"value\":0.1},\"line_color\":{\"value\":\"#e5ae38\"},\"size\":{\"value\":5.477225575051661},\"x\":{\"field\":\"TotalCoinsMined\"},\"y\":{\"field\":\"TotalCoinSupply\"}},\"id\":\"20392\",\"type\":\"Scatter\"},{\"attributes\":{},\"id\":\"20326\",\"type\":\"SaveTool\"},{\"attributes\":{\"data\":{\"Class\":[0,0,0,0],\"CoinName\":[\"LitecoinCash\",\"Poa Network\",\"Acute Angle Cloud\",\"Waves\"],\"TotalCoinSupply\":{\"__ndarray__\":\"vHmqQ26GSz+EWijhloswP/yp8dJNYlA/LEMc6+I2Gj8=\",\"dtype\":\"float64\",\"order\":\"little\",\"shape\":[4]},\"TotalCoinsMined\":{\"__ndarray__\":\"kKTF8kohRT+cGSV4jxIrP3pDQwW4jFA/+0V+YL96Gj8=\",\"dtype\":\"float64\",\"order\":\"little\",\"shape\":[4]}},\"selected\":{\"id\":\"20346\"},\"selection_policy\":{\"id\":\"20360\"}},\"id\":\"20345\",\"type\":\"ColumnDataSource\"},{\"attributes\":{},\"id\":\"20327\",\"type\":\"PanTool\"},{\"attributes\":{\"margin\":[5,5,5,5],\"name\":\"HSpacer28674\",\"sizing_mode\":\"stretch_width\"},\"id\":\"20582\",\"type\":\"Spacer\"},{\"attributes\":{},\"id\":\"20328\",\"type\":\"WheelZoomTool\"},{\"attributes\":{\"tools\":[{\"id\":\"20305\"},{\"id\":\"20326\"},{\"id\":\"20327\"},{\"id\":\"20328\"},{\"id\":\"20329\"},{\"id\":\"20330\"}]},\"id\":\"20332\",\"type\":\"Toolbar\"},{\"attributes\":{\"overlay\":{\"id\":\"20331\"}},\"id\":\"20329\",\"type\":\"BoxZoomTool\"},{\"attributes\":{},\"id\":\"20407\",\"type\":\"UnionRenderers\"},{\"attributes\":{\"fill_color\":{\"value\":\"#6d904f\"},\"hatch_color\":{\"value\":\"#6d904f\"},\"line_color\":{\"value\":\"#6d904f\"},\"size\":{\"value\":5.477225575051661},\"x\":{\"field\":\"TotalCoinsMined\"},\"y\":{\"field\":\"TotalCoinSupply\"}},\"id\":\"20415\",\"type\":\"Scatter\"},{\"attributes\":{\"data\":{\"Class\":[2],\"CoinName\":[\"BitTorrent\"],\"TotalCoinSupply\":{\"__ndarray__\":\"rkfhehSu7z8=\",\"dtype\":\"float64\",\"order\":\"little\",\"shape\":[1]},\"TotalCoinsMined\":{\"__ndarray__\":\"AAAAAAAA8D8=\",\"dtype\":\"float64\",\"order\":\"little\",\"shape\":[1]}},\"selected\":{\"id\":\"20389\"},\"selection_policy\":{\"id\":\"20407\"}},\"id\":\"20388\",\"type\":\"ColumnDataSource\"},{\"attributes\":{\"fill_color\":{\"value\":\"#e5ae38\"},\"hatch_color\":{\"value\":\"#e5ae38\"},\"line_color\":{\"value\":\"#e5ae38\"},\"size\":{\"value\":5.477225575051661},\"x\":{\"field\":\"TotalCoinsMined\"},\"y\":{\"field\":\"TotalCoinSupply\"}},\"id\":\"20391\",\"type\":\"Scatter\"},{\"attributes\":{\"source\":{\"id\":\"20388\"}},\"id\":\"20395\",\"type\":\"CDSView\"},{\"attributes\":{},\"id\":\"20330\",\"type\":\"ResetTool\"},{\"attributes\":{\"angle\":{\"value\":0.0},\"fill_alpha\":{\"value\":1.0},\"fill_color\":{\"value\":\"#e5ae38\"},\"hatch_alpha\":{\"value\":1.0},\"hatch_color\":{\"value\":\"#e5ae38\"},\"hatch_scale\":{\"value\":12.0},\"hatch_weight\":{\"value\":1.0},\"line_alpha\":{\"value\":1.0},\"line_cap\":{\"value\":\"butt\"},\"line_color\":{\"value\":\"#e5ae38\"},\"line_dash\":{\"value\":[]},\"line_dash_offset\":{\"value\":0},\"line_join\":{\"value\":\"bevel\"},\"line_width\":{\"value\":1},\"marker\":{\"value\":\"circle\"},\"size\":{\"value\":5.477225575051661},\"x\":{\"field\":\"TotalCoinsMined\"},\"y\":{\"field\":\"TotalCoinSupply\"}},\"id\":\"20411\",\"type\":\"Scatter\"},{\"attributes\":{\"bottom_units\":\"screen\",\"coordinates\":null,\"fill_alpha\":0.5,\"fill_color\":\"lightgrey\",\"group\":null,\"left_units\":\"screen\",\"level\":\"overlay\",\"line_alpha\":1.0,\"line_color\":\"black\",\"line_dash\":[4,4],\"line_width\":2,\"right_units\":\"screen\",\"syncable\":false,\"top_units\":\"screen\"},\"id\":\"20331\",\"type\":\"BoxAnnotation\"},{\"attributes\":{\"click_policy\":\"mute\",\"coordinates\":null,\"group\":null,\"items\":[{\"id\":\"20364\"},{\"id\":\"20386\"},{\"id\":\"20410\"},{\"id\":\"20436\"}],\"location\":[0,0],\"title\":\"Class\"},\"id\":\"20363\",\"type\":\"Legend\"},{\"attributes\":{\"data\":{\"Class\":[3,3,3,3,3,3,3,3,3,3,3,3,3,3,3,3,3,3,3,3,3,3,3,3,3,3,3,3,3,3,3,3,3,3,3,3,3,3,3,3,3,3,3,3,3,3,3,3,3,3,3,3,3,3,3,3,3,3,3,3,3,3,3,3,3,3,3,3,3,3,3,3,3,3,3,3,3,3,3,3,3,3,3,3,3,3,3,3,3,3,3,3,3,3,3,3,3,3,3,3,3,3,3,3,3,3,3,3,3,3,3,3,3,3,3,3,3,3,3,3,3,3,3,3,3,3,3,3,3,3,3,3,3,3,3,3,3,3,3,3,3,3,3,3,3,3,3,3,3,3,3,3,3,3,3,3,3,3,3,3,3,3,3,3,3,3,3,3,3,3,3,3,3,3,3,3,3,3,3,3,3,3,3,3,3,3,3,3,3,3,3,3,3,3,3,3,3,3,3,3,3,3,3,3,3,3,3,3,3,3,3,3,3,3,3,3,3,3,3,3,3,3,3,3,3,3,3,3,3,3,3,3,3,3,3,3,3,3,3,3,3,3,3,3,3,3,3,3,3,3,3,3,3,3,3,3,3,3,3,3,3,3,3,3,3,3,3,3,3,3,3,3,3,3,3,3,3,3,3,3,3,3,3,3,3,3,3,3,3,3,3,3,3,3,3,3,3,3,3,3,3,3,3,3,3,3,3,3,3,3,3,3,3],\"CoinName\":[\"42 Coin\",\"404Coin\",\"EliteCoin\",\"Dash\",\"Bitshares\",\"BitcoinDark\",\"PayCoin\",\"KoboCoin\",\"Aurora Coin\",\"BlueCoin\",\"EnergyCoin\",\"BitBar\",\"CryptoBullion\",\"CasinoCoin\",\"Diamond\",\"Exclusive Coin\",\"FlutterCoin\",\"HoboNickels\",\"HyperStake\",\"IOCoin\",\"MaxCoin\",\"MintCoin\",\"MazaCoin\",\"Nautilus Coin\",\"NavCoin\",\"OpalCoin\",\"Orbitcoin\",\"PotCoin\",\"PhoenixCoin\",\"Reddcoin\",\"SuperCoin\",\"SyncCoin\",\"TeslaCoin\",\"TittieCoin\",\"TorCoin\",\"UnitaryStatus Dollar\",\"UltraCoin\",\"VeriCoin\",\"X11 Coin\",\"Crypti\",\"StealthCoin\",\"ZCC Coin\",\"BurstCoin\",\"StorjCoin\",\"Neutron\",\"FairCoin\",\"RubyCoin\",\"Kore\",\"Dnotes\",\"8BIT Coin\",\"Sativa Coin\",\"Ucoin\",\"Vtorrent\",\"IslaCoin\",\"Nexus\",\"Droidz\",\"Squall Coin\",\"Diggits\",\"Paycon\",\"Emercoin\",\"EverGreenCoin\",\"Decred\",\"EDRCoin\",\"Hitcoin\",\"DubaiCoin\",\"PWR Coin\",\"BillaryCoin\",\"GPU Coin\",\"EuropeCoin\",\"ZeitCoin\",\"SwingCoin\",\"SafeExchangeCoin\",\"Nebuchadnezzar\",\"Ratecoin\",\"Revenu\",\"Clockcoin\",\"VIP Tokens\",\"BitSend\",\"Let it Ride\",\"PutinCoin\",\"iBankCoin\",\"Frankywillcoin\",\"MudraCoin\",\"Lutetium Coin\",\"GoldBlocks\",\"CarterCoin\",\"BitTokens\",\"MustangCoin\",\"ZoneCoin\",\"RootCoin\",\"BitCurrency\",\"Swiscoin\",\"BuzzCoin\",\"Opair\",\"PesoBit\",\"Halloween Coin\",\"CoffeeCoin\",\"RoyalCoin\",\"GanjaCoin V2\",\"TeamUP\",\"LanaCoin\",\"ARK\",\"InsaneCoin\",\"EmberCoin\",\"XenixCoin\",\"FreeCoin\",\"PLNCoin\",\"AquariusCoin\",\"Creatio\",\"Eternity\",\"Eurocoin\",\"BitcoinFast\",\"Stakenet\",\"BitConnect Coin\",\"MoneyCoin\",\"Enigma\",\"Russiacoin\",\"PandaCoin\",\"GameUnits\",\"GAKHcoin\",\"Allsafe\",\"LiteCreed\",\"Klingon Empire Darsek\",\"Internet of People\",\"KushCoin\",\"Printerium\",\"Impeach\",\"Zilbercoin\",\"FirstCoin\",\"FindCoin\",\"OpenChat\",\"RenosCoin\",\"VirtacoinPlus\",\"TajCoin\",\"Impact\",\"Atmos\",\"HappyCoin\",\"MacronCoin\",\"Condensate\",\"Independent Money System\",\"ArgusCoin\",\"LomoCoin\",\"ProCurrency\",\"GoldReserve\",\"GrowthCoin\",\"Phreak\",\"Degas Coin\",\"HTML5 Coin\",\"Ultimate Secure Cash\",\"QTUM\",\"Espers\",\"Denarius\",\"Virta Unique Coin\",\"Bitcoin Planet\",\"BritCoin\",\"Linda\",\"DeepOnion\",\"Signatum\",\"Cream\",\"Monoeci\",\"Draftcoin\",\"Vechain\",\"Stakecoin\",\"CoinonatX\",\"Ethereum Dark\",\"Obsidian\",\"Cardano\",\"Regalcoin\",\"TrezarCoin\",\"TerraNovaCoin\",\"Rupee\",\"WomenCoin\",\"Theresa May Coin\",\"NamoCoin\",\"LUXCoin\",\"Xios\",\"Bitcloud 2.0\",\"KekCoin\",\"BlackholeCoin\",\"Infinity Economics\",\"Alqo\",\"Magnet\",\"Lamden Tau\",\"Electra\",\"Bitcoin Diamond\",\"Cash & Back Coin\",\"Bulwark\",\"Kalkulus\",\"GermanCoin\",\"LiteCoin Ultra\",\"PhantomX\",\"Accolade\",\"OmiseGO Classic\",\"Digiwage\",\"Trollcoin\",\"Litecoin Plus\",\"Monkey Project\",\"ECC\",\"TokenPay\",\"My Big Coin\",\"Unified Society USDEX\",\"BitSoar Coin\",\"Credence Coin\",\"Tokyo Coin\",\"BiblePay\",\"BashCoin\",\"DigiMoney\",\"Lizus Payment\",\"Stipend\",\"Pushi\",\"Ellerium\",\"Velox\",\"Ontology\",\"Seraph\",\"Bitspace\",\"Briacoin\",\"Ignition\",\"MedicCoin\",\"Bitcoin Green\",\"Deviant Coin\",\"Abjcoin\",\"Semux\",\"Carebit\",\"Zealium\",\"Proton\",\"iDealCash\",\"Bitcoin Incognito\",\"HollyWoodCoin\",\"Parlay\",\"Listerclassic Coin\",\"BetKings\",\"Cognitio\",\"Mercoin\",\"Swisscoin\",\"Reliance\",\"Xt3ch\",\"TheVig\",\"EmaratCoin\",\"Dekado\",\"Lynx\",\"Poseidon Quark\",\"MYCE\",\"BitcoinWSpectrum\",\"Muse\",\"GambleCoin\",\"Trivechain\",\"Dystem\",\"Giant\",\"Peony Coin\",\"Absolute Coin\",\"Vitae\",\"TPCash\",\"ARENON\",\"EUNO\",\"MMOCoin\",\"Ketan\",\"XDNA\",\"PAXEX\",\"Averopay\",\"ThunderStake\",\"SimpleBank\",\"Kcash\",\"Bettex coin\",\"TWIST\",\"DACH Coin\",\"BitMoney\",\"Junson Ming Chan Coin\",\"HerbCoin\",\"Oduwa\",\"Galilel\",\"Crypto Sports\",\"Credit\",\"Dash Platinum\",\"Nasdacoin\",\"Beetle Coin\",\"Titan Coin\",\"Award\",\"Insane Coin\",\"ALAX\",\"LiteDoge\",\"TruckCoin\",\"OrangeCoin\",\"BitstarCoin\",\"NeosCoin\",\"HyperCoin\",\"PinkCoin\",\"AudioCoin\",\"IncaKoin\",\"Piggy Coin\",\"Genstake\",\"XiaoMiCoin\",\"CapriCoin\",\" ClubCoin\",\"Radium\",\"Creditbit \",\"OKCash\",\"Lisk\",\"HiCoin\",\"WhiteCoin\",\"FriendshipCoin\",\"Triangles Coin\",\"Gexan\",\"EOS\",\"Oxycoin\",\"TigerCash\",\"LAPO\",\"Particl\",\"ShardCoin\",\"Nxt\",\"ZEPHYR\",\"Gapcoin\",\"BitcoinPlus\",\"DivotyCoin\"],\"TotalCoinSupply\":{\"__ndarray__\":\"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\",\"dtype\":\"float64\",\"order\":\"little\",\"shape\":[313]},\"TotalCoinsMined\":{\"__ndarray__\":\"AAAAAAAAAADVQ6eRhXZRP0gFXx0LSZ4/fb2YAaYh4z6ruJV6oa9mP4fxacJq17U+W7PlNwxp6T7W0pn52A37PoFADD9SNfM+Y2BMhDkIRT+TanQDD0sgP35ukl9tEWc+7S9W9+ubsT49x1z95a+kP28YHhABAMw+ye+KsSkQ2D76DhvNkpI+P1ecpQYuoxc/Ypyz9GrHWz/7kyPDCLLyPpO8/kFBRRA/0/9nDoYGlj/8i/ixXrVaP7x4IiUyI/E+j6uxX+B/ET9yUL0Vow3wPvxfgvURSss+cvkNgl17LT+LzHsEg5UTPwaytCCdUp4/8TiBm6/aCj9doxA1Q7ITPkOS6FanQBU/dL+NX1fZWj+VBQyzwkO4PlcDUAL0L1I/fTIxK6KaCj/j5byfQfUAPxuOVInTct0++0V+YL96Gj9FarAorYYBPzHwJWnxlyM/L/f3qVABXj+Tp6kxyxkLP8ZkQxXrtwQ/ibYLlr8rDD876RpKEMv8PqXMCj0KI8E+Y9QbIWkfJz/NWTdK5t+4PhEtw1ouEd4+SuSuQabKxj5dOKHlN5XoPj9ykiLfprk+IXp/RSnbED9yRrm5bCbiPvbV3K8TUJY++0V+YL96Gj+usZO2/Wf4PjQmLIvTzQY/1efNMZmp7D5+56xI8fTlPuaDOXY0GM8+uMNU6Ym/hj8I144k4rrVPosWSaGt1IQ/AkyV+P4P4z7jP4drq28FPzwUggjXC+Y+7L0e6OUeoz9rTh5jVovSPvn/Em4kxWE/kQBSK/0u9T7vjyYFktAhP3lc7dd7QrQ+QPXFzhym8T4+Nd5F5BgWP9J6jnO41Pk+ObDN1M5vBD+HQ9Dqr+lKP3YCdaw0LdM++0V+YL96Gj/CsEps9C7VPlS9UGUMv0U/pqRxDiJ88D7oqXRGKNwGP54PeOINLqQ+9FiPodBJpj5CAX3zt+DFPsR5KJfqb8A+T/4f/1R0Jj9wy+L1hwRGP4Iw9VQZQJQ/QVxHa5CaEz9q4x6W3sABP+anRel4hTE//jSGyJGwIz9a3dieLS/FPvtFfmC/eho/0CaSSobf8j7om9ie0ehRP4yfDBK/phw/2bdahaRt8z5pi0xWDNe3PzoFWd5FU9A+qVTopb56Cj8Kl7V81RnyPnWw/lSIwcQ+kQBSK/0u9T4WN5ZE6rbZPjz585B5Teo+mJbD7Cdx9T4t+OpgFAQUP+s1WKcNeec+4Jew0N0e5z5bwhuTX5yrPv5ylEtMv+E+qgjVT8Z8oT9eSCgLgW3NPrZMGtKEGMw+gWG4BsRH5j7bwMkrHwIAP/7gqRozYvk+ycQ2iXpnxT4Swqe2z/nXPmWo1pTmCuk+NMilXEnjlD75z9m7pMPIPrZ+M2OfIB0/oIVe/s3E7j56Q0MFuIxQP8DjwNiFFwM/Yojc8CLi6z6/xleSd8/pPjaSA+NaSx0/RxRsP55tHT8TzIbUfsv2PvWgsIfWkjo/vX+hfbIbID9qIh3CGb/WPtzbifm0dbM+ClzCLAnyoD4HdZcEvp8aP4T+AFYCMPI+MqZkmp+JMz9Xk1ir5SDoPkAjePZqn/Y+EiXgvSYHpT8A2wc5DOnlPvtFfmC/eho/PAT7udKVlz/kKuRSPKzRPvzVMe6uqhA/LSuoRvfT3D741RgF1Yb2PjQa6ZQatoI/cEzD1ck29z5MptGTM5ccP79RNfoAEQk/A/IJ6Umg6j460UXAisTzPs2g4AcRrqw/mO9bzlry0D6EUc3xJbL0PqB8WFRGy9E+B3K8ML16+j57/PtlW9GaP8LmK5XBxN4+Bh/umUwuKD8wD8hOyFSzPrzBQMmWa/k+rp7aV+kPqT9CUqMh5F8YP74vR7jljUI/McZWDzOY4T6jQtQrAzfCPh9wp4i2QwA/xDTgUPke6j4Qs5xlsVTxPkgxPBFPnoI/3FdmqHRIET9+IszkxDoEP7qKEQM8EjM/uUtcgvNfnT9iuoLCp0woP+G6MXbZYh0/a6WLOuwP7D7HiU9ni/XxPnChKl4pUnQ/hxnqwtHV4T5+HCsffewHPzzKwllqndc+MJK00rBxCj9y9oQbTOr8Pnc7MYj+j0M/CEcxCKQ4xT7hpgdtD6zSPg8ot5nf25k/u9zKYeKn9T5EiFexPenjPhJgttbRFy8/cvTQVDF0bj+93qhQxQnNPu7nRXixfS4/j1gNkdpTXT+yh0ckMrToPmhEuXYH180+5R9j3BNNyT7nOkeZlNXnPrvl+hZcXsI+vca2dTVrnD7QEgJQTBX7PhibEdXsikU/LnB/ciANtz7aFzKZITXtPvDlnPIQqaw+dKhUDHkItD64Z5wg3LExP9oOofWExOQ+51LeU9Mr9z6Q31yKLO7kPpoR1LgG3bQ+VSmOPUyAIj+ib5N/FnbnPsNzqfNQqNI+RjXBTQU9Vz+SE54zvRnnPqEkCZqrfwQ/+EMeEkoH0D7DvyspzCXhPrMTMLZOEOg++qH5pApSpj6FR2h1SdT6Pi7wHhTRGYU/Jb5XDHG+3j70x9r6uSngPiopGOdCmgE/vKQ4Yabg9j5yMj9ExgkAP3wmmCQII7Q/K8r/+wcExz6IIrGUOdgQPzZJd6O4nQ4/wKsguotF8z5L4cWL8XThPoY/nsDYjQM/NenvfYQB3j6sMcXCOxTZPkaEeyF8qLE+Oa21oUE+7D6HoWrpn30RP30oAUPr5NY+Vm0Mo+po9D6Kjxo7yksAP5v6hHEKiRw/xGg1vBTC4z7uib9lw8vTPoubEauvFdM+NzabnveCvz7rbVw4uopRPy2nNMrLLcQ+ekNDBbiMUD+PpPcVk8HcPqM+yb2/eio/3BhliY5M7j7l66IyYpsrP6sg48UZzZE/yLfFtXGzAj8iaVq+103vPuP3bPWLWPM+B9lw/alkwD6KKu/wfeKfP+LWzRFFQag+QFZaGS7D9T6ibFc7wlYqPyMwTKxCq00/KMFsei9V8D4Lko001y75PnpDQwW4jFA/YPWlPLqwjz/MI0ph3w4wP60dyfSx+M0+Y6xly1DL9T5/YchLzJvSPmRjNDD6ZuQ+Ixhnf9TiPD+c0yyFFjtQP5xDyy5ZjpI/icG10+pbQD8fxlKrfsYPPzi4r4Xmwzo/YwABvf2oKj8YJJT4Q3AbP0v2HFN6MNA+w+lGFrPm8T6YkizpGcYTPzLjHxJSxx8/8bDGPwewhD9bofnStK4wP6T0YBN//LI+q0k3U4sUgz7Cqod3h+3CPkVvlJzC41A/EcJq2jeTUj96Q0MFuIxQP31KzXR474Y/s0VJGDmq4z4RWRMlZmb6PnpDQwW4jFA/BxxxCriMYD85whSEFaHvPkIO5c1pZIE+0SYK3VTD9j4=\",\"dtype\":\"float64\",\"order\":\"little\",\"shape\":[313]}},\"selected\":{\"id\":\"20413\"},\"selection_policy\":{\"id\":\"20433\"}},\"id\":\"20412\",\"type\":\"ColumnDataSource\"},{\"attributes\":{\"fill_alpha\":{\"value\":0.2},\"fill_color\":{\"value\":\"#6d904f\"},\"hatch_alpha\":{\"value\":0.2},\"hatch_color\":{\"value\":\"#6d904f\"},\"line_alpha\":{\"value\":0.2},\"line_color\":{\"value\":\"#6d904f\"},\"size\":{\"value\":5.477225575051661},\"x\":{\"field\":\"TotalCoinsMined\"},\"y\":{\"field\":\"TotalCoinSupply\"}},\"id\":\"20417\",\"type\":\"Scatter\"},{\"attributes\":{\"callback\":null,\"renderers\":[{\"id\":\"20351\"},{\"id\":\"20372\"},{\"id\":\"20394\"},{\"id\":\"20418\"}],\"tags\":[\"hv_created\"],\"tooltips\":[[\"Class\",\"@{Class}\"],[\"TotalCoinsMined\",\"@{TotalCoinsMined}\"],[\"TotalCoinSupply\",\"@{TotalCoinSupply}\"],[\"CoinName\",\"@{CoinName}\"]]},\"id\":\"20305\",\"type\":\"HoverTool\"},{\"attributes\":{},\"id\":\"20413\",\"type\":\"Selection\"},{\"attributes\":{\"data\":{\"Class\":[1,1,1,1,1,1,1,1,1,1,1,1,1,1,1,1,1,1,1,1,1,1,1,1,1,1,1,1,1,1,1,1,1,1,1,1,1,1,1,1,1,1,1,1,1,1,1,1,1,1,1,1,1,1,1,1,1,1,1,1,1,1,1,1,1,1,1,1,1,1,1,1,1,1,1,1,1,1,1,1,1,1,1,1,1,1,1,1,1,1,1,1,1,1,1,1,1,1,1,1,1,1,1,1,1,1,1,1,1,1,1,1,1,1,1,1,1,1,1,1,1,1,1,1,1,1,1,1,1,1,1,1,1,1,1,1,1,1,1,1,1,1,1,1,1,1,1,1,1,1,1,1,1,1,1,1,1,1,1,1,1,1,1,1,1,1,1,1,1,1,1,1,1,1,1,1,1,1,1,1,1,1,1,1,1,1,1,1,1,1,1,1,1,1,1,1,1,1,1,1,1,1,1,1,1,1,1,1,1,1,1,1,1,1,1,1,1,1,1,1,1,1,1,1,1,1,1,1,1,1,1,1,1,1,1,1,1,1,1,1,1,1,1,1,1,1,1,1,1,1,1,1,1,1,1,1,1,1,1],\"CoinName\":[\"Bitcoin\",\"Ethereum\",\"Litecoin\",\"Monero\",\"Ethereum Classic\",\"ZCash\",\"DigiByte\",\"ProsperCoin\",\"Spreadcoin\",\"Argentum\",\"MyriadCoin\",\"MoonCoin\",\"ZetaCoin\",\"SexCoin\",\"Quatloo\",\"QuarkCoin\",\"Riecoin\",\"Digitalcoin \",\"Catcoin\",\"CannaCoin\",\"CryptCoin\",\"Verge\",\"DevCoin\",\"EarthCoin\",\"E-Gulden\",\"Einsteinium\",\"Emerald\",\"Franko\",\"FeatherCoin\",\"GrandCoin\",\"GlobalCoin\",\"GoldCoin\",\"Infinite Coin\",\"IXcoin\",\"KrugerCoin\",\"LuckyCoin\",\"Litebar \",\"MegaCoin\",\"MediterraneanCoin\",\"MinCoin\",\"NobleCoin\",\"Namecoin\",\"NyanCoin\",\"RonPaulCoin\",\"StableCoin\",\"SmartCoin\",\"SysCoin\",\"TigerCoin\",\"TerraCoin\",\"UnbreakableCoin\",\"Unobtanium\",\"UroCoin\",\"ViaCoin\",\"Vertcoin\",\"WorldCoin\",\"JouleCoin\",\"ByteCoin\",\"DigitalNote \",\"MonaCoin\",\"Gulden\",\"PesetaCoin\",\"Wild Beast Coin\",\"Flo\",\"ArtByte\",\"Folding Coin\",\"Unitus\",\"CypherPunkCoin\",\"OmniCron\",\"GreenCoin\",\"Cryptonite\",\"MasterCoin\",\"SoonCoin\",\"1Credit\",\"MarsCoin \",\"Crypto\",\"Anarchists Prime\",\"BowsCoin\",\"Song Coin\",\"BitZeny\",\"Expanse\",\"Siacoin\",\"MindCoin\",\"I0coin\",\"Revolution VR\",\"HOdlcoin\",\"Gamecredits\",\"CarpeDiemCoin\",\"Adzcoin\",\"SoilCoin\",\"YoCoin\",\"SibCoin\",\"Francs\",\"Aiden\",\"BolivarCoin\",\"Omni\",\"PizzaCoin\",\"Komodo\",\"Karbo\",\"ZayedCoin\",\"Circuits of Value\",\"DopeCoin\",\"DollarCoin\",\"Shilling\",\"ZCoin\",\"Elementrem\",\"ZClassic\",\"KiloCoin\",\"ArtexCoin\",\"Kurrent\",\"Cannabis Industry Coin\",\"OsmiumCoin\",\"Bikercoins\",\"HexxCoin\",\"PacCoin\",\"Citadel\",\"BeaverCoin\",\"VaultCoin\",\"Zero\",\"Canada eCoin\",\"Zoin\",\"DubaiCoin\",\"EB3coin\",\"Coinonat\",\"BenjiRolls\",\"ILCoin\",\"EquiTrader\",\"Quantum Resistant Ledger\",\"Dynamic\",\"Nano\",\"ChanCoin\",\"Dinastycoin\",\"DigitalPrice\",\"Unify\",\"SocialCoin\",\"ArcticCoin\",\"DAS\",\"LeviarCoin\",\"Bitcore\",\"gCn Coin\",\"SmartCash\",\"Onix\",\"Bitcoin Cash\",\"Sojourn Coin\",\"NewYorkCoin\",\"FrazCoin\",\"Kronecoin\",\"AdCoin\",\"Linx\",\"Sumokoin\",\"BitcoinZ\",\"Elements\",\"VIVO Coin\",\"Bitcoin Gold\",\"Pirl\",\"eBoost\",\"Pura\",\"Innova\",\"Ellaism\",\"GoByte\",\"SHIELD\",\"UltraNote\",\"BitCoal\",\"DaxxCoin\",\"BoxyCoin\",\"AC3\",\"Lethean\",\"PopularCoin\",\"Photon\",\"Sucre\",\"SparksPay\",\"GoaCoin\",\"GunCoin\",\"IrishCoin\",\"Pioneer Coin\",\"UnitedBitcoin\",\"Interzone\",\"1717 Masonic Commemorative Token\",\"Crypto Wisdom Coin\",\"TurtleCoin\",\"MUNcoin\",\"Niobio Cash\",\"ShareChain\",\"Travelflex\",\"KREDS\",\"BitFlip\",\"LottoCoin\",\"Crypto Improvement Fund\",\"Callisto Network\",\"BitTube\",\"Poseidon\",\"Manna\",\"Aidos Kuneen\",\"Cosmo\",\"Bitrolium\",\"Alpenschillling\",\"Rapture\",\"FuturoCoin\",\"Monero Classic\",\"Jumpcoin\",\"Infinex\",\"KEYCO\",\"GINcoin\",\"PlatinCoin\",\"Loki\",\"Newton Coin\",\"MassGrid\",\"PluraCoin\",\"Arionum\",\"Motion\",\"PlusOneCoin\",\"Axe\",\"HexCoin\",\"Deimos\",\"Webchain\",\"Ryo\",\"Urals Coin\",\"Qwertycoin\",\"Bitcoin Nova\",\"DACash\",\"Project Pai\",\"Azart\",\"Xchange\",\"CrypticCoin\",\"Brazio\",\"Actinium\",\"Bitcoin SV\",\"Argoneum\",\"FREDEnergy\",\"BlakeBitcoin\",\"Universal Molecule\",\"Lithium\",\"Electron\",\"PirateCash\",\"Exosis\",\"Block-Logic\",\"Beam\",\"Bithereum\",\"Scribe Network\",\"SLICE\",\"BLAST\",\"Bitcoin Rhodium\",\"GlobalToken\",\"Media Protocol Token\",\"SolarCoin\",\"UFO Coin\",\"BlakeCoin\",\"Crypto Escudo\",\"Crown Coin\",\"SmileyCoin\",\"Groestlcoin\",\"Bata\",\"Pakcoin\",\"JoinCoin\",\"Vollar\",\"TecraCoin\",\"Reality Clash\",\"ChainZilla\",\"Beldex\",\"Horizen\"],\"TotalCoinSupply\":{\"__ndarray__\":\"ycfuAiUF9j4AAAAAAAAAAMnH7gIlBRY/AAAAAAAAAAC8eapDboYrP8nH7gIlBfY+Gy/dJAaBlT/Jx+4CJQX2PvBo44i1+PQ+je21oPfGED/8qfHSTWJgP/p+arx0k9g/ib6z/mRBJj/8qfHSTWIwPyxDHOviNho/M4gP7PgvMD/Jx+4CJQUWP7L2gSi7QAk/ycfuAiUF9j7wSz/Ze47rPj+rzJTW3/I+pFNXPsvzkD8bL90kBoGVP9nO91PjpYs/ycfuAiUF9j6QlH3NrqUzP43ttaD3xgA/VwJQYS6Q5z7Jx+4CJQU2P2DlR/V3Rlc/0vvG155ZEj+5x9OsU/ASP2+BBMWPMbc/ycfuAiUF9j4QhtqnBWUxP/Bo44i1+PQ+5TOPsjSmtj7Jx+4CJQUGPyxDHOviNio/8GjjiLX45D64HoXrUbiOP8nH7gIlBfY+t32P+usVNj/Jx+4CJQX2Pvyp8dJNYjA/SK+8mvLXCj8BiLt6FRlNP3lgr+vWpQg/ycfuAiUFBj/waOOItfgUP43ttaD3xpA+AAAAAAAAAAB7hQX3Ax74PsnH7gIlBRY/EIbapwVlMT8O1v85zJcHPzgbkQyhnMc/exSuR+F6hD/wSz/Ze44bP7x5qkNuhls/W/Vl2/zOJT9a1mVHlgvGPvBo44i1+CQ//Knx0k1iUD/8qfHSTWJQPwAAAAAAAAAAAAAAAAAAAADehccd5EfMPnsUrkfheoQ/2ubG9IQlXj/k2j6HRsmkPsnH7gIlBfY+WmQ730+Ntz/6nLtdL00BP5RCuSEIPxE/DLjfiIsvDD/Jx+4CJQX2PvBLP9l7jis//Knx0k1iMD+vYF3BRrrxPgAAAAAAAAAAje21oPfG8D7Jx+4CJQX2Prx5qkNuhis/NqDyJ2J8FT/Jx+4CJQUWP4EoVhUzJZY/ycfuAiUFFj9pHVVNEHX/PtZqzafuECY/VOQQcXMq+T7waOOItfj0PsnH7gIlBRY/LEMc6+I2+j42/OJ8P6+kPixDHOviNvo+LEMc6+I2Kj/waOOItfjkPoYoqKb5auQ+YTJVMCqpUz8sQxzr4jYqPwVQOYtkT+Y+aR1VTRB1/z6GulnNhHD2Pmhxe+1+evs+ycfuAiUF9j57FK5H4XqEP/yp8dJNYkA/Iw9EFmniLT/Jx+4CJQX2PmdqUYLixMY+LEMc6+I2+j7uNbRltfjkPpmZmZmZmbk/VvFG5pE/KD8MuN+Iiy/MPvyp8dJNYlA/ZkzBGmfT8T4sQxzr4jYaP8nH7gIlBfY+EXF8Th67wj78qfHSTWJwP8rwgRhGTAk/hgaWpnefAj97FK5H4XpkPz+rzJTW3xI/vHmqQ26GGz8AAAAAAAAAADVfPqP9TDY/aR1VTRB1/z78qfHSTWJgPyxDHOviNho/ROXwm5M29D5hMlUwKqkTP2kdVU0QdQ8/aE09HG7R8z7eADPfwU8MP8nH7gIlBfY+mZmZmZmZyT97FK5H4Xp0Py9uowG8BVI/ycfuAiUF9j4bL90kBoGFPwAAAAAAAAAA8GjjiLX49D7Jx+4CJQUWPyxDHOviNho/LEMc6+I2Gj9gi753O00XPxsv3SQGgZU/kst/SL99XT/eADPfwU/8PsnH7gIlBfY+L4g6nMh8JD8sQxzr4jYaP8e6uI0G8DY/Dtb/OcyXBz/S+8bXnlkyP94wG64frAA/OIQqNXugRT/C9Shcj8K1PyxDHOviNuo+exSuR+F6hD8sQxzr4jYaPy9uowG8BUI/MrUlGyFgUD/hfJxH4Xp0PwrXo3A9Crc/ku+towXD9D7Jx+4CJQX2Po3ttaD3xgA//Knx0k1iQD+N7bWg98YQP3uFBfcDHvg+rY3F90Ql9T57hQX3Ax74Pn34/RhmJbs+VOQQcXMq+T4AAAAAAADwP6lZVlAHaPE+ycfuAiUFNj97FK5H4XqEPyxDHOviNho/L26jAbwFUj/waOOItfgEPw9GuYFH2ZI//Knx0k1iQD85tMh2vp96P/yp8dJNYlA/ycfuAiUF9j4TpGTISpKEPyxDHOviNvo+P2HhCHjw6D7S+8bXnlkSP2EyVTAqqTM/ycfuAiUF9j4sQxzr4jYaP/ydN182S/M+ycfuAiUF9j7wSz/Ze477Pj+rzJTW3/I+ycfuAiUF5j48NxtNK6lDP2EyVTAqqSM/WmQ730+Nxz/Jx+4CJQUmP/yp8dJNYlA/7oEjbyPfQT9f8XWN5iX3PsnH7gIlBfY+ycfuAiUF9j4QukEb1i33Pvyp8dJNYlA/eekmMQisXD8twS+PQR4XP7x5qkNuhis/W+uLhLacxz/8qfHSTWJQPyxDHOviNgo/FYxK6gQ0YT8sQxzr4jb6PixDHOviNho/xY8xdy0hfz8qNuZ1xCErP8nH7gIlBRY/ycfuAiUF9j6N7bWg98YQP85wAz4/jIA/ycfuAiUF9j6ul5Tfe44bPzgBR+9NdPo+eekmMQisfD+8eapDboYbP8nH7gIlBfY+aR1VTRB1Hz92j8dnDTkxP4p7FeFyMQA/84HTceskAT8sQxzr4jYaP43ttaD3xhA/B9OLNbedwT7Jx+4CJQUmP3sUrkfheoQ/WtO84xQduT/8qfHSTWJwP3npJjEIrHw//Knx0k1iUD/Jx+4CJQUGP5mZmZmZmak/vHmqQ26GGz/waOOItfjUPsWtghjo2ic/XxllR/R8xz4VjErqBDRhP7x5qkNuhis/Nnixsm6t+T6iJvp8lBHnPvneSpT18FY/ycfuAiUF9j4=\",\"dtype\":\"float64\",\"order\":\"little\",\"shape\":[259]},\"TotalCoinsMined\":{\"__ndarray__\":\"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\",\"dtype\":\"float64\",\"order\":\"little\",\"shape\":[259]}},\"selected\":{\"id\":\"20367\"},\"selection_policy\":{\"id\":\"20383\"}},\"id\":\"20366\",\"type\":\"ColumnDataSource\"},{\"attributes\":{\"coordinates\":null,\"data_source\":{\"id\":\"20345\"},\"glyph\":{\"id\":\"20348\"},\"group\":null,\"hover_glyph\":null,\"muted_glyph\":{\"id\":\"20350\"},\"nonselection_glyph\":{\"id\":\"20349\"},\"selection_glyph\":{\"id\":\"20365\"},\"view\":{\"id\":\"20352\"}},\"id\":\"20351\",\"type\":\"GlyphRenderer\"},{\"attributes\":{\"fill_alpha\":{\"value\":0.1},\"fill_color\":{\"value\":\"#6d904f\"},\"hatch_alpha\":{\"value\":0.1},\"hatch_color\":{\"value\":\"#6d904f\"},\"line_alpha\":{\"value\":0.1},\"line_color\":{\"value\":\"#6d904f\"},\"size\":{\"value\":5.477225575051661},\"x\":{\"field\":\"TotalCoinsMined\"},\"y\":{\"field\":\"TotalCoinSupply\"}},\"id\":\"20416\",\"type\":\"Scatter\"},{\"attributes\":{\"fill_alpha\":{\"value\":0.2},\"fill_color\":{\"value\":\"#30a2da\"},\"hatch_alpha\":{\"value\":0.2},\"hatch_color\":{\"value\":\"#30a2da\"},\"line_alpha\":{\"value\":0.2},\"line_color\":{\"value\":\"#30a2da\"},\"size\":{\"value\":5.477225575051661},\"x\":{\"field\":\"TotalCoinsMined\"},\"y\":{\"field\":\"TotalCoinSupply\"}},\"id\":\"20350\",\"type\":\"Scatter\"},{\"attributes\":{\"end\":1.042857142857143,\"reset_end\":1.042857142857143,\"reset_start\":-0.04285714285714286,\"start\":-0.04285714285714286,\"tags\":[[[\"TotalCoinsMined\",\"TotalCoinsMined\",null]]]},\"id\":\"20303\",\"type\":\"Range1d\"},{\"attributes\":{},\"id\":\"20341\",\"type\":\"AllLabels\"},{\"attributes\":{\"source\":{\"id\":\"20345\"}},\"id\":\"20352\",\"type\":\"CDSView\"}],\"root_ids\":[\"20301\"]},\"title\":\"Bokeh Application\",\"version\":\"2.4.2\"}};\n",
       "    var render_items = [{\"docid\":\"d0ddedc1-bc4f-4a94-896e-f172535735a7\",\"root_ids\":[\"20301\"],\"roots\":{\"20301\":\"386af449-a130-40a1-9a50-b3cc80015442\"}}];\n",
       "    root.Bokeh.embed.embed_items_notebook(docs_json, render_items);\n",
       "  }\n",
       "  if (root.Bokeh !== undefined && root.Bokeh.Panel !== undefined) {\n",
       "    embed_document(root);\n",
       "  } else {\n",
       "    var attempts = 0;\n",
       "    var timer = setInterval(function(root) {\n",
       "      if (root.Bokeh !== undefined && root.Bokeh.Panel !== undefined) {\n",
       "        clearInterval(timer);\n",
       "        embed_document(root);\n",
       "      } else if (document.readyState == \"complete\") {\n",
       "        attempts++;\n",
       "        if (attempts > 200) {\n",
       "          clearInterval(timer);\n",
       "          console.log(\"Bokeh: ERROR: Unable to run BokehJS code because BokehJS library is missing\");\n",
       "        }\n",
       "      }\n",
       "    }, 25, root)\n",
       "  }\n",
       "})(window);</script>"
      ],
      "text/plain": [
       ":NdOverlay   [Class]\n",
       "   :Scatter   [TotalCoinsMined]   (TotalCoinSupply,CoinName)"
      ]
     },
     "execution_count": 93,
     "metadata": {
      "application/vnd.holoviews_exec.v0+json": {
       "id": "20301"
      }
     },
     "output_type": "execute_result"
    }
   ],
   "source": [
    "# Create a hvplot.scatter plot using x=\"TotalCoinsMined\" and y=\"TotalCoinSupply\".\n",
    "\n",
    "plot_df.hvplot.scatter(\n",
    "    x=\"TotalCoinsMined\",\n",
    "    y=\"TotalCoinSupply\",\n",
    "    hover_cols=\"CoinName\",\n",
    "    by=\"Class\",\n",
    ")"
   ]
  }
 ],
 "metadata": {
  "file_extension": ".py",
  "kernelspec": {
   "display_name": "mlenv",
   "language": "python",
   "name": "mlenv"
  },
  "language_info": {
   "codemirror_mode": {
    "name": "ipython",
    "version": 3
   },
   "file_extension": ".py",
   "mimetype": "text/x-python",
   "name": "python",
   "nbconvert_exporter": "python",
   "pygments_lexer": "ipython3",
   "version": "3.7.11"
  },
  "latex_envs": {
   "LaTeX_envs_menu_present": true,
   "autoclose": false,
   "autocomplete": true,
   "bibliofile": "biblio.bib",
   "cite_by": "apalike",
   "current_citInitial": 1,
   "eqLabelWithNumbers": true,
   "eqNumInitial": 1,
   "hotkeys": {
    "equation": "Ctrl-E",
    "itemize": "Ctrl-I"
   },
   "labels_anchors": false,
   "latex_user_defs": false,
   "report_style_numbering": false,
   "user_envs_cfg": false
  },
  "mimetype": "text/x-python",
  "name": "python",
  "npconvert_exporter": "python",
  "pygments_lexer": "ipython3",
  "version": 3
 },
 "nbformat": 4,
 "nbformat_minor": 2
}
